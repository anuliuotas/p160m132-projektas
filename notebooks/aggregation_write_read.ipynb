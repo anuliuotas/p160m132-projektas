{
 "cells": [
  {
   "cell_type": "markdown",
   "metadata": {},
   "source": [
    "# `customer_usage_<varianto_nr>` failo agregavimas pagal vartotojo id"
   ]
  },
  {
   "cell_type": "markdown",
   "metadata": {},
   "source": [
    "Šiame Jupyter bloknote pateiktas paprasto agregavimo pavyzdys. Tarpiniai rezultatai išvedami į ekraną, todėl bloknotas sąlyginai ilgas, nors visas reikalingas kodas pilnai tilptų į dalį ekrano aukščio."
   ]
  },
  {
   "cell_type": "code",
   "execution_count": 35,
   "metadata": {},
   "outputs": [],
   "source": [
    "import os\n",
    "\n",
    "import pyspark"
   ]
  },
  {
   "cell_type": "code",
   "execution_count": 36,
   "metadata": {},
   "outputs": [],
   "source": [
    "spark = (\n",
    "    pyspark.sql.SparkSession\n",
    "    .builder\n",
    "    .appName(\"Python Spark SQL aggregation example\")\n",
    "    .enableHiveSupport()\n",
    "    .getOrCreate()\n",
    ")"
   ]
  },
  {
   "cell_type": "markdown",
   "metadata": {},
   "source": [
    "Sukursime direktoriją visiems tarpiniams duomenų failams ir kitoms išvestims."
   ]
  },
  {
   "cell_type": "code",
   "execution_count": 37,
   "metadata": {},
   "outputs": [],
   "source": [
    "os.makedirs(os.path.join(os.getcwd(), \"..\", \"data\", \"output\"), exist_ok=True)"
   ]
  },
  {
   "cell_type": "code",
   "execution_count": 38,
   "metadata": {},
   "outputs": [
    {
     "name": "stdout",
     "output_type": "stream",
     "text": [
      "\u001b[01;34m../data\u001b[00m\r\n",
      "├── \u001b[01;32mcreate_data_sample.sh\u001b[00m\r\n",
      "├── \u001b[01;34mexternal\u001b[00m\r\n",
      "├── \u001b[01;34minterim\u001b[00m\r\n",
      "│   ├── customer_churn.csv\r\n",
      "│   └── customer_usage.csv\r\n",
      "├── \u001b[01;34moutput\u001b[00m\r\n",
      "│   ├── \u001b[01;34maggregated_customer_usage\u001b[00m\r\n",
      "│   │   ├── part-00000-4bb548db-468c-44b8-a839-59769b2cb5b6-c000.csv\r\n",
      "│   │   ├── part-00001-4bb548db-468c-44b8-a839-59769b2cb5b6-c000.csv\r\n",
      "│   │   ├── part-00002-4bb548db-468c-44b8-a839-59769b2cb5b6-c000.csv\r\n",
      "│   │   ├── part-00003-4bb548db-468c-44b8-a839-59769b2cb5b6-c000.csv\r\n",
      "│   │   ├── part-00004-4bb548db-468c-44b8-a839-59769b2cb5b6-c000.csv\r\n",
      "│   │   ├── part-00005-4bb548db-468c-44b8-a839-59769b2cb5b6-c000.csv\r\n",
      "│   │   ├── part-00006-4bb548db-468c-44b8-a839-59769b2cb5b6-c000.csv\r\n",
      "│   │   ├── part-00007-4bb548db-468c-44b8-a839-59769b2cb5b6-c000.csv\r\n",
      "│   │   ├── part-00008-4bb548db-468c-44b8-a839-59769b2cb5b6-c000.csv\r\n",
      "│   │   ├── part-00009-4bb548db-468c-44b8-a839-59769b2cb5b6-c000.csv\r\n",
      "│   │   ├── part-00010-4bb548db-468c-44b8-a839-59769b2cb5b6-c000.csv\r\n",
      "│   │   ├── part-00011-4bb548db-468c-44b8-a839-59769b2cb5b6-c000.csv\r\n",
      "│   │   ├── part-00012-4bb548db-468c-44b8-a839-59769b2cb5b6-c000.csv\r\n",
      "│   │   ├── part-00013-4bb548db-468c-44b8-a839-59769b2cb5b6-c000.csv\r\n",
      "│   │   ├── part-00014-4bb548db-468c-44b8-a839-59769b2cb5b6-c000.csv\r\n",
      "│   │   ├── part-00015-4bb548db-468c-44b8-a839-59769b2cb5b6-c000.csv\r\n",
      "│   │   ├── part-00016-4bb548db-468c-44b8-a839-59769b2cb5b6-c000.csv\r\n",
      "│   │   ├── part-00017-4bb548db-468c-44b8-a839-59769b2cb5b6-c000.csv\r\n",
      "│   │   ├── part-00018-4bb548db-468c-44b8-a839-59769b2cb5b6-c000.csv\r\n",
      "│   │   ├── part-00019-4bb548db-468c-44b8-a839-59769b2cb5b6-c000.csv\r\n",
      "│   │   ├── part-00020-4bb548db-468c-44b8-a839-59769b2cb5b6-c000.csv\r\n",
      "│   │   ├── part-00021-4bb548db-468c-44b8-a839-59769b2cb5b6-c000.csv\r\n",
      "│   │   ├── part-00022-4bb548db-468c-44b8-a839-59769b2cb5b6-c000.csv\r\n",
      "│   │   ├── part-00023-4bb548db-468c-44b8-a839-59769b2cb5b6-c000.csv\r\n",
      "│   │   ├── part-00024-4bb548db-468c-44b8-a839-59769b2cb5b6-c000.csv\r\n",
      "│   │   ├── part-00025-4bb548db-468c-44b8-a839-59769b2cb5b6-c000.csv\r\n",
      "│   │   ├── part-00026-4bb548db-468c-44b8-a839-59769b2cb5b6-c000.csv\r\n",
      "│   │   ├── part-00027-4bb548db-468c-44b8-a839-59769b2cb5b6-c000.csv\r\n",
      "│   │   ├── part-00028-4bb548db-468c-44b8-a839-59769b2cb5b6-c000.csv\r\n",
      "│   │   ├── part-00029-4bb548db-468c-44b8-a839-59769b2cb5b6-c000.csv\r\n",
      "│   │   ├── part-00030-4bb548db-468c-44b8-a839-59769b2cb5b6-c000.csv\r\n",
      "│   │   ├── part-00031-4bb548db-468c-44b8-a839-59769b2cb5b6-c000.csv\r\n",
      "│   │   ├── part-00032-4bb548db-468c-44b8-a839-59769b2cb5b6-c000.csv\r\n",
      "│   │   ├── part-00033-4bb548db-468c-44b8-a839-59769b2cb5b6-c000.csv\r\n",
      "│   │   ├── part-00034-4bb548db-468c-44b8-a839-59769b2cb5b6-c000.csv\r\n",
      "│   │   ├── part-00035-4bb548db-468c-44b8-a839-59769b2cb5b6-c000.csv\r\n",
      "│   │   ├── part-00036-4bb548db-468c-44b8-a839-59769b2cb5b6-c000.csv\r\n",
      "│   │   ├── part-00037-4bb548db-468c-44b8-a839-59769b2cb5b6-c000.csv\r\n",
      "│   │   ├── part-00038-4bb548db-468c-44b8-a839-59769b2cb5b6-c000.csv\r\n",
      "│   │   ├── part-00039-4bb548db-468c-44b8-a839-59769b2cb5b6-c000.csv\r\n",
      "│   │   ├── part-00040-4bb548db-468c-44b8-a839-59769b2cb5b6-c000.csv\r\n",
      "│   │   ├── part-00041-4bb548db-468c-44b8-a839-59769b2cb5b6-c000.csv\r\n",
      "│   │   ├── part-00042-4bb548db-468c-44b8-a839-59769b2cb5b6-c000.csv\r\n",
      "│   │   ├── part-00043-4bb548db-468c-44b8-a839-59769b2cb5b6-c000.csv\r\n",
      "│   │   ├── part-00044-4bb548db-468c-44b8-a839-59769b2cb5b6-c000.csv\r\n",
      "│   │   ├── part-00045-4bb548db-468c-44b8-a839-59769b2cb5b6-c000.csv\r\n",
      "│   │   ├── part-00046-4bb548db-468c-44b8-a839-59769b2cb5b6-c000.csv\r\n",
      "│   │   ├── part-00047-4bb548db-468c-44b8-a839-59769b2cb5b6-c000.csv\r\n",
      "│   │   ├── part-00048-4bb548db-468c-44b8-a839-59769b2cb5b6-c000.csv\r\n",
      "│   │   ├── part-00049-4bb548db-468c-44b8-a839-59769b2cb5b6-c000.csv\r\n",
      "│   │   ├── part-00050-4bb548db-468c-44b8-a839-59769b2cb5b6-c000.csv\r\n",
      "│   │   ├── part-00051-4bb548db-468c-44b8-a839-59769b2cb5b6-c000.csv\r\n",
      "│   │   ├── part-00052-4bb548db-468c-44b8-a839-59769b2cb5b6-c000.csv\r\n",
      "│   │   ├── part-00053-4bb548db-468c-44b8-a839-59769b2cb5b6-c000.csv\r\n",
      "│   │   ├── part-00054-4bb548db-468c-44b8-a839-59769b2cb5b6-c000.csv\r\n",
      "│   │   ├── part-00055-4bb548db-468c-44b8-a839-59769b2cb5b6-c000.csv\r\n",
      "│   │   ├── part-00056-4bb548db-468c-44b8-a839-59769b2cb5b6-c000.csv\r\n",
      "│   │   ├── part-00057-4bb548db-468c-44b8-a839-59769b2cb5b6-c000.csv\r\n",
      "│   │   ├── part-00058-4bb548db-468c-44b8-a839-59769b2cb5b6-c000.csv\r\n",
      "│   │   ├── part-00059-4bb548db-468c-44b8-a839-59769b2cb5b6-c000.csv\r\n",
      "│   │   ├── part-00060-4bb548db-468c-44b8-a839-59769b2cb5b6-c000.csv\r\n",
      "│   │   ├── part-00061-4bb548db-468c-44b8-a839-59769b2cb5b6-c000.csv\r\n",
      "│   │   ├── part-00062-4bb548db-468c-44b8-a839-59769b2cb5b6-c000.csv\r\n",
      "│   │   ├── part-00063-4bb548db-468c-44b8-a839-59769b2cb5b6-c000.csv\r\n",
      "│   │   ├── part-00064-4bb548db-468c-44b8-a839-59769b2cb5b6-c000.csv\r\n",
      "│   │   ├── part-00065-4bb548db-468c-44b8-a839-59769b2cb5b6-c000.csv\r\n",
      "│   │   ├── part-00066-4bb548db-468c-44b8-a839-59769b2cb5b6-c000.csv\r\n",
      "│   │   ├── part-00067-4bb548db-468c-44b8-a839-59769b2cb5b6-c000.csv\r\n",
      "│   │   ├── part-00068-4bb548db-468c-44b8-a839-59769b2cb5b6-c000.csv\r\n",
      "│   │   ├── part-00069-4bb548db-468c-44b8-a839-59769b2cb5b6-c000.csv\r\n",
      "│   │   ├── part-00070-4bb548db-468c-44b8-a839-59769b2cb5b6-c000.csv\r\n",
      "│   │   ├── part-00071-4bb548db-468c-44b8-a839-59769b2cb5b6-c000.csv\r\n",
      "│   │   ├── part-00072-4bb548db-468c-44b8-a839-59769b2cb5b6-c000.csv\r\n",
      "│   │   ├── part-00073-4bb548db-468c-44b8-a839-59769b2cb5b6-c000.csv\r\n",
      "│   │   ├── part-00074-4bb548db-468c-44b8-a839-59769b2cb5b6-c000.csv\r\n",
      "│   │   ├── part-00075-4bb548db-468c-44b8-a839-59769b2cb5b6-c000.csv\r\n",
      "│   │   ├── part-00076-4bb548db-468c-44b8-a839-59769b2cb5b6-c000.csv\r\n",
      "│   │   ├── part-00077-4bb548db-468c-44b8-a839-59769b2cb5b6-c000.csv\r\n",
      "│   │   ├── part-00078-4bb548db-468c-44b8-a839-59769b2cb5b6-c000.csv\r\n",
      "│   │   ├── part-00079-4bb548db-468c-44b8-a839-59769b2cb5b6-c000.csv\r\n",
      "│   │   ├── part-00080-4bb548db-468c-44b8-a839-59769b2cb5b6-c000.csv\r\n",
      "│   │   ├── part-00081-4bb548db-468c-44b8-a839-59769b2cb5b6-c000.csv\r\n",
      "│   │   ├── part-00082-4bb548db-468c-44b8-a839-59769b2cb5b6-c000.csv\r\n",
      "│   │   ├── part-00083-4bb548db-468c-44b8-a839-59769b2cb5b6-c000.csv\r\n",
      "│   │   ├── part-00084-4bb548db-468c-44b8-a839-59769b2cb5b6-c000.csv\r\n",
      "│   │   ├── part-00085-4bb548db-468c-44b8-a839-59769b2cb5b6-c000.csv\r\n",
      "│   │   ├── part-00086-4bb548db-468c-44b8-a839-59769b2cb5b6-c000.csv\r\n",
      "│   │   ├── part-00087-4bb548db-468c-44b8-a839-59769b2cb5b6-c000.csv\r\n",
      "│   │   ├── part-00088-4bb548db-468c-44b8-a839-59769b2cb5b6-c000.csv\r\n",
      "│   │   ├── part-00089-4bb548db-468c-44b8-a839-59769b2cb5b6-c000.csv\r\n",
      "│   │   ├── part-00090-4bb548db-468c-44b8-a839-59769b2cb5b6-c000.csv\r\n",
      "│   │   ├── part-00091-4bb548db-468c-44b8-a839-59769b2cb5b6-c000.csv\r\n",
      "│   │   ├── part-00092-4bb548db-468c-44b8-a839-59769b2cb5b6-c000.csv\r\n",
      "│   │   ├── part-00093-4bb548db-468c-44b8-a839-59769b2cb5b6-c000.csv\r\n",
      "│   │   ├── part-00094-4bb548db-468c-44b8-a839-59769b2cb5b6-c000.csv\r\n",
      "│   │   ├── part-00095-4bb548db-468c-44b8-a839-59769b2cb5b6-c000.csv\r\n",
      "│   │   ├── part-00096-4bb548db-468c-44b8-a839-59769b2cb5b6-c000.csv\r\n",
      "│   │   ├── part-00097-4bb548db-468c-44b8-a839-59769b2cb5b6-c000.csv\r\n",
      "│   │   ├── part-00098-4bb548db-468c-44b8-a839-59769b2cb5b6-c000.csv\r\n",
      "│   │   ├── part-00099-4bb548db-468c-44b8-a839-59769b2cb5b6-c000.csv\r\n",
      "│   │   ├── part-00100-4bb548db-468c-44b8-a839-59769b2cb5b6-c000.csv\r\n",
      "│   │   ├── part-00101-4bb548db-468c-44b8-a839-59769b2cb5b6-c000.csv\r\n",
      "│   │   ├── part-00102-4bb548db-468c-44b8-a839-59769b2cb5b6-c000.csv\r\n",
      "│   │   ├── part-00103-4bb548db-468c-44b8-a839-59769b2cb5b6-c000.csv\r\n",
      "│   │   ├── part-00104-4bb548db-468c-44b8-a839-59769b2cb5b6-c000.csv\r\n",
      "│   │   ├── part-00105-4bb548db-468c-44b8-a839-59769b2cb5b6-c000.csv\r\n",
      "│   │   ├── part-00106-4bb548db-468c-44b8-a839-59769b2cb5b6-c000.csv\r\n",
      "│   │   ├── part-00107-4bb548db-468c-44b8-a839-59769b2cb5b6-c000.csv\r\n",
      "│   │   ├── part-00108-4bb548db-468c-44b8-a839-59769b2cb5b6-c000.csv\r\n",
      "│   │   ├── part-00109-4bb548db-468c-44b8-a839-59769b2cb5b6-c000.csv\r\n",
      "│   │   ├── part-00110-4bb548db-468c-44b8-a839-59769b2cb5b6-c000.csv\r\n",
      "│   │   ├── part-00111-4bb548db-468c-44b8-a839-59769b2cb5b6-c000.csv\r\n",
      "│   │   ├── part-00112-4bb548db-468c-44b8-a839-59769b2cb5b6-c000.csv\r\n",
      "│   │   ├── part-00113-4bb548db-468c-44b8-a839-59769b2cb5b6-c000.csv\r\n",
      "│   │   ├── part-00114-4bb548db-468c-44b8-a839-59769b2cb5b6-c000.csv\r\n",
      "│   │   ├── part-00115-4bb548db-468c-44b8-a839-59769b2cb5b6-c000.csv\r\n",
      "│   │   ├── part-00116-4bb548db-468c-44b8-a839-59769b2cb5b6-c000.csv\r\n",
      "│   │   ├── part-00117-4bb548db-468c-44b8-a839-59769b2cb5b6-c000.csv\r\n",
      "│   │   ├── part-00118-4bb548db-468c-44b8-a839-59769b2cb5b6-c000.csv\r\n",
      "│   │   ├── part-00119-4bb548db-468c-44b8-a839-59769b2cb5b6-c000.csv\r\n",
      "│   │   ├── part-00120-4bb548db-468c-44b8-a839-59769b2cb5b6-c000.csv\r\n",
      "│   │   ├── part-00121-4bb548db-468c-44b8-a839-59769b2cb5b6-c000.csv\r\n",
      "│   │   ├── part-00122-4bb548db-468c-44b8-a839-59769b2cb5b6-c000.csv\r\n",
      "│   │   ├── part-00123-4bb548db-468c-44b8-a839-59769b2cb5b6-c000.csv\r\n",
      "│   │   ├── part-00124-4bb548db-468c-44b8-a839-59769b2cb5b6-c000.csv\r\n",
      "│   │   ├── part-00125-4bb548db-468c-44b8-a839-59769b2cb5b6-c000.csv\r\n",
      "│   │   ├── part-00126-4bb548db-468c-44b8-a839-59769b2cb5b6-c000.csv\r\n",
      "│   │   ├── part-00127-4bb548db-468c-44b8-a839-59769b2cb5b6-c000.csv\r\n",
      "│   │   ├── part-00128-4bb548db-468c-44b8-a839-59769b2cb5b6-c000.csv\r\n",
      "│   │   ├── part-00129-4bb548db-468c-44b8-a839-59769b2cb5b6-c000.csv\r\n",
      "│   │   ├── part-00130-4bb548db-468c-44b8-a839-59769b2cb5b6-c000.csv\r\n",
      "│   │   ├── part-00131-4bb548db-468c-44b8-a839-59769b2cb5b6-c000.csv\r\n",
      "│   │   ├── part-00132-4bb548db-468c-44b8-a839-59769b2cb5b6-c000.csv\r\n",
      "│   │   ├── part-00133-4bb548db-468c-44b8-a839-59769b2cb5b6-c000.csv\r\n",
      "│   │   ├── part-00134-4bb548db-468c-44b8-a839-59769b2cb5b6-c000.csv\r\n",
      "│   │   ├── part-00135-4bb548db-468c-44b8-a839-59769b2cb5b6-c000.csv\r\n",
      "│   │   ├── part-00136-4bb548db-468c-44b8-a839-59769b2cb5b6-c000.csv\r\n",
      "│   │   ├── part-00137-4bb548db-468c-44b8-a839-59769b2cb5b6-c000.csv\r\n",
      "│   │   ├── part-00138-4bb548db-468c-44b8-a839-59769b2cb5b6-c000.csv\r\n",
      "│   │   ├── part-00139-4bb548db-468c-44b8-a839-59769b2cb5b6-c000.csv\r\n",
      "│   │   ├── part-00140-4bb548db-468c-44b8-a839-59769b2cb5b6-c000.csv\r\n",
      "│   │   ├── part-00141-4bb548db-468c-44b8-a839-59769b2cb5b6-c000.csv\r\n",
      "│   │   ├── part-00142-4bb548db-468c-44b8-a839-59769b2cb5b6-c000.csv\r\n",
      "│   │   ├── part-00143-4bb548db-468c-44b8-a839-59769b2cb5b6-c000.csv\r\n",
      "│   │   ├── part-00144-4bb548db-468c-44b8-a839-59769b2cb5b6-c000.csv\r\n",
      "│   │   ├── part-00145-4bb548db-468c-44b8-a839-59769b2cb5b6-c000.csv\r\n",
      "│   │   ├── part-00146-4bb548db-468c-44b8-a839-59769b2cb5b6-c000.csv\r\n",
      "│   │   ├── part-00147-4bb548db-468c-44b8-a839-59769b2cb5b6-c000.csv\r\n",
      "│   │   ├── part-00148-4bb548db-468c-44b8-a839-59769b2cb5b6-c000.csv\r\n",
      "│   │   ├── part-00149-4bb548db-468c-44b8-a839-59769b2cb5b6-c000.csv\r\n",
      "│   │   ├── part-00150-4bb548db-468c-44b8-a839-59769b2cb5b6-c000.csv\r\n",
      "│   │   ├── part-00151-4bb548db-468c-44b8-a839-59769b2cb5b6-c000.csv\r\n",
      "│   │   ├── part-00152-4bb548db-468c-44b8-a839-59769b2cb5b6-c000.csv\r\n",
      "│   │   ├── part-00153-4bb548db-468c-44b8-a839-59769b2cb5b6-c000.csv\r\n",
      "│   │   ├── part-00154-4bb548db-468c-44b8-a839-59769b2cb5b6-c000.csv\r\n",
      "│   │   ├── part-00155-4bb548db-468c-44b8-a839-59769b2cb5b6-c000.csv\r\n",
      "│   │   ├── part-00156-4bb548db-468c-44b8-a839-59769b2cb5b6-c000.csv\r\n",
      "│   │   ├── part-00157-4bb548db-468c-44b8-a839-59769b2cb5b6-c000.csv\r\n",
      "│   │   ├── part-00158-4bb548db-468c-44b8-a839-59769b2cb5b6-c000.csv\r\n",
      "│   │   ├── part-00159-4bb548db-468c-44b8-a839-59769b2cb5b6-c000.csv\r\n",
      "│   │   ├── part-00160-4bb548db-468c-44b8-a839-59769b2cb5b6-c000.csv\r\n",
      "│   │   ├── part-00161-4bb548db-468c-44b8-a839-59769b2cb5b6-c000.csv\r\n",
      "│   │   ├── part-00162-4bb548db-468c-44b8-a839-59769b2cb5b6-c000.csv\r\n",
      "│   │   ├── part-00163-4bb548db-468c-44b8-a839-59769b2cb5b6-c000.csv\r\n",
      "│   │   ├── part-00164-4bb548db-468c-44b8-a839-59769b2cb5b6-c000.csv\r\n",
      "│   │   ├── part-00165-4bb548db-468c-44b8-a839-59769b2cb5b6-c000.csv\r\n",
      "│   │   ├── part-00166-4bb548db-468c-44b8-a839-59769b2cb5b6-c000.csv\r\n",
      "│   │   ├── part-00167-4bb548db-468c-44b8-a839-59769b2cb5b6-c000.csv\r\n",
      "│   │   ├── part-00168-4bb548db-468c-44b8-a839-59769b2cb5b6-c000.csv\r\n",
      "│   │   ├── part-00169-4bb548db-468c-44b8-a839-59769b2cb5b6-c000.csv\r\n",
      "│   │   ├── part-00170-4bb548db-468c-44b8-a839-59769b2cb5b6-c000.csv\r\n",
      "│   │   ├── part-00171-4bb548db-468c-44b8-a839-59769b2cb5b6-c000.csv\r\n",
      "│   │   ├── part-00172-4bb548db-468c-44b8-a839-59769b2cb5b6-c000.csv\r\n",
      "│   │   ├── part-00173-4bb548db-468c-44b8-a839-59769b2cb5b6-c000.csv\r\n",
      "│   │   ├── part-00174-4bb548db-468c-44b8-a839-59769b2cb5b6-c000.csv\r\n",
      "│   │   ├── part-00175-4bb548db-468c-44b8-a839-59769b2cb5b6-c000.csv\r\n",
      "│   │   ├── part-00176-4bb548db-468c-44b8-a839-59769b2cb5b6-c000.csv\r\n",
      "│   │   ├── part-00177-4bb548db-468c-44b8-a839-59769b2cb5b6-c000.csv\r\n",
      "│   │   ├── part-00178-4bb548db-468c-44b8-a839-59769b2cb5b6-c000.csv\r\n",
      "│   │   ├── part-00179-4bb548db-468c-44b8-a839-59769b2cb5b6-c000.csv\r\n",
      "│   │   ├── part-00180-4bb548db-468c-44b8-a839-59769b2cb5b6-c000.csv\r\n",
      "│   │   ├── part-00181-4bb548db-468c-44b8-a839-59769b2cb5b6-c000.csv\r\n",
      "│   │   ├── part-00182-4bb548db-468c-44b8-a839-59769b2cb5b6-c000.csv\r\n",
      "│   │   ├── part-00183-4bb548db-468c-44b8-a839-59769b2cb5b6-c000.csv\r\n",
      "│   │   ├── part-00184-4bb548db-468c-44b8-a839-59769b2cb5b6-c000.csv\r\n",
      "│   │   ├── part-00185-4bb548db-468c-44b8-a839-59769b2cb5b6-c000.csv\r\n",
      "│   │   ├── part-00186-4bb548db-468c-44b8-a839-59769b2cb5b6-c000.csv\r\n",
      "│   │   ├── part-00187-4bb548db-468c-44b8-a839-59769b2cb5b6-c000.csv\r\n",
      "│   │   ├── part-00188-4bb548db-468c-44b8-a839-59769b2cb5b6-c000.csv\r\n",
      "│   │   ├── part-00189-4bb548db-468c-44b8-a839-59769b2cb5b6-c000.csv\r\n",
      "│   │   ├── part-00190-4bb548db-468c-44b8-a839-59769b2cb5b6-c000.csv\r\n",
      "│   │   ├── part-00191-4bb548db-468c-44b8-a839-59769b2cb5b6-c000.csv\r\n",
      "│   │   ├── part-00192-4bb548db-468c-44b8-a839-59769b2cb5b6-c000.csv\r\n",
      "│   │   ├── part-00193-4bb548db-468c-44b8-a839-59769b2cb5b6-c000.csv\r\n",
      "│   │   ├── part-00194-4bb548db-468c-44b8-a839-59769b2cb5b6-c000.csv\r\n",
      "│   │   ├── part-00195-4bb548db-468c-44b8-a839-59769b2cb5b6-c000.csv\r\n",
      "│   │   ├── part-00196-4bb548db-468c-44b8-a839-59769b2cb5b6-c000.csv\r\n",
      "│   │   ├── part-00197-4bb548db-468c-44b8-a839-59769b2cb5b6-c000.csv\r\n",
      "│   │   ├── part-00198-4bb548db-468c-44b8-a839-59769b2cb5b6-c000.csv\r\n",
      "│   │   ├── part-00199-4bb548db-468c-44b8-a839-59769b2cb5b6-c000.csv\r\n",
      "│   │   └── _SUCCESS\r\n",
      "│   └── header__aggregated_customer_usage.txt\r\n",
      "├── \u001b[01;34mprocessed\u001b[00m\r\n",
      "└── \u001b[01;34mraw\u001b[00m\r\n",
      "    ├── customer_churn_0005.csv\r\n",
      "    └── customer_usage_0005.csv\r\n",
      "\r\n",
      "6 directories, 207 files\r\n"
     ]
    }
   ],
   "source": [
    "! tree ../data"
   ]
  },
  {
   "cell_type": "markdown",
   "metadata": {},
   "source": [
    "### CSV Nuskaitymas"
   ]
  },
  {
   "cell_type": "code",
   "execution_count": 39,
   "metadata": {},
   "outputs": [],
   "source": [
    "usage_df = spark.read.csv(\"../data/interim/customer_usage.csv\", header=True, inferSchema=True)"
   ]
  },
  {
   "cell_type": "code",
   "execution_count": 40,
   "metadata": {},
   "outputs": [
    {
     "data": {
      "text/plain": [
       "DataFrame[year: int, month: int, user_account_id: int, user_lifetime: int, user_intake: int, user_no_outgoing_activity_in_days: int, user_account_balance_last: double, user_spendings: double, user_has_outgoing_calls: int, user_has_outgoing_sms: int, user_use_gprs: int, user_does_reload: int, reloads_inactive_days: int, reloads_count: int, reloads_sum: double, calls_outgoing_count: int, calls_outgoing_spendings: double, calls_outgoing_duration: double, calls_outgoing_spendings_max: double, calls_outgoing_duration_max: double, calls_outgoing_inactive_days: int, calls_outgoing_to_onnet_count: int, calls_outgoing_to_onnet_spendings: double, calls_outgoing_to_onnet_duration: double, calls_outgoing_to_onnet_inactive_days: int, calls_outgoing_to_offnet_count: int, calls_outgoing_to_offnet_spendings: double, calls_outgoing_to_offnet_duration: double, calls_outgoing_to_offnet_inactive_days: int, calls_outgoing_to_abroad_count: int, calls_outgoing_to_abroad_spendings: double, calls_outgoing_to_abroad_duration: double, calls_outgoing_to_abroad_inactive_days: int, sms_outgoing_count: int, sms_outgoing_spendings: double, sms_outgoing_spendings_max: double, sms_outgoing_inactive_days: int, sms_outgoing_to_onnet_count: int, sms_outgoing_to_onnet_spendings: double, sms_outgoing_to_onnet_inactive_days: int, sms_outgoing_to_offnet_count: int, sms_outgoing_to_offnet_spendings: double, sms_outgoing_to_offnet_inactive_days: int, sms_outgoing_to_abroad_count: int, sms_outgoing_to_abroad_spendings: double, sms_outgoing_to_abroad_inactive_days: int, sms_incoming_count: int, sms_incoming_spendings: double, sms_incoming_from_abroad_count: int, sms_incoming_from_abroad_spendings: double, gprs_session_count: int, gprs_usage: double, gprs_spendings: double, gprs_inactive_days: int, last_100_reloads_count: int, last_100_reloads_sum: double, last_100_calls_outgoing_duration: double, last_100_calls_outgoing_to_onnet_duration: double, last_100_calls_outgoing_to_offnet_duration: double, last_100_calls_outgoing_to_abroad_duration: double, last_100_sms_outgoing_count: int, last_100_sms_outgoing_to_onnet_count: int, last_100_sms_outgoing_to_offnet_count: int, last_100_sms_outgoing_to_abroad_count: int, last_100_gprs_usage: double]"
      ]
     },
     "execution_count": 40,
     "metadata": {},
     "output_type": "execute_result"
    }
   ],
   "source": [
    "usage_df"
   ]
  },
  {
   "cell_type": "markdown",
   "metadata": {},
   "source": [
    "Sukuriame laikiną lentelę."
   ]
  },
  {
   "cell_type": "code",
   "execution_count": 41,
   "metadata": {},
   "outputs": [],
   "source": [
    "usage_df.createOrReplaceTempView(\"customer_usage\")"
   ]
  },
  {
   "cell_type": "markdown",
   "metadata": {},
   "source": [
    "Datos kintamieji."
   ]
  },
  {
   "cell_type": "code",
   "execution_count": 42,
   "metadata": {},
   "outputs": [],
   "source": [
    "date_columns = [\"year\", \"month\"]"
   ]
  },
  {
   "cell_type": "markdown",
   "metadata": {},
   "source": [
    "Vartotojo ID kintamasis, saugome `list`'e , kad būtų paprasčiau apjunti vėliau."
   ]
  },
  {
   "cell_type": "code",
   "execution_count": 43,
   "metadata": {},
   "outputs": [],
   "source": [
    "id_columns = [\"user_account_id\"]"
   ]
  },
  {
   "cell_type": "markdown",
   "metadata": {},
   "source": [
    "Binariniai kintamieji."
   ]
  },
  {
   "cell_type": "code",
   "execution_count": 44,
   "metadata": {},
   "outputs": [],
   "source": [
    "binary_columns = [\n",
    "    \"user_intake\",\n",
    "    \"user_has_outgoing_calls\", \"user_has_outgoing_sms\", \n",
    "    \"user_use_gprs\", \"user_does_reload\"\n",
    "]"
   ]
  },
  {
   "cell_type": "markdown",
   "metadata": {},
   "source": [
    "Sukuriame tolydžiūjų kintamųjų `list`'ą."
   ]
  },
  {
   "cell_type": "code",
   "execution_count": 45,
   "metadata": {},
   "outputs": [
    {
     "data": {
      "text/plain": [
       "['user_lifetime',\n",
       " 'user_no_outgoing_activity_in_days',\n",
       " 'user_account_balance_last',\n",
       " 'user_spendings',\n",
       " 'reloads_inactive_days',\n",
       " 'reloads_count',\n",
       " 'reloads_sum',\n",
       " 'calls_outgoing_count',\n",
       " 'calls_outgoing_spendings',\n",
       " 'calls_outgoing_duration',\n",
       " 'calls_outgoing_spendings_max',\n",
       " 'calls_outgoing_duration_max',\n",
       " 'calls_outgoing_inactive_days',\n",
       " 'calls_outgoing_to_onnet_count',\n",
       " 'calls_outgoing_to_onnet_spendings',\n",
       " 'calls_outgoing_to_onnet_duration',\n",
       " 'calls_outgoing_to_onnet_inactive_days',\n",
       " 'calls_outgoing_to_offnet_count',\n",
       " 'calls_outgoing_to_offnet_spendings',\n",
       " 'calls_outgoing_to_offnet_duration',\n",
       " 'calls_outgoing_to_offnet_inactive_days',\n",
       " 'calls_outgoing_to_abroad_count',\n",
       " 'calls_outgoing_to_abroad_spendings',\n",
       " 'calls_outgoing_to_abroad_duration',\n",
       " 'calls_outgoing_to_abroad_inactive_days',\n",
       " 'sms_outgoing_count',\n",
       " 'sms_outgoing_spendings',\n",
       " 'sms_outgoing_spendings_max',\n",
       " 'sms_outgoing_inactive_days',\n",
       " 'sms_outgoing_to_onnet_count',\n",
       " 'sms_outgoing_to_onnet_spendings',\n",
       " 'sms_outgoing_to_onnet_inactive_days',\n",
       " 'sms_outgoing_to_offnet_count',\n",
       " 'sms_outgoing_to_offnet_spendings',\n",
       " 'sms_outgoing_to_offnet_inactive_days',\n",
       " 'sms_outgoing_to_abroad_count',\n",
       " 'sms_outgoing_to_abroad_spendings',\n",
       " 'sms_outgoing_to_abroad_inactive_days',\n",
       " 'sms_incoming_count',\n",
       " 'sms_incoming_spendings',\n",
       " 'sms_incoming_from_abroad_count',\n",
       " 'sms_incoming_from_abroad_spendings',\n",
       " 'gprs_session_count',\n",
       " 'gprs_usage',\n",
       " 'gprs_spendings',\n",
       " 'gprs_inactive_days',\n",
       " 'last_100_reloads_count',\n",
       " 'last_100_reloads_sum',\n",
       " 'last_100_calls_outgoing_duration',\n",
       " 'last_100_calls_outgoing_to_onnet_duration',\n",
       " 'last_100_calls_outgoing_to_offnet_duration',\n",
       " 'last_100_calls_outgoing_to_abroad_duration',\n",
       " 'last_100_sms_outgoing_count',\n",
       " 'last_100_sms_outgoing_to_onnet_count',\n",
       " 'last_100_sms_outgoing_to_offnet_count',\n",
       " 'last_100_sms_outgoing_to_abroad_count',\n",
       " 'last_100_gprs_usage']"
      ]
     },
     "execution_count": 45,
     "metadata": {},
     "output_type": "execute_result"
    }
   ],
   "source": [
    "categorical_columns = date_columns + binary_columns + id_columns\n",
    "\n",
    "continuous_columns = [c for c in usage_df.columns if c not in categorical_columns]\n",
    "continuous_columns"
   ]
  },
  {
   "cell_type": "markdown",
   "metadata": {},
   "source": [
    "Sukuriame vidurkių SQL išraikškas tolydiesiems kintamiesiems."
   ]
  },
  {
   "cell_type": "code",
   "execution_count": 46,
   "metadata": {},
   "outputs": [
    {
     "data": {
      "text/plain": [
       "['AVG(user_lifetime) AS user_lifetime',\n",
       " 'AVG(user_no_outgoing_activity_in_days) AS user_no_outgoing_activity_in_days',\n",
       " 'AVG(user_account_balance_last) AS user_account_balance_last',\n",
       " 'AVG(user_spendings) AS user_spendings',\n",
       " 'AVG(reloads_inactive_days) AS reloads_inactive_days',\n",
       " 'AVG(reloads_count) AS reloads_count',\n",
       " 'AVG(reloads_sum) AS reloads_sum',\n",
       " 'AVG(calls_outgoing_count) AS calls_outgoing_count',\n",
       " 'AVG(calls_outgoing_spendings) AS calls_outgoing_spendings',\n",
       " 'AVG(calls_outgoing_duration) AS calls_outgoing_duration',\n",
       " 'AVG(calls_outgoing_spendings_max) AS calls_outgoing_spendings_max',\n",
       " 'AVG(calls_outgoing_duration_max) AS calls_outgoing_duration_max',\n",
       " 'AVG(calls_outgoing_inactive_days) AS calls_outgoing_inactive_days',\n",
       " 'AVG(calls_outgoing_to_onnet_count) AS calls_outgoing_to_onnet_count',\n",
       " 'AVG(calls_outgoing_to_onnet_spendings) AS calls_outgoing_to_onnet_spendings',\n",
       " 'AVG(calls_outgoing_to_onnet_duration) AS calls_outgoing_to_onnet_duration',\n",
       " 'AVG(calls_outgoing_to_onnet_inactive_days) AS calls_outgoing_to_onnet_inactive_days',\n",
       " 'AVG(calls_outgoing_to_offnet_count) AS calls_outgoing_to_offnet_count',\n",
       " 'AVG(calls_outgoing_to_offnet_spendings) AS calls_outgoing_to_offnet_spendings',\n",
       " 'AVG(calls_outgoing_to_offnet_duration) AS calls_outgoing_to_offnet_duration',\n",
       " 'AVG(calls_outgoing_to_offnet_inactive_days) AS calls_outgoing_to_offnet_inactive_days',\n",
       " 'AVG(calls_outgoing_to_abroad_count) AS calls_outgoing_to_abroad_count',\n",
       " 'AVG(calls_outgoing_to_abroad_spendings) AS calls_outgoing_to_abroad_spendings',\n",
       " 'AVG(calls_outgoing_to_abroad_duration) AS calls_outgoing_to_abroad_duration',\n",
       " 'AVG(calls_outgoing_to_abroad_inactive_days) AS calls_outgoing_to_abroad_inactive_days',\n",
       " 'AVG(sms_outgoing_count) AS sms_outgoing_count',\n",
       " 'AVG(sms_outgoing_spendings) AS sms_outgoing_spendings',\n",
       " 'AVG(sms_outgoing_spendings_max) AS sms_outgoing_spendings_max',\n",
       " 'AVG(sms_outgoing_inactive_days) AS sms_outgoing_inactive_days',\n",
       " 'AVG(sms_outgoing_to_onnet_count) AS sms_outgoing_to_onnet_count',\n",
       " 'AVG(sms_outgoing_to_onnet_spendings) AS sms_outgoing_to_onnet_spendings',\n",
       " 'AVG(sms_outgoing_to_onnet_inactive_days) AS sms_outgoing_to_onnet_inactive_days',\n",
       " 'AVG(sms_outgoing_to_offnet_count) AS sms_outgoing_to_offnet_count',\n",
       " 'AVG(sms_outgoing_to_offnet_spendings) AS sms_outgoing_to_offnet_spendings',\n",
       " 'AVG(sms_outgoing_to_offnet_inactive_days) AS sms_outgoing_to_offnet_inactive_days',\n",
       " 'AVG(sms_outgoing_to_abroad_count) AS sms_outgoing_to_abroad_count',\n",
       " 'AVG(sms_outgoing_to_abroad_spendings) AS sms_outgoing_to_abroad_spendings',\n",
       " 'AVG(sms_outgoing_to_abroad_inactive_days) AS sms_outgoing_to_abroad_inactive_days',\n",
       " 'AVG(sms_incoming_count) AS sms_incoming_count',\n",
       " 'AVG(sms_incoming_spendings) AS sms_incoming_spendings',\n",
       " 'AVG(sms_incoming_from_abroad_count) AS sms_incoming_from_abroad_count',\n",
       " 'AVG(sms_incoming_from_abroad_spendings) AS sms_incoming_from_abroad_spendings',\n",
       " 'AVG(gprs_session_count) AS gprs_session_count',\n",
       " 'AVG(gprs_usage) AS gprs_usage',\n",
       " 'AVG(gprs_spendings) AS gprs_spendings',\n",
       " 'AVG(gprs_inactive_days) AS gprs_inactive_days',\n",
       " 'AVG(last_100_reloads_count) AS last_100_reloads_count',\n",
       " 'AVG(last_100_reloads_sum) AS last_100_reloads_sum',\n",
       " 'AVG(last_100_calls_outgoing_duration) AS last_100_calls_outgoing_duration',\n",
       " 'AVG(last_100_calls_outgoing_to_onnet_duration) AS last_100_calls_outgoing_to_onnet_duration',\n",
       " 'AVG(last_100_calls_outgoing_to_offnet_duration) AS last_100_calls_outgoing_to_offnet_duration',\n",
       " 'AVG(last_100_calls_outgoing_to_abroad_duration) AS last_100_calls_outgoing_to_abroad_duration',\n",
       " 'AVG(last_100_sms_outgoing_count) AS last_100_sms_outgoing_count',\n",
       " 'AVG(last_100_sms_outgoing_to_onnet_count) AS last_100_sms_outgoing_to_onnet_count',\n",
       " 'AVG(last_100_sms_outgoing_to_offnet_count) AS last_100_sms_outgoing_to_offnet_count',\n",
       " 'AVG(last_100_sms_outgoing_to_abroad_count) AS last_100_sms_outgoing_to_abroad_count',\n",
       " 'AVG(last_100_gprs_usage) AS last_100_gprs_usage']"
      ]
     },
     "execution_count": 46,
     "metadata": {},
     "output_type": "execute_result"
    }
   ],
   "source": [
    "sql_expressions_avg = [\"AVG({0}) AS {0}\".format(c) for c in continuous_columns]\n",
    "sql_expressions_avg"
   ]
  },
  {
   "cell_type": "markdown",
   "metadata": {},
   "source": [
    "Sukuriame maksimumo SQL išraiškas binariniams kintamiesiems."
   ]
  },
  {
   "cell_type": "code",
   "execution_count": 47,
   "metadata": {},
   "outputs": [
    {
     "data": {
      "text/plain": [
       "['MAX(user_intake) AS user_intake',\n",
       " 'MAX(user_has_outgoing_calls) AS user_has_outgoing_calls',\n",
       " 'MAX(user_has_outgoing_sms) AS user_has_outgoing_sms',\n",
       " 'MAX(user_use_gprs) AS user_use_gprs',\n",
       " 'MAX(user_does_reload) AS user_does_reload']"
      ]
     },
     "execution_count": 47,
     "metadata": {},
     "output_type": "execute_result"
    }
   ],
   "source": [
    "sql_expressions_max = [\"MAX({0}) AS {0}\".format(c) for c in binary_columns]\n",
    "sql_expressions_max"
   ]
  },
  {
   "cell_type": "markdown",
   "metadata": {},
   "source": [
    "Sukuriame mėnesių [vartotojo išrašų] skaičiavimo SQL išraišką."
   ]
  },
  {
   "cell_type": "code",
   "execution_count": 48,
   "metadata": {},
   "outputs": [
    {
     "data": {
      "text/plain": [
       "['COUNT(*) AS n_months']"
      ]
     },
     "execution_count": 48,
     "metadata": {},
     "output_type": "execute_result"
    }
   ],
   "source": [
    "sql_expressions_count = [\"COUNT(*) AS n_months\"]\n",
    "sql_expressions_count"
   ]
  },
  {
   "cell_type": "markdown",
   "metadata": {},
   "source": [
    "Apjungiame visas SQL išraiškas."
   ]
  },
  {
   "cell_type": "code",
   "execution_count": 49,
   "metadata": {},
   "outputs": [
    {
     "data": {
      "text/plain": [
       "['AVG(user_lifetime) AS user_lifetime',\n",
       " 'AVG(user_no_outgoing_activity_in_days) AS user_no_outgoing_activity_in_days',\n",
       " 'AVG(user_account_balance_last) AS user_account_balance_last',\n",
       " 'AVG(user_spendings) AS user_spendings',\n",
       " 'AVG(reloads_inactive_days) AS reloads_inactive_days',\n",
       " 'AVG(reloads_count) AS reloads_count',\n",
       " 'AVG(reloads_sum) AS reloads_sum',\n",
       " 'AVG(calls_outgoing_count) AS calls_outgoing_count',\n",
       " 'AVG(calls_outgoing_spendings) AS calls_outgoing_spendings',\n",
       " 'AVG(calls_outgoing_duration) AS calls_outgoing_duration',\n",
       " 'AVG(calls_outgoing_spendings_max) AS calls_outgoing_spendings_max',\n",
       " 'AVG(calls_outgoing_duration_max) AS calls_outgoing_duration_max',\n",
       " 'AVG(calls_outgoing_inactive_days) AS calls_outgoing_inactive_days',\n",
       " 'AVG(calls_outgoing_to_onnet_count) AS calls_outgoing_to_onnet_count',\n",
       " 'AVG(calls_outgoing_to_onnet_spendings) AS calls_outgoing_to_onnet_spendings',\n",
       " 'AVG(calls_outgoing_to_onnet_duration) AS calls_outgoing_to_onnet_duration',\n",
       " 'AVG(calls_outgoing_to_onnet_inactive_days) AS calls_outgoing_to_onnet_inactive_days',\n",
       " 'AVG(calls_outgoing_to_offnet_count) AS calls_outgoing_to_offnet_count',\n",
       " 'AVG(calls_outgoing_to_offnet_spendings) AS calls_outgoing_to_offnet_spendings',\n",
       " 'AVG(calls_outgoing_to_offnet_duration) AS calls_outgoing_to_offnet_duration',\n",
       " 'AVG(calls_outgoing_to_offnet_inactive_days) AS calls_outgoing_to_offnet_inactive_days',\n",
       " 'AVG(calls_outgoing_to_abroad_count) AS calls_outgoing_to_abroad_count',\n",
       " 'AVG(calls_outgoing_to_abroad_spendings) AS calls_outgoing_to_abroad_spendings',\n",
       " 'AVG(calls_outgoing_to_abroad_duration) AS calls_outgoing_to_abroad_duration',\n",
       " 'AVG(calls_outgoing_to_abroad_inactive_days) AS calls_outgoing_to_abroad_inactive_days',\n",
       " 'AVG(sms_outgoing_count) AS sms_outgoing_count',\n",
       " 'AVG(sms_outgoing_spendings) AS sms_outgoing_spendings',\n",
       " 'AVG(sms_outgoing_spendings_max) AS sms_outgoing_spendings_max',\n",
       " 'AVG(sms_outgoing_inactive_days) AS sms_outgoing_inactive_days',\n",
       " 'AVG(sms_outgoing_to_onnet_count) AS sms_outgoing_to_onnet_count',\n",
       " 'AVG(sms_outgoing_to_onnet_spendings) AS sms_outgoing_to_onnet_spendings',\n",
       " 'AVG(sms_outgoing_to_onnet_inactive_days) AS sms_outgoing_to_onnet_inactive_days',\n",
       " 'AVG(sms_outgoing_to_offnet_count) AS sms_outgoing_to_offnet_count',\n",
       " 'AVG(sms_outgoing_to_offnet_spendings) AS sms_outgoing_to_offnet_spendings',\n",
       " 'AVG(sms_outgoing_to_offnet_inactive_days) AS sms_outgoing_to_offnet_inactive_days',\n",
       " 'AVG(sms_outgoing_to_abroad_count) AS sms_outgoing_to_abroad_count',\n",
       " 'AVG(sms_outgoing_to_abroad_spendings) AS sms_outgoing_to_abroad_spendings',\n",
       " 'AVG(sms_outgoing_to_abroad_inactive_days) AS sms_outgoing_to_abroad_inactive_days',\n",
       " 'AVG(sms_incoming_count) AS sms_incoming_count',\n",
       " 'AVG(sms_incoming_spendings) AS sms_incoming_spendings',\n",
       " 'AVG(sms_incoming_from_abroad_count) AS sms_incoming_from_abroad_count',\n",
       " 'AVG(sms_incoming_from_abroad_spendings) AS sms_incoming_from_abroad_spendings',\n",
       " 'AVG(gprs_session_count) AS gprs_session_count',\n",
       " 'AVG(gprs_usage) AS gprs_usage',\n",
       " 'AVG(gprs_spendings) AS gprs_spendings',\n",
       " 'AVG(gprs_inactive_days) AS gprs_inactive_days',\n",
       " 'AVG(last_100_reloads_count) AS last_100_reloads_count',\n",
       " 'AVG(last_100_reloads_sum) AS last_100_reloads_sum',\n",
       " 'AVG(last_100_calls_outgoing_duration) AS last_100_calls_outgoing_duration',\n",
       " 'AVG(last_100_calls_outgoing_to_onnet_duration) AS last_100_calls_outgoing_to_onnet_duration',\n",
       " 'AVG(last_100_calls_outgoing_to_offnet_duration) AS last_100_calls_outgoing_to_offnet_duration',\n",
       " 'AVG(last_100_calls_outgoing_to_abroad_duration) AS last_100_calls_outgoing_to_abroad_duration',\n",
       " 'AVG(last_100_sms_outgoing_count) AS last_100_sms_outgoing_count',\n",
       " 'AVG(last_100_sms_outgoing_to_onnet_count) AS last_100_sms_outgoing_to_onnet_count',\n",
       " 'AVG(last_100_sms_outgoing_to_offnet_count) AS last_100_sms_outgoing_to_offnet_count',\n",
       " 'AVG(last_100_sms_outgoing_to_abroad_count) AS last_100_sms_outgoing_to_abroad_count',\n",
       " 'AVG(last_100_gprs_usage) AS last_100_gprs_usage',\n",
       " 'MAX(user_intake) AS user_intake',\n",
       " 'MAX(user_has_outgoing_calls) AS user_has_outgoing_calls',\n",
       " 'MAX(user_has_outgoing_sms) AS user_has_outgoing_sms',\n",
       " 'MAX(user_use_gprs) AS user_use_gprs',\n",
       " 'MAX(user_does_reload) AS user_does_reload',\n",
       " 'COUNT(*) AS n_months']"
      ]
     },
     "execution_count": 49,
     "metadata": {},
     "output_type": "execute_result"
    }
   ],
   "source": [
    "sql_expressions_aggregation = sql_expressions_avg + sql_expressions_max + sql_expressions_count\n",
    "sql_expressions_aggregation"
   ]
  },
  {
   "cell_type": "markdown",
   "metadata": {},
   "source": [
    "SQL SELECT išraiškas įstatome į SQL užklausą ir ją įvykdome."
   ]
  },
  {
   "cell_type": "code",
   "execution_count": 50,
   "metadata": {},
   "outputs": [
    {
     "name": "stdout",
     "output_type": "stream",
     "text": [
      "\n",
      "SELECT user_account_id, AVG(user_lifetime) AS user_lifetime\n",
      " , AVG(user_no_outgoing_activity_in_days) AS user_no_outgoing_activity_in_days\n",
      " , AVG(user_account_balance_last) AS user_account_balance_last\n",
      " , AVG(user_spendings) AS user_spendings\n",
      " , AVG(reloads_inactive_days) AS reloads_inactive_days\n",
      " , AVG(reloads_count) AS reloads_count\n",
      " , AVG(reloads_sum) AS reloads_sum\n",
      " , AVG(calls_outgoing_count) AS calls_outgoing_count\n",
      " , AVG(calls_outgoing_spendings) AS calls_outgoing_spendings\n",
      " , AVG(calls_outgoing_duration) AS calls_outgoing_duration\n",
      " , AVG(calls_outgoing_spendings_max) AS calls_outgoing_spendings_max\n",
      " , AVG(calls_outgoing_duration_max) AS calls_outgoing_duration_max\n",
      " , AVG(calls_outgoing_inactive_days) AS calls_outgoing_inactive_days\n",
      " , AVG(calls_outgoing_to_onnet_count) AS calls_outgoing_to_onnet_count\n",
      " , AVG(calls_outgoing_to_onnet_spendings) AS calls_outgoing_to_onnet_spendings\n",
      " , AVG(calls_outgoing_to_onnet_duration) AS calls_outgoing_to_onnet_duration\n",
      " , AVG(calls_outgoing_to_onnet_inactive_days) AS calls_outgoing_to_onnet_inactive_days\n",
      " , AVG(calls_outgoing_to_offnet_count) AS calls_outgoing_to_offnet_count\n",
      " , AVG(calls_outgoing_to_offnet_spendings) AS calls_outgoing_to_offnet_spendings\n",
      " , AVG(calls_outgoing_to_offnet_duration) AS calls_outgoing_to_offnet_duration\n",
      " , AVG(calls_outgoing_to_offnet_inactive_days) AS calls_outgoing_to_offnet_inactive_days\n",
      " , AVG(calls_outgoing_to_abroad_count) AS calls_outgoing_to_abroad_count\n",
      " , AVG(calls_outgoing_to_abroad_spendings) AS calls_outgoing_to_abroad_spendings\n",
      " , AVG(calls_outgoing_to_abroad_duration) AS calls_outgoing_to_abroad_duration\n",
      " , AVG(calls_outgoing_to_abroad_inactive_days) AS calls_outgoing_to_abroad_inactive_days\n",
      " , AVG(sms_outgoing_count) AS sms_outgoing_count\n",
      " , AVG(sms_outgoing_spendings) AS sms_outgoing_spendings\n",
      " , AVG(sms_outgoing_spendings_max) AS sms_outgoing_spendings_max\n",
      " , AVG(sms_outgoing_inactive_days) AS sms_outgoing_inactive_days\n",
      " , AVG(sms_outgoing_to_onnet_count) AS sms_outgoing_to_onnet_count\n",
      " , AVG(sms_outgoing_to_onnet_spendings) AS sms_outgoing_to_onnet_spendings\n",
      " , AVG(sms_outgoing_to_onnet_inactive_days) AS sms_outgoing_to_onnet_inactive_days\n",
      " , AVG(sms_outgoing_to_offnet_count) AS sms_outgoing_to_offnet_count\n",
      " , AVG(sms_outgoing_to_offnet_spendings) AS sms_outgoing_to_offnet_spendings\n",
      " , AVG(sms_outgoing_to_offnet_inactive_days) AS sms_outgoing_to_offnet_inactive_days\n",
      " , AVG(sms_outgoing_to_abroad_count) AS sms_outgoing_to_abroad_count\n",
      " , AVG(sms_outgoing_to_abroad_spendings) AS sms_outgoing_to_abroad_spendings\n",
      " , AVG(sms_outgoing_to_abroad_inactive_days) AS sms_outgoing_to_abroad_inactive_days\n",
      " , AVG(sms_incoming_count) AS sms_incoming_count\n",
      " , AVG(sms_incoming_spendings) AS sms_incoming_spendings\n",
      " , AVG(sms_incoming_from_abroad_count) AS sms_incoming_from_abroad_count\n",
      " , AVG(sms_incoming_from_abroad_spendings) AS sms_incoming_from_abroad_spendings\n",
      " , AVG(gprs_session_count) AS gprs_session_count\n",
      " , AVG(gprs_usage) AS gprs_usage\n",
      " , AVG(gprs_spendings) AS gprs_spendings\n",
      " , AVG(gprs_inactive_days) AS gprs_inactive_days\n",
      " , AVG(last_100_reloads_count) AS last_100_reloads_count\n",
      " , AVG(last_100_reloads_sum) AS last_100_reloads_sum\n",
      " , AVG(last_100_calls_outgoing_duration) AS last_100_calls_outgoing_duration\n",
      " , AVG(last_100_calls_outgoing_to_onnet_duration) AS last_100_calls_outgoing_to_onnet_duration\n",
      " , AVG(last_100_calls_outgoing_to_offnet_duration) AS last_100_calls_outgoing_to_offnet_duration\n",
      " , AVG(last_100_calls_outgoing_to_abroad_duration) AS last_100_calls_outgoing_to_abroad_duration\n",
      " , AVG(last_100_sms_outgoing_count) AS last_100_sms_outgoing_count\n",
      " , AVG(last_100_sms_outgoing_to_onnet_count) AS last_100_sms_outgoing_to_onnet_count\n",
      " , AVG(last_100_sms_outgoing_to_offnet_count) AS last_100_sms_outgoing_to_offnet_count\n",
      " , AVG(last_100_sms_outgoing_to_abroad_count) AS last_100_sms_outgoing_to_abroad_count\n",
      " , AVG(last_100_gprs_usage) AS last_100_gprs_usage\n",
      " , MAX(user_intake) AS user_intake\n",
      " , MAX(user_has_outgoing_calls) AS user_has_outgoing_calls\n",
      " , MAX(user_has_outgoing_sms) AS user_has_outgoing_sms\n",
      " , MAX(user_use_gprs) AS user_use_gprs\n",
      " , MAX(user_does_reload) AS user_does_reload\n",
      " , COUNT(*) AS n_months\n",
      "FROM customer_usage\n",
      "GROUP BY user_account_id\n",
      "\n"
     ]
    }
   ],
   "source": [
    "sql_query_aggregate_by_user_id = \"\"\"\n",
    "SELECT user_account_id, {}\n",
    "FROM customer_usage\n",
    "GROUP BY user_account_id\n",
    "\"\"\".format(\"\\n , \".join(sql_expressions_aggregation))\n",
    "\n",
    "print(sql_query_aggregate_by_user_id)"
   ]
  },
  {
   "cell_type": "code",
   "execution_count": 51,
   "metadata": {},
   "outputs": [],
   "source": [
    "aggregate_usage_df = spark.sql(sql_query_aggregate_by_user_id)"
   ]
  },
  {
   "cell_type": "code",
   "execution_count": 52,
   "metadata": {},
   "outputs": [
    {
     "data": {
      "text/plain": [
       "Row(user_account_id=978177, user_lifetime=289.0, user_no_outgoing_activity_in_days=2.6666666666666665, user_account_balance_last=0.5, user_spendings=2.0, reloads_inactive_days=33.666666666666664, reloads_count=0.6666666666666666, reloads_sum=2.5, calls_outgoing_count=40.0, calls_outgoing_spendings=1.75, calls_outgoing_duration=9.15, calls_outgoing_spendings_max=0.73, calls_outgoing_duration_max=2.893333333333333, calls_outgoing_inactive_days=2.6666666666666665, calls_outgoing_to_onnet_count=0.0, calls_outgoing_to_onnet_spendings=0.0, calls_outgoing_to_onnet_duration=0.0, calls_outgoing_to_onnet_inactive_days=2.6666666666666665, calls_outgoing_to_offnet_count=6.0, calls_outgoing_to_offnet_spendings=0.5466666666666666, calls_outgoing_to_offnet_duration=3.65, calls_outgoing_to_offnet_inactive_days=2.6666666666666665, calls_outgoing_to_abroad_count=3.0, calls_outgoing_to_abroad_spendings=0.13999999999999999, calls_outgoing_to_abroad_duration=0.49, calls_outgoing_to_abroad_inactive_days=2.6666666666666665, sms_outgoing_count=3.3333333333333335, sms_outgoing_spendings=0.25, sms_outgoing_spendings_max=0.03666666666666667, sms_outgoing_inactive_days=38.333333333333336, sms_outgoing_to_onnet_count=0.0, sms_outgoing_to_onnet_spendings=0.0, sms_outgoing_to_onnet_inactive_days=38.333333333333336, sms_outgoing_to_offnet_count=2.3333333333333335, sms_outgoing_to_offnet_spendings=0.13999999999999999, sms_outgoing_to_offnet_inactive_days=38.333333333333336, sms_outgoing_to_abroad_count=0.0, sms_outgoing_to_abroad_spendings=0.0, sms_outgoing_to_abroad_inactive_days=38.333333333333336, sms_incoming_count=8.666666666666666, sms_incoming_spendings=0.0, sms_incoming_from_abroad_count=1.6666666666666667, sms_incoming_from_abroad_spendings=0.0, gprs_session_count=0.0, gprs_usage=0.0, gprs_spendings=0.0, gprs_inactive_days=1307.0, last_100_reloads_count=1.6666666666666667, last_100_reloads_sum=8.5, last_100_calls_outgoing_duration=34.1, last_100_calls_outgoing_to_onnet_duration=0.0, last_100_calls_outgoing_to_offnet_duration=8.633333333333333, last_100_calls_outgoing_to_abroad_duration=5.023333333333334, last_100_sms_outgoing_count=19.333333333333332, last_100_sms_outgoing_to_onnet_count=0.0, last_100_sms_outgoing_to_offnet_count=14.666666666666666, last_100_sms_outgoing_to_abroad_count=2.6666666666666665, last_100_gprs_usage=0.0, user_intake=0, user_has_outgoing_calls=1, user_has_outgoing_sms=1, user_use_gprs=0, user_does_reload=1, n_months=3)"
      ]
     },
     "execution_count": 52,
     "metadata": {},
     "output_type": "execute_result"
    }
   ],
   "source": [
    "aggregate_usage_df.first()"
   ]
  },
  {
   "cell_type": "markdown",
   "metadata": {},
   "source": [
    "Išsaugome agreguotus pagal vartojoją duomenis."
   ]
  },
  {
   "cell_type": "code",
   "execution_count": 54,
   "metadata": {},
   "outputs": [
    {
     "ename": "AnalysisException",
     "evalue": "'path file:/home/majo/Dropbox/Studijos/Magistras/Didziuju duomenu rinkiniu tyrybos metodai/Projektas/p160m132-projektas/data/output/aggregated_customer_usage already exists.;'",
     "output_type": "error",
     "traceback": [
      "\u001b[0;31m---------------------------------------------------------------------------\u001b[0m",
      "\u001b[0;31mPy4JJavaError\u001b[0m                             Traceback (most recent call last)",
      "\u001b[0;32m~/anaconda3/lib/python3.7/site-packages/pyspark/sql/utils.py\u001b[0m in \u001b[0;36mdeco\u001b[0;34m(*a, **kw)\u001b[0m\n\u001b[1;32m     62\u001b[0m         \u001b[0;32mtry\u001b[0m\u001b[0;34m:\u001b[0m\u001b[0;34m\u001b[0m\u001b[0;34m\u001b[0m\u001b[0m\n\u001b[0;32m---> 63\u001b[0;31m             \u001b[0;32mreturn\u001b[0m \u001b[0mf\u001b[0m\u001b[0;34m(\u001b[0m\u001b[0;34m*\u001b[0m\u001b[0ma\u001b[0m\u001b[0;34m,\u001b[0m \u001b[0;34m**\u001b[0m\u001b[0mkw\u001b[0m\u001b[0;34m)\u001b[0m\u001b[0;34m\u001b[0m\u001b[0;34m\u001b[0m\u001b[0m\n\u001b[0m\u001b[1;32m     64\u001b[0m         \u001b[0;32mexcept\u001b[0m \u001b[0mpy4j\u001b[0m\u001b[0;34m.\u001b[0m\u001b[0mprotocol\u001b[0m\u001b[0;34m.\u001b[0m\u001b[0mPy4JJavaError\u001b[0m \u001b[0;32mas\u001b[0m \u001b[0me\u001b[0m\u001b[0;34m:\u001b[0m\u001b[0;34m\u001b[0m\u001b[0;34m\u001b[0m\u001b[0m\n",
      "\u001b[0;32m~/anaconda3/lib/python3.7/site-packages/py4j/protocol.py\u001b[0m in \u001b[0;36mget_return_value\u001b[0;34m(answer, gateway_client, target_id, name)\u001b[0m\n\u001b[1;32m    327\u001b[0m                     \u001b[0;34m\"An error occurred while calling {0}{1}{2}.\\n\"\u001b[0m\u001b[0;34m.\u001b[0m\u001b[0;34m\u001b[0m\u001b[0;34m\u001b[0m\u001b[0m\n\u001b[0;32m--> 328\u001b[0;31m                     format(target_id, \".\", name), value)\n\u001b[0m\u001b[1;32m    329\u001b[0m             \u001b[0;32melse\u001b[0m\u001b[0;34m:\u001b[0m\u001b[0;34m\u001b[0m\u001b[0;34m\u001b[0m\u001b[0m\n",
      "\u001b[0;31mPy4JJavaError\u001b[0m: An error occurred while calling o115.csv.\n: org.apache.spark.sql.AnalysisException: path file:/home/majo/Dropbox/Studijos/Magistras/Didziuju duomenu rinkiniu tyrybos metodai/Projektas/p160m132-projektas/data/output/aggregated_customer_usage already exists.;\n\tat org.apache.spark.sql.execution.datasources.InsertIntoHadoopFsRelationCommand.run(InsertIntoHadoopFsRelationCommand.scala:114)\n\tat org.apache.spark.sql.execution.command.DataWritingCommandExec.sideEffectResult$lzycompute(commands.scala:104)\n\tat org.apache.spark.sql.execution.command.DataWritingCommandExec.sideEffectResult(commands.scala:102)\n\tat org.apache.spark.sql.execution.command.DataWritingCommandExec.doExecute(commands.scala:122)\n\tat org.apache.spark.sql.execution.SparkPlan$$anonfun$execute$1.apply(SparkPlan.scala:131)\n\tat org.apache.spark.sql.execution.SparkPlan$$anonfun$execute$1.apply(SparkPlan.scala:127)\n\tat org.apache.spark.sql.execution.SparkPlan$$anonfun$executeQuery$1.apply(SparkPlan.scala:155)\n\tat org.apache.spark.rdd.RDDOperationScope$.withScope(RDDOperationScope.scala:151)\n\tat org.apache.spark.sql.execution.SparkPlan.executeQuery(SparkPlan.scala:152)\n\tat org.apache.spark.sql.execution.SparkPlan.execute(SparkPlan.scala:127)\n\tat org.apache.spark.sql.execution.QueryExecution.toRdd$lzycompute(QueryExecution.scala:80)\n\tat org.apache.spark.sql.execution.QueryExecution.toRdd(QueryExecution.scala:80)\n\tat org.apache.spark.sql.DataFrameWriter$$anonfun$runCommand$1.apply(DataFrameWriter.scala:676)\n\tat org.apache.spark.sql.DataFrameWriter$$anonfun$runCommand$1.apply(DataFrameWriter.scala:676)\n\tat org.apache.spark.sql.execution.SQLExecution$$anonfun$withNewExecutionId$1.apply(SQLExecution.scala:78)\n\tat org.apache.spark.sql.execution.SQLExecution$.withSQLConfPropagated(SQLExecution.scala:125)\n\tat org.apache.spark.sql.execution.SQLExecution$.withNewExecutionId(SQLExecution.scala:73)\n\tat org.apache.spark.sql.DataFrameWriter.runCommand(DataFrameWriter.scala:676)\n\tat org.apache.spark.sql.DataFrameWriter.saveToV1Source(DataFrameWriter.scala:285)\n\tat org.apache.spark.sql.DataFrameWriter.save(DataFrameWriter.scala:271)\n\tat org.apache.spark.sql.DataFrameWriter.save(DataFrameWriter.scala:229)\n\tat org.apache.spark.sql.DataFrameWriter.csv(DataFrameWriter.scala:664)\n\tat sun.reflect.NativeMethodAccessorImpl.invoke0(Native Method)\n\tat sun.reflect.NativeMethodAccessorImpl.invoke(NativeMethodAccessorImpl.java:62)\n\tat sun.reflect.DelegatingMethodAccessorImpl.invoke(DelegatingMethodAccessorImpl.java:43)\n\tat java.lang.reflect.Method.invoke(Method.java:498)\n\tat py4j.reflection.MethodInvoker.invoke(MethodInvoker.java:244)\n\tat py4j.reflection.ReflectionEngine.invoke(ReflectionEngine.java:357)\n\tat py4j.Gateway.invoke(Gateway.java:282)\n\tat py4j.commands.AbstractCommand.invokeMethod(AbstractCommand.java:132)\n\tat py4j.commands.CallCommand.execute(CallCommand.java:79)\n\tat py4j.GatewayConnection.run(GatewayConnection.java:238)\n\tat java.lang.Thread.run(Thread.java:748)\n",
      "\nDuring handling of the above exception, another exception occurred:\n",
      "\u001b[0;31mAnalysisException\u001b[0m                         Traceback (most recent call last)",
      "\u001b[0;32m<ipython-input-54-97836943d497>\u001b[0m in \u001b[0;36m<module>\u001b[0;34m\u001b[0m\n\u001b[0;32m----> 1\u001b[0;31m \u001b[0maggregate_usage_df\u001b[0m\u001b[0;34m.\u001b[0m\u001b[0mwrite\u001b[0m\u001b[0;34m.\u001b[0m\u001b[0mcsv\u001b[0m\u001b[0;34m(\u001b[0m\u001b[0;34m\"../data/output/aggregated_customer_usage\"\u001b[0m\u001b[0;34m)\u001b[0m\u001b[0;34m\u001b[0m\u001b[0;34m\u001b[0m\u001b[0m\n\u001b[0m",
      "\u001b[0;32m~/anaconda3/lib/python3.7/site-packages/pyspark/sql/readwriter.py\u001b[0m in \u001b[0;36mcsv\u001b[0;34m(self, path, mode, compression, sep, quote, escape, header, nullValue, escapeQuotes, quoteAll, dateFormat, timestampFormat, ignoreLeadingWhiteSpace, ignoreTrailingWhiteSpace, charToEscapeQuoteEscaping, encoding, emptyValue)\u001b[0m\n\u001b[1;32m    929\u001b[0m                        \u001b[0mcharToEscapeQuoteEscaping\u001b[0m\u001b[0;34m=\u001b[0m\u001b[0mcharToEscapeQuoteEscaping\u001b[0m\u001b[0;34m,\u001b[0m\u001b[0;34m\u001b[0m\u001b[0;34m\u001b[0m\u001b[0m\n\u001b[1;32m    930\u001b[0m                        encoding=encoding, emptyValue=emptyValue)\n\u001b[0;32m--> 931\u001b[0;31m         \u001b[0mself\u001b[0m\u001b[0;34m.\u001b[0m\u001b[0m_jwrite\u001b[0m\u001b[0;34m.\u001b[0m\u001b[0mcsv\u001b[0m\u001b[0;34m(\u001b[0m\u001b[0mpath\u001b[0m\u001b[0;34m)\u001b[0m\u001b[0;34m\u001b[0m\u001b[0;34m\u001b[0m\u001b[0m\n\u001b[0m\u001b[1;32m    932\u001b[0m \u001b[0;34m\u001b[0m\u001b[0m\n\u001b[1;32m    933\u001b[0m     \u001b[0;34m@\u001b[0m\u001b[0msince\u001b[0m\u001b[0;34m(\u001b[0m\u001b[0;36m1.5\u001b[0m\u001b[0;34m)\u001b[0m\u001b[0;34m\u001b[0m\u001b[0;34m\u001b[0m\u001b[0m\n",
      "\u001b[0;32m~/anaconda3/lib/python3.7/site-packages/py4j/java_gateway.py\u001b[0m in \u001b[0;36m__call__\u001b[0;34m(self, *args)\u001b[0m\n\u001b[1;32m   1255\u001b[0m         \u001b[0manswer\u001b[0m \u001b[0;34m=\u001b[0m \u001b[0mself\u001b[0m\u001b[0;34m.\u001b[0m\u001b[0mgateway_client\u001b[0m\u001b[0;34m.\u001b[0m\u001b[0msend_command\u001b[0m\u001b[0;34m(\u001b[0m\u001b[0mcommand\u001b[0m\u001b[0;34m)\u001b[0m\u001b[0;34m\u001b[0m\u001b[0;34m\u001b[0m\u001b[0m\n\u001b[1;32m   1256\u001b[0m         return_value = get_return_value(\n\u001b[0;32m-> 1257\u001b[0;31m             answer, self.gateway_client, self.target_id, self.name)\n\u001b[0m\u001b[1;32m   1258\u001b[0m \u001b[0;34m\u001b[0m\u001b[0m\n\u001b[1;32m   1259\u001b[0m         \u001b[0;32mfor\u001b[0m \u001b[0mtemp_arg\u001b[0m \u001b[0;32min\u001b[0m \u001b[0mtemp_args\u001b[0m\u001b[0;34m:\u001b[0m\u001b[0;34m\u001b[0m\u001b[0;34m\u001b[0m\u001b[0m\n",
      "\u001b[0;32m~/anaconda3/lib/python3.7/site-packages/pyspark/sql/utils.py\u001b[0m in \u001b[0;36mdeco\u001b[0;34m(*a, **kw)\u001b[0m\n\u001b[1;32m     67\u001b[0m                                              e.java_exception.getStackTrace()))\n\u001b[1;32m     68\u001b[0m             \u001b[0;32mif\u001b[0m \u001b[0ms\u001b[0m\u001b[0;34m.\u001b[0m\u001b[0mstartswith\u001b[0m\u001b[0;34m(\u001b[0m\u001b[0;34m'org.apache.spark.sql.AnalysisException: '\u001b[0m\u001b[0;34m)\u001b[0m\u001b[0;34m:\u001b[0m\u001b[0;34m\u001b[0m\u001b[0;34m\u001b[0m\u001b[0m\n\u001b[0;32m---> 69\u001b[0;31m                 \u001b[0;32mraise\u001b[0m \u001b[0mAnalysisException\u001b[0m\u001b[0;34m(\u001b[0m\u001b[0ms\u001b[0m\u001b[0;34m.\u001b[0m\u001b[0msplit\u001b[0m\u001b[0;34m(\u001b[0m\u001b[0;34m': '\u001b[0m\u001b[0;34m,\u001b[0m \u001b[0;36m1\u001b[0m\u001b[0;34m)\u001b[0m\u001b[0;34m[\u001b[0m\u001b[0;36m1\u001b[0m\u001b[0;34m]\u001b[0m\u001b[0;34m,\u001b[0m \u001b[0mstackTrace\u001b[0m\u001b[0;34m)\u001b[0m\u001b[0;34m\u001b[0m\u001b[0;34m\u001b[0m\u001b[0m\n\u001b[0m\u001b[1;32m     70\u001b[0m             \u001b[0;32mif\u001b[0m \u001b[0ms\u001b[0m\u001b[0;34m.\u001b[0m\u001b[0mstartswith\u001b[0m\u001b[0;34m(\u001b[0m\u001b[0;34m'org.apache.spark.sql.catalyst.analysis'\u001b[0m\u001b[0;34m)\u001b[0m\u001b[0;34m:\u001b[0m\u001b[0;34m\u001b[0m\u001b[0;34m\u001b[0m\u001b[0m\n\u001b[1;32m     71\u001b[0m                 \u001b[0;32mraise\u001b[0m \u001b[0mAnalysisException\u001b[0m\u001b[0;34m(\u001b[0m\u001b[0ms\u001b[0m\u001b[0;34m.\u001b[0m\u001b[0msplit\u001b[0m\u001b[0;34m(\u001b[0m\u001b[0;34m': '\u001b[0m\u001b[0;34m,\u001b[0m \u001b[0;36m1\u001b[0m\u001b[0;34m)\u001b[0m\u001b[0;34m[\u001b[0m\u001b[0;36m1\u001b[0m\u001b[0;34m]\u001b[0m\u001b[0;34m,\u001b[0m \u001b[0mstackTrace\u001b[0m\u001b[0;34m)\u001b[0m\u001b[0;34m\u001b[0m\u001b[0;34m\u001b[0m\u001b[0m\n",
      "\u001b[0;31mAnalysisException\u001b[0m: 'path file:/home/majo/Dropbox/Studijos/Magistras/Didziuju duomenu rinkiniu tyrybos metodai/Projektas/p160m132-projektas/data/output/aggregated_customer_usage already exists.;'"
     ]
    }
   ],
   "source": [
    "aggregate_usage_df.write.csv(\"../data/output/aggregated_customer_usage\")"
   ]
  },
  {
   "cell_type": "code",
   "execution_count": 27,
   "metadata": {},
   "outputs": [
    {
     "name": "stdout",
     "output_type": "stream",
     "text": [
      "978177,289.0,2.6666666666666665,0.5,2.0,33.666666666666664,0.6666666666666666,2.5,40.0,1.75,9.15,0.73,2.893333333333333,2.6666666666666665,0.0,0.0,0.0,2.6666666666666665,6.0,0.5466666666666666,3.65,2.6666666666666665,3.0,0.13999999999999999,0.49,2.6666666666666665,3.3333333333333335,0.25,0.03666666666666667,38.333333333333336,0.0,0.0,38.333333333333336,2.3333333333333335,0.13999999999999999,38.333333333333336,0.0,0.0,38.333333333333336,8.666666666666666,0.0,1.6666666666666667,0.0,0.0,0.0,0.0,1307.0,1.6666666666666667,8.5,34.1,0.0,8.633333333333333,5.023333333333334,19.333333333333332,0.0,14.666666666666666,2.6666666666666665,0.0,0,1,1,0,1,3\r\n",
      "28024,955.0,1.6666666666666667,5.246666666666667,20.896666666666665,9.0,3.6666666666666665,22.02,71.66666666666667,20.896666666666665,393.24333333333334,2.0766666666666667,57.333333333333336,3.3333333333333335,0.0,0.0,0.0,3.3333333333333335,24.0,12.926666666666668,317.0,3.3333333333333335,0.0,0.0,0.0,3.3333333333333335,29.333333333333332,0.0,0.0,2.0,0.0,0.0,2.0,0.0,0.0,2.0,0.0,0.0,2.0,10.0,0.0,0.0,0.0,0.0,0.0,0.0,1307.0,17.333333333333332,52.04333333333333,1051.37,0.0,873.6666666666666,0.0,74.0,0.0,0.0,0.0,0.0,0,1,1,0,1,3\r\n",
      "446005,332.0,2.0,0.9266666666666666,1.1500000000000001,487.0,0.0,0.0,28.0,1.0533333333333332,7.1066666666666665,0.5099999999999999,3.396666666666667,2.0,0.0,0.0,0.0,2.0,10.333333333333334,0.9066666666666666,6.04,2.0,2.0,0.09666666666666666,0.7333333333333334,2.0,1.3333333333333333,0.09666666666666666,0.07666666666666666,14.666666666666666,0.0,0.0,14.666666666666666,1.0,0.06,14.666666666666666,0.0,0.0,14.666666666666666,7.333333333333333,0.0,1.0,0.0,0.0,0.0,0.0,1307.0,0.6666666666666666,2.6666666666666665,19.276666666666667,0.0,14.536666666666667,1.4666666666666668,3.0,0.0,1.6666666666666667,0.0,0.0,0,1,1,0,0,3\r\n",
      "172015,2014.0,2.0,14.723333333333334,5.173333333333333,9.666666666666666,1.6666666666666667,8.506666666666666,43.333333333333336,5.1433333333333335,29.72666666666667,0.86,4.78,2.3333333333333335,0.0,0.0,0.0,2.3333333333333335,41.333333333333336,5.083333333333333,28.47,2.3333333333333335,0.0,0.0,0.0,2.3333333333333335,4.666666666666667,0.03,0.03,4.0,0.0,0.0,4.0,0.3333333333333333,0.03,4.0,0.0,0.0,4.0,8.333333333333334,0.0,0.0,0.0,0.0,0.0,0.0,1307.0,7.0,23.51166666666667,115.42,0.0,111.21333333333332,0.0,9.0,0.0,1.3333333333333333,0.0,0.0,0,1,1,0,1,3\r\n",
      "141422,2017.0,1.0,2.4633333333333334,3.6266666666666665,455.6666666666667,0.3333333333333333,1.3333333333333333,17.0,3.2466666666666666,21.74,0.7300000000000001,4.843333333333334,1.0,0.0,0.0,0.0,1.0,14.333333333333334,3.2466666666666666,21.623333333333335,1.0,0.0,0.0,0.0,1.0,8.0,0.37999999999999995,0.06,7.333333333333333,3.0,0.18000000000000002,7.333333333333333,3.3333333333333335,0.20000000000000004,7.333333333333333,0.0,0.0,7.333333333333333,8.666666666666666,0.0,1.3333333333333333,0.0,0.0,0.0,0.0,1307.0,0.6666666666666666,2.6666666666666665,62.373333333333335,0.0,61.34666666666667,0.0,26.666666666666668,13.666666666666666,9.666666666666666,0.0,0.0,0,1,1,0,1,3\r\n",
      "cat: write error: Broken pipe\r\n"
     ]
    }
   ],
   "source": [
    "! cat ../data/output/aggregated_customer_usage/* | head -n 5"
   ]
  },
  {
   "cell_type": "code",
   "execution_count": 28,
   "metadata": {},
   "outputs": [
    {
     "name": "stdout",
     "output_type": "stream",
     "text": [
      "part-00000-4bb548db-468c-44b8-a839-59769b2cb5b6-c000.csv\r\n",
      "part-00001-4bb548db-468c-44b8-a839-59769b2cb5b6-c000.csv\r\n",
      "part-00002-4bb548db-468c-44b8-a839-59769b2cb5b6-c000.csv\r\n",
      "part-00003-4bb548db-468c-44b8-a839-59769b2cb5b6-c000.csv\r\n",
      "part-00004-4bb548db-468c-44b8-a839-59769b2cb5b6-c000.csv\r\n",
      "part-00005-4bb548db-468c-44b8-a839-59769b2cb5b6-c000.csv\r\n",
      "part-00006-4bb548db-468c-44b8-a839-59769b2cb5b6-c000.csv\r\n",
      "part-00007-4bb548db-468c-44b8-a839-59769b2cb5b6-c000.csv\r\n",
      "part-00008-4bb548db-468c-44b8-a839-59769b2cb5b6-c000.csv\r\n",
      "part-00009-4bb548db-468c-44b8-a839-59769b2cb5b6-c000.csv\r\n",
      "part-00010-4bb548db-468c-44b8-a839-59769b2cb5b6-c000.csv\r\n",
      "part-00011-4bb548db-468c-44b8-a839-59769b2cb5b6-c000.csv\r\n",
      "part-00012-4bb548db-468c-44b8-a839-59769b2cb5b6-c000.csv\r\n",
      "part-00013-4bb548db-468c-44b8-a839-59769b2cb5b6-c000.csv\r\n",
      "part-00014-4bb548db-468c-44b8-a839-59769b2cb5b6-c000.csv\r\n",
      "part-00015-4bb548db-468c-44b8-a839-59769b2cb5b6-c000.csv\r\n",
      "part-00016-4bb548db-468c-44b8-a839-59769b2cb5b6-c000.csv\r\n",
      "part-00017-4bb548db-468c-44b8-a839-59769b2cb5b6-c000.csv\r\n",
      "part-00018-4bb548db-468c-44b8-a839-59769b2cb5b6-c000.csv\r\n",
      "part-00019-4bb548db-468c-44b8-a839-59769b2cb5b6-c000.csv\r\n",
      "part-00020-4bb548db-468c-44b8-a839-59769b2cb5b6-c000.csv\r\n",
      "part-00021-4bb548db-468c-44b8-a839-59769b2cb5b6-c000.csv\r\n",
      "part-00022-4bb548db-468c-44b8-a839-59769b2cb5b6-c000.csv\r\n",
      "part-00023-4bb548db-468c-44b8-a839-59769b2cb5b6-c000.csv\r\n",
      "part-00024-4bb548db-468c-44b8-a839-59769b2cb5b6-c000.csv\r\n",
      "part-00025-4bb548db-468c-44b8-a839-59769b2cb5b6-c000.csv\r\n",
      "part-00026-4bb548db-468c-44b8-a839-59769b2cb5b6-c000.csv\r\n",
      "part-00027-4bb548db-468c-44b8-a839-59769b2cb5b6-c000.csv\r\n",
      "part-00028-4bb548db-468c-44b8-a839-59769b2cb5b6-c000.csv\r\n",
      "part-00029-4bb548db-468c-44b8-a839-59769b2cb5b6-c000.csv\r\n",
      "part-00030-4bb548db-468c-44b8-a839-59769b2cb5b6-c000.csv\r\n",
      "part-00031-4bb548db-468c-44b8-a839-59769b2cb5b6-c000.csv\r\n",
      "part-00032-4bb548db-468c-44b8-a839-59769b2cb5b6-c000.csv\r\n",
      "part-00033-4bb548db-468c-44b8-a839-59769b2cb5b6-c000.csv\r\n",
      "part-00034-4bb548db-468c-44b8-a839-59769b2cb5b6-c000.csv\r\n",
      "part-00035-4bb548db-468c-44b8-a839-59769b2cb5b6-c000.csv\r\n",
      "part-00036-4bb548db-468c-44b8-a839-59769b2cb5b6-c000.csv\r\n",
      "part-00037-4bb548db-468c-44b8-a839-59769b2cb5b6-c000.csv\r\n",
      "part-00038-4bb548db-468c-44b8-a839-59769b2cb5b6-c000.csv\r\n",
      "part-00039-4bb548db-468c-44b8-a839-59769b2cb5b6-c000.csv\r\n",
      "part-00040-4bb548db-468c-44b8-a839-59769b2cb5b6-c000.csv\r\n",
      "part-00041-4bb548db-468c-44b8-a839-59769b2cb5b6-c000.csv\r\n",
      "part-00042-4bb548db-468c-44b8-a839-59769b2cb5b6-c000.csv\r\n",
      "part-00043-4bb548db-468c-44b8-a839-59769b2cb5b6-c000.csv\r\n",
      "part-00044-4bb548db-468c-44b8-a839-59769b2cb5b6-c000.csv\r\n",
      "part-00045-4bb548db-468c-44b8-a839-59769b2cb5b6-c000.csv\r\n",
      "part-00046-4bb548db-468c-44b8-a839-59769b2cb5b6-c000.csv\r\n",
      "part-00047-4bb548db-468c-44b8-a839-59769b2cb5b6-c000.csv\r\n",
      "part-00048-4bb548db-468c-44b8-a839-59769b2cb5b6-c000.csv\r\n",
      "part-00049-4bb548db-468c-44b8-a839-59769b2cb5b6-c000.csv\r\n",
      "part-00050-4bb548db-468c-44b8-a839-59769b2cb5b6-c000.csv\r\n",
      "part-00051-4bb548db-468c-44b8-a839-59769b2cb5b6-c000.csv\r\n",
      "part-00052-4bb548db-468c-44b8-a839-59769b2cb5b6-c000.csv\r\n",
      "part-00053-4bb548db-468c-44b8-a839-59769b2cb5b6-c000.csv\r\n",
      "part-00054-4bb548db-468c-44b8-a839-59769b2cb5b6-c000.csv\r\n",
      "part-00055-4bb548db-468c-44b8-a839-59769b2cb5b6-c000.csv\r\n",
      "part-00056-4bb548db-468c-44b8-a839-59769b2cb5b6-c000.csv\r\n",
      "part-00057-4bb548db-468c-44b8-a839-59769b2cb5b6-c000.csv\r\n",
      "part-00058-4bb548db-468c-44b8-a839-59769b2cb5b6-c000.csv\r\n",
      "part-00059-4bb548db-468c-44b8-a839-59769b2cb5b6-c000.csv\r\n",
      "part-00060-4bb548db-468c-44b8-a839-59769b2cb5b6-c000.csv\r\n",
      "part-00061-4bb548db-468c-44b8-a839-59769b2cb5b6-c000.csv\r\n",
      "part-00062-4bb548db-468c-44b8-a839-59769b2cb5b6-c000.csv\r\n",
      "part-00063-4bb548db-468c-44b8-a839-59769b2cb5b6-c000.csv\r\n",
      "part-00064-4bb548db-468c-44b8-a839-59769b2cb5b6-c000.csv\r\n",
      "part-00065-4bb548db-468c-44b8-a839-59769b2cb5b6-c000.csv\r\n",
      "part-00066-4bb548db-468c-44b8-a839-59769b2cb5b6-c000.csv\r\n",
      "part-00067-4bb548db-468c-44b8-a839-59769b2cb5b6-c000.csv\r\n",
      "part-00068-4bb548db-468c-44b8-a839-59769b2cb5b6-c000.csv\r\n",
      "part-00069-4bb548db-468c-44b8-a839-59769b2cb5b6-c000.csv\r\n",
      "part-00070-4bb548db-468c-44b8-a839-59769b2cb5b6-c000.csv\r\n",
      "part-00071-4bb548db-468c-44b8-a839-59769b2cb5b6-c000.csv\r\n",
      "part-00072-4bb548db-468c-44b8-a839-59769b2cb5b6-c000.csv\r\n",
      "part-00073-4bb548db-468c-44b8-a839-59769b2cb5b6-c000.csv\r\n",
      "part-00074-4bb548db-468c-44b8-a839-59769b2cb5b6-c000.csv\r\n",
      "part-00075-4bb548db-468c-44b8-a839-59769b2cb5b6-c000.csv\r\n",
      "part-00076-4bb548db-468c-44b8-a839-59769b2cb5b6-c000.csv\r\n",
      "part-00077-4bb548db-468c-44b8-a839-59769b2cb5b6-c000.csv\r\n",
      "part-00078-4bb548db-468c-44b8-a839-59769b2cb5b6-c000.csv\r\n",
      "part-00079-4bb548db-468c-44b8-a839-59769b2cb5b6-c000.csv\r\n",
      "part-00080-4bb548db-468c-44b8-a839-59769b2cb5b6-c000.csv\r\n",
      "part-00081-4bb548db-468c-44b8-a839-59769b2cb5b6-c000.csv\r\n",
      "part-00082-4bb548db-468c-44b8-a839-59769b2cb5b6-c000.csv\r\n",
      "part-00083-4bb548db-468c-44b8-a839-59769b2cb5b6-c000.csv\r\n",
      "part-00084-4bb548db-468c-44b8-a839-59769b2cb5b6-c000.csv\r\n",
      "part-00085-4bb548db-468c-44b8-a839-59769b2cb5b6-c000.csv\r\n",
      "part-00086-4bb548db-468c-44b8-a839-59769b2cb5b6-c000.csv\r\n",
      "part-00087-4bb548db-468c-44b8-a839-59769b2cb5b6-c000.csv\r\n",
      "part-00088-4bb548db-468c-44b8-a839-59769b2cb5b6-c000.csv\r\n",
      "part-00089-4bb548db-468c-44b8-a839-59769b2cb5b6-c000.csv\r\n",
      "part-00090-4bb548db-468c-44b8-a839-59769b2cb5b6-c000.csv\r\n",
      "part-00091-4bb548db-468c-44b8-a839-59769b2cb5b6-c000.csv\r\n",
      "part-00092-4bb548db-468c-44b8-a839-59769b2cb5b6-c000.csv\r\n",
      "part-00093-4bb548db-468c-44b8-a839-59769b2cb5b6-c000.csv\r\n",
      "part-00094-4bb548db-468c-44b8-a839-59769b2cb5b6-c000.csv\r\n",
      "part-00095-4bb548db-468c-44b8-a839-59769b2cb5b6-c000.csv\r\n",
      "part-00096-4bb548db-468c-44b8-a839-59769b2cb5b6-c000.csv\r\n",
      "part-00097-4bb548db-468c-44b8-a839-59769b2cb5b6-c000.csv\r\n",
      "part-00098-4bb548db-468c-44b8-a839-59769b2cb5b6-c000.csv\r\n",
      "part-00099-4bb548db-468c-44b8-a839-59769b2cb5b6-c000.csv\r\n",
      "part-00100-4bb548db-468c-44b8-a839-59769b2cb5b6-c000.csv\r\n",
      "part-00101-4bb548db-468c-44b8-a839-59769b2cb5b6-c000.csv\r\n",
      "part-00102-4bb548db-468c-44b8-a839-59769b2cb5b6-c000.csv\r\n",
      "part-00103-4bb548db-468c-44b8-a839-59769b2cb5b6-c000.csv\r\n",
      "part-00104-4bb548db-468c-44b8-a839-59769b2cb5b6-c000.csv\r\n",
      "part-00105-4bb548db-468c-44b8-a839-59769b2cb5b6-c000.csv\r\n",
      "part-00106-4bb548db-468c-44b8-a839-59769b2cb5b6-c000.csv\r\n",
      "part-00107-4bb548db-468c-44b8-a839-59769b2cb5b6-c000.csv\r\n",
      "part-00108-4bb548db-468c-44b8-a839-59769b2cb5b6-c000.csv\r\n",
      "part-00109-4bb548db-468c-44b8-a839-59769b2cb5b6-c000.csv\r\n",
      "part-00110-4bb548db-468c-44b8-a839-59769b2cb5b6-c000.csv\r\n",
      "part-00111-4bb548db-468c-44b8-a839-59769b2cb5b6-c000.csv\r\n",
      "part-00112-4bb548db-468c-44b8-a839-59769b2cb5b6-c000.csv\r\n",
      "part-00113-4bb548db-468c-44b8-a839-59769b2cb5b6-c000.csv\r\n",
      "part-00114-4bb548db-468c-44b8-a839-59769b2cb5b6-c000.csv\r\n",
      "part-00115-4bb548db-468c-44b8-a839-59769b2cb5b6-c000.csv\r\n",
      "part-00116-4bb548db-468c-44b8-a839-59769b2cb5b6-c000.csv\r\n",
      "part-00117-4bb548db-468c-44b8-a839-59769b2cb5b6-c000.csv\r\n",
      "part-00118-4bb548db-468c-44b8-a839-59769b2cb5b6-c000.csv\r\n",
      "part-00119-4bb548db-468c-44b8-a839-59769b2cb5b6-c000.csv\r\n",
      "part-00120-4bb548db-468c-44b8-a839-59769b2cb5b6-c000.csv\r\n",
      "part-00121-4bb548db-468c-44b8-a839-59769b2cb5b6-c000.csv\r\n",
      "part-00122-4bb548db-468c-44b8-a839-59769b2cb5b6-c000.csv\r\n",
      "part-00123-4bb548db-468c-44b8-a839-59769b2cb5b6-c000.csv\r\n",
      "part-00124-4bb548db-468c-44b8-a839-59769b2cb5b6-c000.csv\r\n",
      "part-00125-4bb548db-468c-44b8-a839-59769b2cb5b6-c000.csv\r\n",
      "part-00126-4bb548db-468c-44b8-a839-59769b2cb5b6-c000.csv\r\n",
      "part-00127-4bb548db-468c-44b8-a839-59769b2cb5b6-c000.csv\r\n",
      "part-00128-4bb548db-468c-44b8-a839-59769b2cb5b6-c000.csv\r\n",
      "part-00129-4bb548db-468c-44b8-a839-59769b2cb5b6-c000.csv\r\n",
      "part-00130-4bb548db-468c-44b8-a839-59769b2cb5b6-c000.csv\r\n",
      "part-00131-4bb548db-468c-44b8-a839-59769b2cb5b6-c000.csv\r\n",
      "part-00132-4bb548db-468c-44b8-a839-59769b2cb5b6-c000.csv\r\n",
      "part-00133-4bb548db-468c-44b8-a839-59769b2cb5b6-c000.csv\r\n",
      "part-00134-4bb548db-468c-44b8-a839-59769b2cb5b6-c000.csv\r\n",
      "part-00135-4bb548db-468c-44b8-a839-59769b2cb5b6-c000.csv\r\n",
      "part-00136-4bb548db-468c-44b8-a839-59769b2cb5b6-c000.csv\r\n",
      "part-00137-4bb548db-468c-44b8-a839-59769b2cb5b6-c000.csv\r\n",
      "part-00138-4bb548db-468c-44b8-a839-59769b2cb5b6-c000.csv\r\n",
      "part-00139-4bb548db-468c-44b8-a839-59769b2cb5b6-c000.csv\r\n",
      "part-00140-4bb548db-468c-44b8-a839-59769b2cb5b6-c000.csv\r\n",
      "part-00141-4bb548db-468c-44b8-a839-59769b2cb5b6-c000.csv\r\n",
      "part-00142-4bb548db-468c-44b8-a839-59769b2cb5b6-c000.csv\r\n",
      "part-00143-4bb548db-468c-44b8-a839-59769b2cb5b6-c000.csv\r\n",
      "part-00144-4bb548db-468c-44b8-a839-59769b2cb5b6-c000.csv\r\n",
      "part-00145-4bb548db-468c-44b8-a839-59769b2cb5b6-c000.csv\r\n",
      "part-00146-4bb548db-468c-44b8-a839-59769b2cb5b6-c000.csv\r\n",
      "part-00147-4bb548db-468c-44b8-a839-59769b2cb5b6-c000.csv\r\n",
      "part-00148-4bb548db-468c-44b8-a839-59769b2cb5b6-c000.csv\r\n",
      "part-00149-4bb548db-468c-44b8-a839-59769b2cb5b6-c000.csv\r\n",
      "part-00150-4bb548db-468c-44b8-a839-59769b2cb5b6-c000.csv\r\n",
      "part-00151-4bb548db-468c-44b8-a839-59769b2cb5b6-c000.csv\r\n",
      "part-00152-4bb548db-468c-44b8-a839-59769b2cb5b6-c000.csv\r\n",
      "part-00153-4bb548db-468c-44b8-a839-59769b2cb5b6-c000.csv\r\n",
      "part-00154-4bb548db-468c-44b8-a839-59769b2cb5b6-c000.csv\r\n",
      "part-00155-4bb548db-468c-44b8-a839-59769b2cb5b6-c000.csv\r\n",
      "part-00156-4bb548db-468c-44b8-a839-59769b2cb5b6-c000.csv\r\n",
      "part-00157-4bb548db-468c-44b8-a839-59769b2cb5b6-c000.csv\r\n",
      "part-00158-4bb548db-468c-44b8-a839-59769b2cb5b6-c000.csv\r\n",
      "part-00159-4bb548db-468c-44b8-a839-59769b2cb5b6-c000.csv\r\n",
      "part-00160-4bb548db-468c-44b8-a839-59769b2cb5b6-c000.csv\r\n",
      "part-00161-4bb548db-468c-44b8-a839-59769b2cb5b6-c000.csv\r\n",
      "part-00162-4bb548db-468c-44b8-a839-59769b2cb5b6-c000.csv\r\n",
      "part-00163-4bb548db-468c-44b8-a839-59769b2cb5b6-c000.csv\r\n",
      "part-00164-4bb548db-468c-44b8-a839-59769b2cb5b6-c000.csv\r\n",
      "part-00165-4bb548db-468c-44b8-a839-59769b2cb5b6-c000.csv\r\n",
      "part-00166-4bb548db-468c-44b8-a839-59769b2cb5b6-c000.csv\r\n",
      "part-00167-4bb548db-468c-44b8-a839-59769b2cb5b6-c000.csv\r\n",
      "part-00168-4bb548db-468c-44b8-a839-59769b2cb5b6-c000.csv\r\n",
      "part-00169-4bb548db-468c-44b8-a839-59769b2cb5b6-c000.csv\r\n",
      "part-00170-4bb548db-468c-44b8-a839-59769b2cb5b6-c000.csv\r\n",
      "part-00171-4bb548db-468c-44b8-a839-59769b2cb5b6-c000.csv\r\n",
      "part-00172-4bb548db-468c-44b8-a839-59769b2cb5b6-c000.csv\r\n",
      "part-00173-4bb548db-468c-44b8-a839-59769b2cb5b6-c000.csv\r\n",
      "part-00174-4bb548db-468c-44b8-a839-59769b2cb5b6-c000.csv\r\n",
      "part-00175-4bb548db-468c-44b8-a839-59769b2cb5b6-c000.csv\r\n",
      "part-00176-4bb548db-468c-44b8-a839-59769b2cb5b6-c000.csv\r\n",
      "part-00177-4bb548db-468c-44b8-a839-59769b2cb5b6-c000.csv\r\n",
      "part-00178-4bb548db-468c-44b8-a839-59769b2cb5b6-c000.csv\r\n",
      "part-00179-4bb548db-468c-44b8-a839-59769b2cb5b6-c000.csv\r\n",
      "part-00180-4bb548db-468c-44b8-a839-59769b2cb5b6-c000.csv\r\n",
      "part-00181-4bb548db-468c-44b8-a839-59769b2cb5b6-c000.csv\r\n",
      "part-00182-4bb548db-468c-44b8-a839-59769b2cb5b6-c000.csv\r\n",
      "part-00183-4bb548db-468c-44b8-a839-59769b2cb5b6-c000.csv\r\n",
      "part-00184-4bb548db-468c-44b8-a839-59769b2cb5b6-c000.csv\r\n",
      "part-00185-4bb548db-468c-44b8-a839-59769b2cb5b6-c000.csv\r\n",
      "part-00186-4bb548db-468c-44b8-a839-59769b2cb5b6-c000.csv\r\n",
      "part-00187-4bb548db-468c-44b8-a839-59769b2cb5b6-c000.csv\r\n",
      "part-00188-4bb548db-468c-44b8-a839-59769b2cb5b6-c000.csv\r\n",
      "part-00189-4bb548db-468c-44b8-a839-59769b2cb5b6-c000.csv\r\n",
      "part-00190-4bb548db-468c-44b8-a839-59769b2cb5b6-c000.csv\r\n",
      "part-00191-4bb548db-468c-44b8-a839-59769b2cb5b6-c000.csv\r\n",
      "part-00192-4bb548db-468c-44b8-a839-59769b2cb5b6-c000.csv\r\n",
      "part-00193-4bb548db-468c-44b8-a839-59769b2cb5b6-c000.csv\r\n",
      "part-00194-4bb548db-468c-44b8-a839-59769b2cb5b6-c000.csv\r\n",
      "part-00195-4bb548db-468c-44b8-a839-59769b2cb5b6-c000.csv\r\n",
      "part-00196-4bb548db-468c-44b8-a839-59769b2cb5b6-c000.csv\r\n",
      "part-00197-4bb548db-468c-44b8-a839-59769b2cb5b6-c000.csv\r\n",
      "part-00198-4bb548db-468c-44b8-a839-59769b2cb5b6-c000.csv\r\n",
      "part-00199-4bb548db-468c-44b8-a839-59769b2cb5b6-c000.csv\r\n",
      "_SUCCESS\r\n"
     ]
    }
   ],
   "source": [
    "! ls ../data/output/aggregated_customer_usage/"
   ]
  },
  {
   "cell_type": "markdown",
   "metadata": {},
   "source": [
    "Kadangi duomenys išsagojami į direktoriją po failą kiekvienai Spark duomenų particijai, atskirai išsaugojame stulpelių pavadinimus."
   ]
  },
  {
   "cell_type": "code",
   "execution_count": 55,
   "metadata": {},
   "outputs": [],
   "source": [
    "with open(\"../data/output/header__aggregated_customer_usage.txt\", \"w\") as f:\n",
    "    f.write(\",\".join(aggregate_usage_df.columns) + \"\\n\")"
   ]
  },
  {
   "cell_type": "code",
   "execution_count": 56,
   "metadata": {},
   "outputs": [
    {
     "name": "stdout",
     "output_type": "stream",
     "text": [
      "user_account_id,user_lifetime,user_no_outgoing_activity_in_days,user_account_balance_last,user_spendings,reloads_inactive_days,reloads_count,reloads_sum,calls_outgoing_count,calls_outgoing_spendings,calls_outgoing_duration,calls_outgoing_spendings_max,calls_outgoing_duration_max,calls_outgoing_inactive_days,calls_outgoing_to_onnet_count,calls_outgoing_to_onnet_spendings,calls_outgoing_to_onnet_duration,calls_outgoing_to_onnet_inactive_days,calls_outgoing_to_offnet_count,calls_outgoing_to_offnet_spendings,calls_outgoing_to_offnet_duration,calls_outgoing_to_offnet_inactive_days,calls_outgoing_to_abroad_count,calls_outgoing_to_abroad_spendings,calls_outgoing_to_abroad_duration,calls_outgoing_to_abroad_inactive_days,sms_outgoing_count,sms_outgoing_spendings,sms_outgoing_spendings_max,sms_outgoing_inactive_days,sms_outgoing_to_onnet_count,sms_outgoing_to_onnet_spendings,sms_outgoing_to_onnet_inactive_days,sms_outgoing_to_offnet_count,sms_outgoing_to_offnet_spendings,sms_outgoing_to_offnet_inactive_days,sms_outgoing_to_abroad_count,sms_outgoing_to_abroad_spendings,sms_outgoing_to_abroad_inactive_days,sms_incoming_count,sms_incoming_spendings,sms_incoming_from_abroad_count,sms_incoming_from_abroad_spendings,gprs_session_count,gprs_usage,gprs_spendings,gprs_inactive_days,last_100_reloads_count,last_100_reloads_sum,last_100_calls_outgoing_duration,last_100_calls_outgoing_to_onnet_duration,last_100_calls_outgoing_to_offnet_duration,last_100_calls_outgoing_to_abroad_duration,last_100_sms_outgoing_count,last_100_sms_outgoing_to_onnet_count,last_100_sms_outgoing_to_offnet_count,last_100_sms_outgoing_to_abroad_count,last_100_gprs_usage,user_intake,user_has_outgoing_calls,user_has_outgoing_sms,user_use_gprs,user_does_reload,n_months\r\n"
     ]
    }
   ],
   "source": [
    "! cat ../data/output/header__aggregated_customer_usage.txt"
   ]
  },
  {
   "cell_type": "markdown",
   "metadata": {},
   "source": [
    "Kas bus, jeigu duomenis nuskaitysime be stulpelių pavadinimų:"
   ]
  },
  {
   "cell_type": "markdown",
   "metadata": {},
   "source": [
    "Nuskaitome stulpelių pavadinimus ir sukuriame jų `list`'ą"
   ]
  },
  {
   "cell_type": "code",
   "execution_count": 57,
   "metadata": {},
   "outputs": [],
   "source": [
    "with open(\"../data/output/header__aggregated_customer_usage.txt\") as f:\n",
    "    columns = f.read().rstrip().split(\",\")"
   ]
  },
  {
   "cell_type": "code",
   "execution_count": 58,
   "metadata": {},
   "outputs": [
    {
     "data": {
      "text/plain": [
       "['user_account_id',\n",
       " 'user_lifetime',\n",
       " 'user_no_outgoing_activity_in_days',\n",
       " 'user_account_balance_last',\n",
       " 'user_spendings',\n",
       " 'reloads_inactive_days',\n",
       " 'reloads_count',\n",
       " 'reloads_sum',\n",
       " 'calls_outgoing_count',\n",
       " 'calls_outgoing_spendings',\n",
       " 'calls_outgoing_duration',\n",
       " 'calls_outgoing_spendings_max',\n",
       " 'calls_outgoing_duration_max',\n",
       " 'calls_outgoing_inactive_days',\n",
       " 'calls_outgoing_to_onnet_count',\n",
       " 'calls_outgoing_to_onnet_spendings',\n",
       " 'calls_outgoing_to_onnet_duration',\n",
       " 'calls_outgoing_to_onnet_inactive_days',\n",
       " 'calls_outgoing_to_offnet_count',\n",
       " 'calls_outgoing_to_offnet_spendings',\n",
       " 'calls_outgoing_to_offnet_duration',\n",
       " 'calls_outgoing_to_offnet_inactive_days',\n",
       " 'calls_outgoing_to_abroad_count',\n",
       " 'calls_outgoing_to_abroad_spendings',\n",
       " 'calls_outgoing_to_abroad_duration',\n",
       " 'calls_outgoing_to_abroad_inactive_days',\n",
       " 'sms_outgoing_count',\n",
       " 'sms_outgoing_spendings',\n",
       " 'sms_outgoing_spendings_max',\n",
       " 'sms_outgoing_inactive_days',\n",
       " 'sms_outgoing_to_onnet_count',\n",
       " 'sms_outgoing_to_onnet_spendings',\n",
       " 'sms_outgoing_to_onnet_inactive_days',\n",
       " 'sms_outgoing_to_offnet_count',\n",
       " 'sms_outgoing_to_offnet_spendings',\n",
       " 'sms_outgoing_to_offnet_inactive_days',\n",
       " 'sms_outgoing_to_abroad_count',\n",
       " 'sms_outgoing_to_abroad_spendings',\n",
       " 'sms_outgoing_to_abroad_inactive_days',\n",
       " 'sms_incoming_count',\n",
       " 'sms_incoming_spendings',\n",
       " 'sms_incoming_from_abroad_count',\n",
       " 'sms_incoming_from_abroad_spendings',\n",
       " 'gprs_session_count',\n",
       " 'gprs_usage',\n",
       " 'gprs_spendings',\n",
       " 'gprs_inactive_days',\n",
       " 'last_100_reloads_count',\n",
       " 'last_100_reloads_sum',\n",
       " 'last_100_calls_outgoing_duration',\n",
       " 'last_100_calls_outgoing_to_onnet_duration',\n",
       " 'last_100_calls_outgoing_to_offnet_duration',\n",
       " 'last_100_calls_outgoing_to_abroad_duration',\n",
       " 'last_100_sms_outgoing_count',\n",
       " 'last_100_sms_outgoing_to_onnet_count',\n",
       " 'last_100_sms_outgoing_to_offnet_count',\n",
       " 'last_100_sms_outgoing_to_abroad_count',\n",
       " 'last_100_gprs_usage',\n",
       " 'user_intake',\n",
       " 'user_has_outgoing_calls',\n",
       " 'user_has_outgoing_sms',\n",
       " 'user_use_gprs',\n",
       " 'user_does_reload',\n",
       " 'n_months']"
      ]
     },
     "execution_count": 58,
     "metadata": {},
     "output_type": "execute_result"
    }
   ],
   "source": [
    "columns"
   ]
  },
  {
   "cell_type": "markdown",
   "metadata": {},
   "source": [
    "Nuskaitome duomenis, sudarome python dict'ą iš esamų stulpelių pavadinimų į tikruosius pavadinimus, ir pervadiname stulpepių pavadinimus"
   ]
  },
  {
   "cell_type": "code",
   "execution_count": 30,
   "metadata": {},
   "outputs": [],
   "source": [
    "aggregate_usage_without_columns_df = (\n",
    "    spark.read.csv(\"../data/output/aggregated_customer_usage/\", inferSchema=True, header=False)\n",
    ")"
   ]
  },
  {
   "cell_type": "code",
   "execution_count": 31,
   "metadata": {},
   "outputs": [
    {
     "data": {
      "text/plain": [
       "['_c0',\n",
       " '_c1',\n",
       " '_c2',\n",
       " '_c3',\n",
       " '_c4',\n",
       " '_c5',\n",
       " '_c6',\n",
       " '_c7',\n",
       " '_c8',\n",
       " '_c9',\n",
       " '_c10',\n",
       " '_c11',\n",
       " '_c12',\n",
       " '_c13',\n",
       " '_c14',\n",
       " '_c15',\n",
       " '_c16',\n",
       " '_c17',\n",
       " '_c18',\n",
       " '_c19',\n",
       " '_c20',\n",
       " '_c21',\n",
       " '_c22',\n",
       " '_c23',\n",
       " '_c24',\n",
       " '_c25',\n",
       " '_c26',\n",
       " '_c27',\n",
       " '_c28',\n",
       " '_c29',\n",
       " '_c30',\n",
       " '_c31',\n",
       " '_c32',\n",
       " '_c33',\n",
       " '_c34',\n",
       " '_c35',\n",
       " '_c36',\n",
       " '_c37',\n",
       " '_c38',\n",
       " '_c39',\n",
       " '_c40',\n",
       " '_c41',\n",
       " '_c42',\n",
       " '_c43',\n",
       " '_c44',\n",
       " '_c45',\n",
       " '_c46',\n",
       " '_c47',\n",
       " '_c48',\n",
       " '_c49',\n",
       " '_c50',\n",
       " '_c51',\n",
       " '_c52',\n",
       " '_c53',\n",
       " '_c54',\n",
       " '_c55',\n",
       " '_c56',\n",
       " '_c57',\n",
       " '_c58',\n",
       " '_c59',\n",
       " '_c60',\n",
       " '_c61',\n",
       " '_c62',\n",
       " '_c63']"
      ]
     },
     "execution_count": 31,
     "metadata": {},
     "output_type": "execute_result"
    }
   ],
   "source": [
    "default_column_names = aggregate_usage_without_columns_df.columns\n",
    "default_column_names"
   ]
  },
  {
   "cell_type": "code",
   "execution_count": 32,
   "metadata": {},
   "outputs": [
    {
     "data": {
      "text/plain": [
       "{'_c0': 'user_account_id',\n",
       " '_c1': 'user_lifetime',\n",
       " '_c10': 'calls_outgoing_duration',\n",
       " '_c11': 'calls_outgoing_spendings_max',\n",
       " '_c12': 'calls_outgoing_duration_max',\n",
       " '_c13': 'calls_outgoing_inactive_days',\n",
       " '_c14': 'calls_outgoing_to_onnet_count',\n",
       " '_c15': 'calls_outgoing_to_onnet_spendings',\n",
       " '_c16': 'calls_outgoing_to_onnet_duration',\n",
       " '_c17': 'calls_outgoing_to_onnet_inactive_days',\n",
       " '_c18': 'calls_outgoing_to_offnet_count',\n",
       " '_c19': 'calls_outgoing_to_offnet_spendings',\n",
       " '_c2': 'user_no_outgoing_activity_in_days',\n",
       " '_c20': 'calls_outgoing_to_offnet_duration',\n",
       " '_c21': 'calls_outgoing_to_offnet_inactive_days',\n",
       " '_c22': 'calls_outgoing_to_abroad_count',\n",
       " '_c23': 'calls_outgoing_to_abroad_spendings',\n",
       " '_c24': 'calls_outgoing_to_abroad_duration',\n",
       " '_c25': 'calls_outgoing_to_abroad_inactive_days',\n",
       " '_c26': 'sms_outgoing_count',\n",
       " '_c27': 'sms_outgoing_spendings',\n",
       " '_c28': 'sms_outgoing_spendings_max',\n",
       " '_c29': 'sms_outgoing_inactive_days',\n",
       " '_c3': 'user_account_balance_last',\n",
       " '_c30': 'sms_outgoing_to_onnet_count',\n",
       " '_c31': 'sms_outgoing_to_onnet_spendings',\n",
       " '_c32': 'sms_outgoing_to_onnet_inactive_days',\n",
       " '_c33': 'sms_outgoing_to_offnet_count',\n",
       " '_c34': 'sms_outgoing_to_offnet_spendings',\n",
       " '_c35': 'sms_outgoing_to_offnet_inactive_days',\n",
       " '_c36': 'sms_outgoing_to_abroad_count',\n",
       " '_c37': 'sms_outgoing_to_abroad_spendings',\n",
       " '_c38': 'sms_outgoing_to_abroad_inactive_days',\n",
       " '_c39': 'sms_incoming_count',\n",
       " '_c4': 'user_spendings',\n",
       " '_c40': 'sms_incoming_spendings',\n",
       " '_c41': 'sms_incoming_from_abroad_count',\n",
       " '_c42': 'sms_incoming_from_abroad_spendings',\n",
       " '_c43': 'gprs_session_count',\n",
       " '_c44': 'gprs_usage',\n",
       " '_c45': 'gprs_spendings',\n",
       " '_c46': 'gprs_inactive_days',\n",
       " '_c47': 'last_100_reloads_count',\n",
       " '_c48': 'last_100_reloads_sum',\n",
       " '_c49': 'last_100_calls_outgoing_duration',\n",
       " '_c5': 'reloads_inactive_days',\n",
       " '_c50': 'last_100_calls_outgoing_to_onnet_duration',\n",
       " '_c51': 'last_100_calls_outgoing_to_offnet_duration',\n",
       " '_c52': 'last_100_calls_outgoing_to_abroad_duration',\n",
       " '_c53': 'last_100_sms_outgoing_count',\n",
       " '_c54': 'last_100_sms_outgoing_to_onnet_count',\n",
       " '_c55': 'last_100_sms_outgoing_to_offnet_count',\n",
       " '_c56': 'last_100_sms_outgoing_to_abroad_count',\n",
       " '_c57': 'last_100_gprs_usage',\n",
       " '_c58': 'user_intake',\n",
       " '_c59': 'user_has_outgoing_calls',\n",
       " '_c6': 'reloads_count',\n",
       " '_c60': 'user_has_outgoing_sms',\n",
       " '_c61': 'user_use_gprs',\n",
       " '_c62': 'user_does_reload',\n",
       " '_c63': 'n_months',\n",
       " '_c7': 'reloads_sum',\n",
       " '_c8': 'calls_outgoing_count',\n",
       " '_c9': 'calls_outgoing_spendings'}"
      ]
     },
     "execution_count": 32,
     "metadata": {},
     "output_type": "execute_result"
    }
   ],
   "source": [
    "aggregate_usage_columns_map = dict(zip(default_column_names, columns))\n",
    "\n",
    "aggregate_usage_columns_map"
   ]
  },
  {
   "cell_type": "code",
   "execution_count": 33,
   "metadata": {},
   "outputs": [],
   "source": [
    "aggregate_usage_with_columns_df = (\n",
    "    aggregate_usage_without_columns_df\n",
    "    .select([pyspark.sql.functions.col(c).alias(aggregate_usage_columns_map.get(c, c)) \n",
    "             for c in default_column_names])\n",
    ")"
   ]
  },
  {
   "cell_type": "code",
   "execution_count": 34,
   "metadata": {},
   "outputs": [
    {
     "data": {
      "text/plain": [
       "['user_account_id',\n",
       " 'user_lifetime',\n",
       " 'user_no_outgoing_activity_in_days',\n",
       " 'user_account_balance_last',\n",
       " 'user_spendings',\n",
       " 'reloads_inactive_days',\n",
       " 'reloads_count',\n",
       " 'reloads_sum',\n",
       " 'calls_outgoing_count',\n",
       " 'calls_outgoing_spendings',\n",
       " 'calls_outgoing_duration',\n",
       " 'calls_outgoing_spendings_max',\n",
       " 'calls_outgoing_duration_max',\n",
       " 'calls_outgoing_inactive_days',\n",
       " 'calls_outgoing_to_onnet_count',\n",
       " 'calls_outgoing_to_onnet_spendings',\n",
       " 'calls_outgoing_to_onnet_duration',\n",
       " 'calls_outgoing_to_onnet_inactive_days',\n",
       " 'calls_outgoing_to_offnet_count',\n",
       " 'calls_outgoing_to_offnet_spendings',\n",
       " 'calls_outgoing_to_offnet_duration',\n",
       " 'calls_outgoing_to_offnet_inactive_days',\n",
       " 'calls_outgoing_to_abroad_count',\n",
       " 'calls_outgoing_to_abroad_spendings',\n",
       " 'calls_outgoing_to_abroad_duration',\n",
       " 'calls_outgoing_to_abroad_inactive_days',\n",
       " 'sms_outgoing_count',\n",
       " 'sms_outgoing_spendings',\n",
       " 'sms_outgoing_spendings_max',\n",
       " 'sms_outgoing_inactive_days',\n",
       " 'sms_outgoing_to_onnet_count',\n",
       " 'sms_outgoing_to_onnet_spendings',\n",
       " 'sms_outgoing_to_onnet_inactive_days',\n",
       " 'sms_outgoing_to_offnet_count',\n",
       " 'sms_outgoing_to_offnet_spendings',\n",
       " 'sms_outgoing_to_offnet_inactive_days',\n",
       " 'sms_outgoing_to_abroad_count',\n",
       " 'sms_outgoing_to_abroad_spendings',\n",
       " 'sms_outgoing_to_abroad_inactive_days',\n",
       " 'sms_incoming_count',\n",
       " 'sms_incoming_spendings',\n",
       " 'sms_incoming_from_abroad_count',\n",
       " 'sms_incoming_from_abroad_spendings',\n",
       " 'gprs_session_count',\n",
       " 'gprs_usage',\n",
       " 'gprs_spendings',\n",
       " 'gprs_inactive_days',\n",
       " 'last_100_reloads_count',\n",
       " 'last_100_reloads_sum',\n",
       " 'last_100_calls_outgoing_duration',\n",
       " 'last_100_calls_outgoing_to_onnet_duration',\n",
       " 'last_100_calls_outgoing_to_offnet_duration',\n",
       " 'last_100_calls_outgoing_to_abroad_duration',\n",
       " 'last_100_sms_outgoing_count',\n",
       " 'last_100_sms_outgoing_to_onnet_count',\n",
       " 'last_100_sms_outgoing_to_offnet_count',\n",
       " 'last_100_sms_outgoing_to_abroad_count',\n",
       " 'last_100_gprs_usage',\n",
       " 'user_intake',\n",
       " 'user_has_outgoing_calls',\n",
       " 'user_has_outgoing_sms',\n",
       " 'user_use_gprs',\n",
       " 'user_does_reload',\n",
       " 'n_months']"
      ]
     },
     "execution_count": 34,
     "metadata": {},
     "output_type": "execute_result"
    }
   ],
   "source": [
    "aggregate_usage_with_columns_df.columns"
   ]
  },
  {
   "cell_type": "code",
   "execution_count": 35,
   "metadata": {},
   "outputs": [
    {
     "data": {
      "text/plain": [
       "Row(user_account_id=984822, user_lifetime=457.0, user_no_outgoing_activity_in_days=1.0, user_account_balance_last=8.883333333333335, user_spendings=1.9733333333333334, reloads_inactive_days=37.0, reloads_count=0.3333333333333333, reloads_sum=1.3333333333333333, calls_outgoing_count=27.333333333333332, calls_outgoing_spendings=1.6533333333333333, calls_outgoing_duration=19.233333333333334, calls_outgoing_spendings_max=0.3466666666666667, calls_outgoing_duration_max=5.816666666666667, calls_outgoing_inactive_days=1.0, calls_outgoing_to_onnet_count=0.0, calls_outgoing_to_onnet_spendings=0.0, calls_outgoing_to_onnet_duration=0.0, calls_outgoing_to_onnet_inactive_days=1.0, calls_outgoing_to_offnet_count=20.0, calls_outgoing_to_offnet_spendings=1.3033333333333335, calls_outgoing_to_offnet_duration=8.676666666666668, calls_outgoing_to_offnet_inactive_days=1.0, calls_outgoing_to_abroad_count=0.0, calls_outgoing_to_abroad_spendings=0.0, calls_outgoing_to_abroad_duration=0.0, calls_outgoing_to_abroad_inactive_days=1.0, sms_outgoing_count=9.666666666666666, sms_outgoing_spendings=0.32, sms_outgoing_spendings_max=0.04, sms_outgoing_inactive_days=4.666666666666667, sms_outgoing_to_onnet_count=2.0, sms_outgoing_to_onnet_spendings=0.12, sms_outgoing_to_onnet_inactive_days=4.666666666666667, sms_outgoing_to_offnet_count=3.3333333333333335, sms_outgoing_to_offnet_spendings=0.19999999999999998, sms_outgoing_to_offnet_inactive_days=4.666666666666667, sms_outgoing_to_abroad_count=0.0, sms_outgoing_to_abroad_spendings=0.0, sms_outgoing_to_abroad_inactive_days=4.666666666666667, sms_incoming_count=10.333333333333334, sms_incoming_spendings=0.0, sms_incoming_from_abroad_count=0.0, sms_incoming_from_abroad_spendings=0.0, gprs_session_count=0.0, gprs_usage=0.0, gprs_spendings=0.0, gprs_inactive_days=1307.0, last_100_reloads_count=1.0, last_100_reloads_sum=4.0, last_100_calls_outgoing_duration=40.31666666666667, last_100_calls_outgoing_to_onnet_duration=0.0, last_100_calls_outgoing_to_offnet_duration=22.97666666666667, last_100_calls_outgoing_to_abroad_duration=0.0, last_100_sms_outgoing_count=25.666666666666668, last_100_sms_outgoing_to_onnet_count=4.333333333333333, last_100_sms_outgoing_to_offnet_count=9.333333333333334, last_100_sms_outgoing_to_abroad_count=0.0, last_100_gprs_usage=0.0, user_intake=0, user_has_outgoing_calls=1, user_has_outgoing_sms=1, user_use_gprs=0, user_does_reload=1, n_months=3)"
      ]
     },
     "execution_count": 35,
     "metadata": {},
     "output_type": "execute_result"
    }
   ],
   "source": [
    "aggregate_usage_with_columns_df.first()"
   ]
  },
  {
   "cell_type": "markdown",
   "metadata": {},
   "source": [
    "Patogumo dėlei išsauogojame kintamųjų pavadinimus pagal jų tipus."
   ]
  },
  {
   "cell_type": "code",
   "execution_count": 36,
   "metadata": {},
   "outputs": [],
   "source": [
    "with open(\"../data/output/columns_continuous__agg_usage.txt\", \"w\") as f:\n",
    "    f.write(\",\".join(continuous_columns) + \"\\n\")"
   ]
  },
  {
   "cell_type": "code",
   "execution_count": 37,
   "metadata": {},
   "outputs": [],
   "source": [
    "with open(\"../data/output/columns_binary__agg_usage.txt\", \"w\") as f:\n",
    "    f.write(\",\".join(binary_columns) + \"\\n\")"
   ]
  },
  {
   "cell_type": "code",
   "execution_count": 38,
   "metadata": {},
   "outputs": [],
   "source": [
    "with open(\"../data/output/columns_ids__agg_usage.txt\", \"w\") as f:\n",
    "    f.write(\",\".join(id_columns) + \"\\n\")"
   ]
  },
  {
   "cell_type": "code",
   "execution_count": 39,
   "metadata": {},
   "outputs": [],
   "source": [
    "with open(\"../data/output/columns_misc__agg_usage.txt\", \"w\") as f:\n",
    "    f.write(\"n_months\"  + \"\\n\")"
   ]
  },
  {
   "cell_type": "code",
   "execution_count": 40,
   "metadata": {},
   "outputs": [
    {
     "name": "stdout",
     "output_type": "stream",
     "text": [
      "\u001b[01;34m../data/output\u001b[00m\r\n",
      "├── \u001b[01;34maggregated_customer_usage\u001b[00m\r\n",
      "│   ├── part-00000-ce34a408-a8c4-4148-8da2-cc73e155b005-c000.csv\r\n",
      "│   ├── part-00001-ce34a408-a8c4-4148-8da2-cc73e155b005-c000.csv\r\n",
      "│   ├── part-00002-ce34a408-a8c4-4148-8da2-cc73e155b005-c000.csv\r\n",
      "│   ├── part-00003-ce34a408-a8c4-4148-8da2-cc73e155b005-c000.csv\r\n",
      "│   ├── part-00004-ce34a408-a8c4-4148-8da2-cc73e155b005-c000.csv\r\n",
      "│   ├── part-00005-ce34a408-a8c4-4148-8da2-cc73e155b005-c000.csv\r\n",
      "│   ├── part-00006-ce34a408-a8c4-4148-8da2-cc73e155b005-c000.csv\r\n",
      "│   ├── part-00007-ce34a408-a8c4-4148-8da2-cc73e155b005-c000.csv\r\n",
      "│   ├── part-00008-ce34a408-a8c4-4148-8da2-cc73e155b005-c000.csv\r\n",
      "│   ├── part-00009-ce34a408-a8c4-4148-8da2-cc73e155b005-c000.csv\r\n",
      "│   ├── part-00010-ce34a408-a8c4-4148-8da2-cc73e155b005-c000.csv\r\n",
      "│   ├── part-00011-ce34a408-a8c4-4148-8da2-cc73e155b005-c000.csv\r\n",
      "│   ├── part-00012-ce34a408-a8c4-4148-8da2-cc73e155b005-c000.csv\r\n",
      "│   ├── part-00013-ce34a408-a8c4-4148-8da2-cc73e155b005-c000.csv\r\n",
      "│   ├── part-00014-ce34a408-a8c4-4148-8da2-cc73e155b005-c000.csv\r\n",
      "│   ├── part-00015-ce34a408-a8c4-4148-8da2-cc73e155b005-c000.csv\r\n",
      "│   ├── part-00016-ce34a408-a8c4-4148-8da2-cc73e155b005-c000.csv\r\n",
      "│   ├── part-00017-ce34a408-a8c4-4148-8da2-cc73e155b005-c000.csv\r\n",
      "│   ├── part-00018-ce34a408-a8c4-4148-8da2-cc73e155b005-c000.csv\r\n",
      "│   ├── part-00019-ce34a408-a8c4-4148-8da2-cc73e155b005-c000.csv\r\n",
      "│   ├── part-00020-ce34a408-a8c4-4148-8da2-cc73e155b005-c000.csv\r\n",
      "│   ├── part-00021-ce34a408-a8c4-4148-8da2-cc73e155b005-c000.csv\r\n",
      "│   ├── part-00022-ce34a408-a8c4-4148-8da2-cc73e155b005-c000.csv\r\n",
      "│   ├── part-00023-ce34a408-a8c4-4148-8da2-cc73e155b005-c000.csv\r\n",
      "│   ├── part-00024-ce34a408-a8c4-4148-8da2-cc73e155b005-c000.csv\r\n",
      "│   ├── part-00025-ce34a408-a8c4-4148-8da2-cc73e155b005-c000.csv\r\n",
      "│   ├── part-00026-ce34a408-a8c4-4148-8da2-cc73e155b005-c000.csv\r\n",
      "│   ├── part-00027-ce34a408-a8c4-4148-8da2-cc73e155b005-c000.csv\r\n",
      "│   ├── part-00028-ce34a408-a8c4-4148-8da2-cc73e155b005-c000.csv\r\n",
      "│   ├── part-00029-ce34a408-a8c4-4148-8da2-cc73e155b005-c000.csv\r\n",
      "│   ├── part-00030-ce34a408-a8c4-4148-8da2-cc73e155b005-c000.csv\r\n",
      "│   ├── part-00031-ce34a408-a8c4-4148-8da2-cc73e155b005-c000.csv\r\n",
      "│   ├── part-00032-ce34a408-a8c4-4148-8da2-cc73e155b005-c000.csv\r\n",
      "│   ├── part-00033-ce34a408-a8c4-4148-8da2-cc73e155b005-c000.csv\r\n",
      "│   ├── part-00034-ce34a408-a8c4-4148-8da2-cc73e155b005-c000.csv\r\n",
      "│   ├── part-00035-ce34a408-a8c4-4148-8da2-cc73e155b005-c000.csv\r\n",
      "│   ├── part-00036-ce34a408-a8c4-4148-8da2-cc73e155b005-c000.csv\r\n",
      "│   ├── part-00037-ce34a408-a8c4-4148-8da2-cc73e155b005-c000.csv\r\n",
      "│   ├── part-00038-ce34a408-a8c4-4148-8da2-cc73e155b005-c000.csv\r\n",
      "│   ├── part-00039-ce34a408-a8c4-4148-8da2-cc73e155b005-c000.csv\r\n",
      "│   ├── part-00040-ce34a408-a8c4-4148-8da2-cc73e155b005-c000.csv\r\n",
      "│   ├── part-00041-ce34a408-a8c4-4148-8da2-cc73e155b005-c000.csv\r\n",
      "│   ├── part-00042-ce34a408-a8c4-4148-8da2-cc73e155b005-c000.csv\r\n",
      "│   ├── part-00043-ce34a408-a8c4-4148-8da2-cc73e155b005-c000.csv\r\n",
      "│   ├── part-00044-ce34a408-a8c4-4148-8da2-cc73e155b005-c000.csv\r\n",
      "│   ├── part-00045-ce34a408-a8c4-4148-8da2-cc73e155b005-c000.csv\r\n",
      "│   ├── part-00046-ce34a408-a8c4-4148-8da2-cc73e155b005-c000.csv\r\n",
      "│   ├── part-00047-ce34a408-a8c4-4148-8da2-cc73e155b005-c000.csv\r\n",
      "│   ├── part-00048-ce34a408-a8c4-4148-8da2-cc73e155b005-c000.csv\r\n",
      "│   ├── part-00049-ce34a408-a8c4-4148-8da2-cc73e155b005-c000.csv\r\n",
      "│   ├── part-00050-ce34a408-a8c4-4148-8da2-cc73e155b005-c000.csv\r\n",
      "│   ├── part-00051-ce34a408-a8c4-4148-8da2-cc73e155b005-c000.csv\r\n",
      "│   ├── part-00052-ce34a408-a8c4-4148-8da2-cc73e155b005-c000.csv\r\n",
      "│   ├── part-00053-ce34a408-a8c4-4148-8da2-cc73e155b005-c000.csv\r\n",
      "│   ├── part-00054-ce34a408-a8c4-4148-8da2-cc73e155b005-c000.csv\r\n",
      "│   ├── part-00055-ce34a408-a8c4-4148-8da2-cc73e155b005-c000.csv\r\n",
      "│   ├── part-00056-ce34a408-a8c4-4148-8da2-cc73e155b005-c000.csv\r\n",
      "│   ├── part-00057-ce34a408-a8c4-4148-8da2-cc73e155b005-c000.csv\r\n",
      "│   ├── part-00058-ce34a408-a8c4-4148-8da2-cc73e155b005-c000.csv\r\n",
      "│   ├── part-00059-ce34a408-a8c4-4148-8da2-cc73e155b005-c000.csv\r\n",
      "│   ├── part-00060-ce34a408-a8c4-4148-8da2-cc73e155b005-c000.csv\r\n",
      "│   ├── part-00061-ce34a408-a8c4-4148-8da2-cc73e155b005-c000.csv\r\n",
      "│   ├── part-00062-ce34a408-a8c4-4148-8da2-cc73e155b005-c000.csv\r\n",
      "│   ├── part-00063-ce34a408-a8c4-4148-8da2-cc73e155b005-c000.csv\r\n",
      "│   ├── part-00064-ce34a408-a8c4-4148-8da2-cc73e155b005-c000.csv\r\n",
      "│   ├── part-00065-ce34a408-a8c4-4148-8da2-cc73e155b005-c000.csv\r\n",
      "│   ├── part-00066-ce34a408-a8c4-4148-8da2-cc73e155b005-c000.csv\r\n",
      "│   ├── part-00067-ce34a408-a8c4-4148-8da2-cc73e155b005-c000.csv\r\n",
      "│   ├── part-00068-ce34a408-a8c4-4148-8da2-cc73e155b005-c000.csv\r\n",
      "│   ├── part-00069-ce34a408-a8c4-4148-8da2-cc73e155b005-c000.csv\r\n",
      "│   ├── part-00070-ce34a408-a8c4-4148-8da2-cc73e155b005-c000.csv\r\n",
      "│   ├── part-00071-ce34a408-a8c4-4148-8da2-cc73e155b005-c000.csv\r\n",
      "│   ├── part-00072-ce34a408-a8c4-4148-8da2-cc73e155b005-c000.csv\r\n",
      "│   ├── part-00073-ce34a408-a8c4-4148-8da2-cc73e155b005-c000.csv\r\n",
      "│   ├── part-00074-ce34a408-a8c4-4148-8da2-cc73e155b005-c000.csv\r\n",
      "│   ├── part-00075-ce34a408-a8c4-4148-8da2-cc73e155b005-c000.csv\r\n",
      "│   ├── part-00076-ce34a408-a8c4-4148-8da2-cc73e155b005-c000.csv\r\n",
      "│   ├── part-00077-ce34a408-a8c4-4148-8da2-cc73e155b005-c000.csv\r\n",
      "│   ├── part-00078-ce34a408-a8c4-4148-8da2-cc73e155b005-c000.csv\r\n",
      "│   ├── part-00079-ce34a408-a8c4-4148-8da2-cc73e155b005-c000.csv\r\n",
      "│   ├── part-00080-ce34a408-a8c4-4148-8da2-cc73e155b005-c000.csv\r\n",
      "│   ├── part-00081-ce34a408-a8c4-4148-8da2-cc73e155b005-c000.csv\r\n",
      "│   ├── part-00082-ce34a408-a8c4-4148-8da2-cc73e155b005-c000.csv\r\n",
      "│   ├── part-00083-ce34a408-a8c4-4148-8da2-cc73e155b005-c000.csv\r\n",
      "│   ├── part-00084-ce34a408-a8c4-4148-8da2-cc73e155b005-c000.csv\r\n",
      "│   ├── part-00085-ce34a408-a8c4-4148-8da2-cc73e155b005-c000.csv\r\n",
      "│   ├── part-00086-ce34a408-a8c4-4148-8da2-cc73e155b005-c000.csv\r\n",
      "│   ├── part-00087-ce34a408-a8c4-4148-8da2-cc73e155b005-c000.csv\r\n",
      "│   ├── part-00088-ce34a408-a8c4-4148-8da2-cc73e155b005-c000.csv\r\n",
      "│   ├── part-00089-ce34a408-a8c4-4148-8da2-cc73e155b005-c000.csv\r\n",
      "│   ├── part-00090-ce34a408-a8c4-4148-8da2-cc73e155b005-c000.csv\r\n",
      "│   ├── part-00091-ce34a408-a8c4-4148-8da2-cc73e155b005-c000.csv\r\n",
      "│   ├── part-00092-ce34a408-a8c4-4148-8da2-cc73e155b005-c000.csv\r\n",
      "│   ├── part-00093-ce34a408-a8c4-4148-8da2-cc73e155b005-c000.csv\r\n",
      "│   ├── part-00094-ce34a408-a8c4-4148-8da2-cc73e155b005-c000.csv\r\n",
      "│   ├── part-00095-ce34a408-a8c4-4148-8da2-cc73e155b005-c000.csv\r\n",
      "│   ├── part-00096-ce34a408-a8c4-4148-8da2-cc73e155b005-c000.csv\r\n",
      "│   ├── part-00097-ce34a408-a8c4-4148-8da2-cc73e155b005-c000.csv\r\n",
      "│   ├── part-00098-ce34a408-a8c4-4148-8da2-cc73e155b005-c000.csv\r\n",
      "│   ├── part-00099-ce34a408-a8c4-4148-8da2-cc73e155b005-c000.csv\r\n",
      "│   ├── part-00100-ce34a408-a8c4-4148-8da2-cc73e155b005-c000.csv\r\n",
      "│   ├── part-00101-ce34a408-a8c4-4148-8da2-cc73e155b005-c000.csv\r\n",
      "│   ├── part-00102-ce34a408-a8c4-4148-8da2-cc73e155b005-c000.csv\r\n",
      "│   ├── part-00103-ce34a408-a8c4-4148-8da2-cc73e155b005-c000.csv\r\n",
      "│   ├── part-00104-ce34a408-a8c4-4148-8da2-cc73e155b005-c000.csv\r\n",
      "│   ├── part-00105-ce34a408-a8c4-4148-8da2-cc73e155b005-c000.csv\r\n",
      "│   ├── part-00106-ce34a408-a8c4-4148-8da2-cc73e155b005-c000.csv\r\n",
      "│   ├── part-00107-ce34a408-a8c4-4148-8da2-cc73e155b005-c000.csv\r\n",
      "│   ├── part-00108-ce34a408-a8c4-4148-8da2-cc73e155b005-c000.csv\r\n",
      "│   ├── part-00109-ce34a408-a8c4-4148-8da2-cc73e155b005-c000.csv\r\n",
      "│   ├── part-00110-ce34a408-a8c4-4148-8da2-cc73e155b005-c000.csv\r\n",
      "│   ├── part-00111-ce34a408-a8c4-4148-8da2-cc73e155b005-c000.csv\r\n",
      "│   ├── part-00112-ce34a408-a8c4-4148-8da2-cc73e155b005-c000.csv\r\n",
      "│   ├── part-00113-ce34a408-a8c4-4148-8da2-cc73e155b005-c000.csv\r\n",
      "│   ├── part-00114-ce34a408-a8c4-4148-8da2-cc73e155b005-c000.csv\r\n",
      "│   ├── part-00115-ce34a408-a8c4-4148-8da2-cc73e155b005-c000.csv\r\n",
      "│   ├── part-00116-ce34a408-a8c4-4148-8da2-cc73e155b005-c000.csv\r\n",
      "│   ├── part-00117-ce34a408-a8c4-4148-8da2-cc73e155b005-c000.csv\r\n",
      "│   ├── part-00118-ce34a408-a8c4-4148-8da2-cc73e155b005-c000.csv\r\n",
      "│   ├── part-00119-ce34a408-a8c4-4148-8da2-cc73e155b005-c000.csv\r\n",
      "│   ├── part-00120-ce34a408-a8c4-4148-8da2-cc73e155b005-c000.csv\r\n",
      "│   ├── part-00121-ce34a408-a8c4-4148-8da2-cc73e155b005-c000.csv\r\n",
      "│   ├── part-00122-ce34a408-a8c4-4148-8da2-cc73e155b005-c000.csv\r\n",
      "│   ├── part-00123-ce34a408-a8c4-4148-8da2-cc73e155b005-c000.csv\r\n",
      "│   ├── part-00124-ce34a408-a8c4-4148-8da2-cc73e155b005-c000.csv\r\n",
      "│   ├── part-00125-ce34a408-a8c4-4148-8da2-cc73e155b005-c000.csv\r\n",
      "│   ├── part-00126-ce34a408-a8c4-4148-8da2-cc73e155b005-c000.csv\r\n",
      "│   ├── part-00127-ce34a408-a8c4-4148-8da2-cc73e155b005-c000.csv\r\n",
      "│   ├── part-00128-ce34a408-a8c4-4148-8da2-cc73e155b005-c000.csv\r\n",
      "│   ├── part-00129-ce34a408-a8c4-4148-8da2-cc73e155b005-c000.csv\r\n",
      "│   ├── part-00130-ce34a408-a8c4-4148-8da2-cc73e155b005-c000.csv\r\n",
      "│   ├── part-00131-ce34a408-a8c4-4148-8da2-cc73e155b005-c000.csv\r\n",
      "│   ├── part-00132-ce34a408-a8c4-4148-8da2-cc73e155b005-c000.csv\r\n",
      "│   ├── part-00133-ce34a408-a8c4-4148-8da2-cc73e155b005-c000.csv\r\n",
      "│   ├── part-00134-ce34a408-a8c4-4148-8da2-cc73e155b005-c000.csv\r\n",
      "│   ├── part-00135-ce34a408-a8c4-4148-8da2-cc73e155b005-c000.csv\r\n",
      "│   ├── part-00136-ce34a408-a8c4-4148-8da2-cc73e155b005-c000.csv\r\n",
      "│   ├── part-00137-ce34a408-a8c4-4148-8da2-cc73e155b005-c000.csv\r\n",
      "│   ├── part-00138-ce34a408-a8c4-4148-8da2-cc73e155b005-c000.csv\r\n",
      "│   ├── part-00139-ce34a408-a8c4-4148-8da2-cc73e155b005-c000.csv\r\n",
      "│   ├── part-00140-ce34a408-a8c4-4148-8da2-cc73e155b005-c000.csv\r\n",
      "│   ├── part-00141-ce34a408-a8c4-4148-8da2-cc73e155b005-c000.csv\r\n",
      "│   ├── part-00142-ce34a408-a8c4-4148-8da2-cc73e155b005-c000.csv\r\n",
      "│   ├── part-00143-ce34a408-a8c4-4148-8da2-cc73e155b005-c000.csv\r\n",
      "│   ├── part-00144-ce34a408-a8c4-4148-8da2-cc73e155b005-c000.csv\r\n",
      "│   ├── part-00145-ce34a408-a8c4-4148-8da2-cc73e155b005-c000.csv\r\n",
      "│   ├── part-00146-ce34a408-a8c4-4148-8da2-cc73e155b005-c000.csv\r\n",
      "│   ├── part-00147-ce34a408-a8c4-4148-8da2-cc73e155b005-c000.csv\r\n",
      "│   ├── part-00148-ce34a408-a8c4-4148-8da2-cc73e155b005-c000.csv\r\n",
      "│   ├── part-00149-ce34a408-a8c4-4148-8da2-cc73e155b005-c000.csv\r\n",
      "│   ├── part-00150-ce34a408-a8c4-4148-8da2-cc73e155b005-c000.csv\r\n",
      "│   ├── part-00151-ce34a408-a8c4-4148-8da2-cc73e155b005-c000.csv\r\n",
      "│   ├── part-00152-ce34a408-a8c4-4148-8da2-cc73e155b005-c000.csv\r\n",
      "│   ├── part-00153-ce34a408-a8c4-4148-8da2-cc73e155b005-c000.csv\r\n",
      "│   ├── part-00154-ce34a408-a8c4-4148-8da2-cc73e155b005-c000.csv\r\n",
      "│   ├── part-00155-ce34a408-a8c4-4148-8da2-cc73e155b005-c000.csv\r\n",
      "│   ├── part-00156-ce34a408-a8c4-4148-8da2-cc73e155b005-c000.csv\r\n",
      "│   ├── part-00157-ce34a408-a8c4-4148-8da2-cc73e155b005-c000.csv\r\n",
      "│   ├── part-00158-ce34a408-a8c4-4148-8da2-cc73e155b005-c000.csv\r\n",
      "│   ├── part-00159-ce34a408-a8c4-4148-8da2-cc73e155b005-c000.csv\r\n",
      "│   ├── part-00160-ce34a408-a8c4-4148-8da2-cc73e155b005-c000.csv\r\n",
      "│   ├── part-00161-ce34a408-a8c4-4148-8da2-cc73e155b005-c000.csv\r\n",
      "│   ├── part-00162-ce34a408-a8c4-4148-8da2-cc73e155b005-c000.csv\r\n",
      "│   ├── part-00163-ce34a408-a8c4-4148-8da2-cc73e155b005-c000.csv\r\n",
      "│   ├── part-00164-ce34a408-a8c4-4148-8da2-cc73e155b005-c000.csv\r\n",
      "│   ├── part-00165-ce34a408-a8c4-4148-8da2-cc73e155b005-c000.csv\r\n",
      "│   ├── part-00166-ce34a408-a8c4-4148-8da2-cc73e155b005-c000.csv\r\n",
      "│   ├── part-00167-ce34a408-a8c4-4148-8da2-cc73e155b005-c000.csv\r\n",
      "│   ├── part-00168-ce34a408-a8c4-4148-8da2-cc73e155b005-c000.csv\r\n",
      "│   ├── part-00169-ce34a408-a8c4-4148-8da2-cc73e155b005-c000.csv\r\n",
      "│   ├── part-00170-ce34a408-a8c4-4148-8da2-cc73e155b005-c000.csv\r\n",
      "│   ├── part-00171-ce34a408-a8c4-4148-8da2-cc73e155b005-c000.csv\r\n",
      "│   ├── part-00172-ce34a408-a8c4-4148-8da2-cc73e155b005-c000.csv\r\n",
      "│   ├── part-00173-ce34a408-a8c4-4148-8da2-cc73e155b005-c000.csv\r\n",
      "│   ├── part-00174-ce34a408-a8c4-4148-8da2-cc73e155b005-c000.csv\r\n",
      "│   ├── part-00175-ce34a408-a8c4-4148-8da2-cc73e155b005-c000.csv\r\n",
      "│   ├── part-00176-ce34a408-a8c4-4148-8da2-cc73e155b005-c000.csv\r\n",
      "│   ├── part-00177-ce34a408-a8c4-4148-8da2-cc73e155b005-c000.csv\r\n",
      "│   ├── part-00178-ce34a408-a8c4-4148-8da2-cc73e155b005-c000.csv\r\n",
      "│   ├── part-00179-ce34a408-a8c4-4148-8da2-cc73e155b005-c000.csv\r\n",
      "│   ├── part-00180-ce34a408-a8c4-4148-8da2-cc73e155b005-c000.csv\r\n",
      "│   ├── part-00181-ce34a408-a8c4-4148-8da2-cc73e155b005-c000.csv\r\n",
      "│   ├── part-00182-ce34a408-a8c4-4148-8da2-cc73e155b005-c000.csv\r\n",
      "│   ├── part-00183-ce34a408-a8c4-4148-8da2-cc73e155b005-c000.csv\r\n",
      "│   ├── part-00184-ce34a408-a8c4-4148-8da2-cc73e155b005-c000.csv\r\n",
      "│   ├── part-00185-ce34a408-a8c4-4148-8da2-cc73e155b005-c000.csv\r\n",
      "│   ├── part-00186-ce34a408-a8c4-4148-8da2-cc73e155b005-c000.csv\r\n",
      "│   ├── part-00187-ce34a408-a8c4-4148-8da2-cc73e155b005-c000.csv\r\n",
      "│   ├── part-00188-ce34a408-a8c4-4148-8da2-cc73e155b005-c000.csv\r\n",
      "│   ├── part-00189-ce34a408-a8c4-4148-8da2-cc73e155b005-c000.csv\r\n",
      "│   ├── part-00190-ce34a408-a8c4-4148-8da2-cc73e155b005-c000.csv\r\n",
      "│   ├── part-00191-ce34a408-a8c4-4148-8da2-cc73e155b005-c000.csv\r\n",
      "│   ├── part-00192-ce34a408-a8c4-4148-8da2-cc73e155b005-c000.csv\r\n",
      "│   ├── part-00193-ce34a408-a8c4-4148-8da2-cc73e155b005-c000.csv\r\n",
      "│   ├── part-00194-ce34a408-a8c4-4148-8da2-cc73e155b005-c000.csv\r\n",
      "│   ├── part-00195-ce34a408-a8c4-4148-8da2-cc73e155b005-c000.csv\r\n",
      "│   ├── part-00196-ce34a408-a8c4-4148-8da2-cc73e155b005-c000.csv\r\n",
      "│   ├── part-00197-ce34a408-a8c4-4148-8da2-cc73e155b005-c000.csv\r\n",
      "│   ├── part-00198-ce34a408-a8c4-4148-8da2-cc73e155b005-c000.csv\r\n",
      "│   ├── part-00199-ce34a408-a8c4-4148-8da2-cc73e155b005-c000.csv\r\n",
      "│   └── _SUCCESS\r\n",
      "├── columns_binary__agg_usage.txt\r\n",
      "├── columns_continuous__agg_usage.txt\r\n",
      "├── columns_ids__agg_usage.txt\r\n",
      "├── columns_misc__agg_usage.txt\r\n",
      "└── header__aggregated_customer_usage.txt\r\n",
      "\r\n",
      "1 directory, 206 files\r\n"
     ]
    }
   ],
   "source": [
    "! tree ../data/output"
   ]
  },
  {
   "cell_type": "markdown",
   "metadata": {},
   "source": [
    "Kadangi šiuo konkrečiu atveju dirbame su sąlyginai nedideliu duomenų kiekiu lokalioje failų sistemoje, pasinaudodami Linux komanda `cat` galime apjungti stulpelių pavadinių failą ir iš Apache Spark gautus išvesties failus į vieną ir taip sudaryti`.csv` failą su stulpelių pavadinimais"
   ]
  },
  {
   "cell_type": "code",
   "execution_count": 41,
   "metadata": {},
   "outputs": [],
   "source": [
    "! cat ../data/output/header__aggregated_customer_usage.txt ../data/output/aggregated_customer_usage/* > ../data/output/aggregated_customer_usage.csv"
   ]
  },
  {
   "cell_type": "code",
   "execution_count": 42,
   "metadata": {},
   "outputs": [
    {
     "name": "stdout",
     "output_type": "stream",
     "text": [
      "user_account_id,user_lifetime,user_no_outgoing_activity_in_days,user_account_balance_last,user_spendings,reloads_inactive_days,reloads_count,reloads_sum,calls_outgoing_count,calls_outgoing_spendings,calls_outgoing_duration,calls_outgoing_spendings_max,calls_outgoing_duration_max,calls_outgoing_inactive_days,calls_outgoing_to_onnet_count,calls_outgoing_to_onnet_spendings,calls_outgoing_to_onnet_duration,calls_outgoing_to_onnet_inactive_days,calls_outgoing_to_offnet_count,calls_outgoing_to_offnet_spendings,calls_outgoing_to_offnet_duration,calls_outgoing_to_offnet_inactive_days,calls_outgoing_to_abroad_count,calls_outgoing_to_abroad_spendings,calls_outgoing_to_abroad_duration,calls_outgoing_to_abroad_inactive_days,sms_outgoing_count,sms_outgoing_spendings,sms_outgoing_spendings_max,sms_outgoing_inactive_days,sms_outgoing_to_onnet_count,sms_outgoing_to_onnet_spendings,sms_outgoing_to_onnet_inactive_days,sms_outgoing_to_offnet_count,sms_outgoing_to_offnet_spendings,sms_outgoing_to_offnet_inactive_days,sms_outgoing_to_abroad_count,sms_outgoing_to_abroad_spendings,sms_outgoing_to_abroad_inactive_days,sms_incoming_count,sms_incoming_spendings,sms_incoming_from_abroad_count,sms_incoming_from_abroad_spendings,gprs_session_count,gprs_usage,gprs_spendings,gprs_inactive_days,last_100_reloads_count,last_100_reloads_sum,last_100_calls_outgoing_duration,last_100_calls_outgoing_to_onnet_duration,last_100_calls_outgoing_to_offnet_duration,last_100_calls_outgoing_to_abroad_duration,last_100_sms_outgoing_count,last_100_sms_outgoing_to_onnet_count,last_100_sms_outgoing_to_offnet_count,last_100_sms_outgoing_to_abroad_count,last_100_gprs_usage,user_intake,user_has_outgoing_calls,user_has_outgoing_sms,user_use_gprs,user_does_reload,n_months\r\n",
      "41988,15916.0,864.3333333333334,0.0,0.0,1307.0,0.0,0.0,0.3333333333333333,0.0,0.0,0.0,0.0,864.3333333333334,0.0,0.0,0.0,864.3333333333334,0.0,0.0,0.0,864.3333333333334,0.0,0.0,0.0,864.3333333333334,0.0,0.0,0.0,1307.0,0.0,0.0,1307.0,0.0,0.0,1307.0,0.0,0.0,1307.0,0.0,0.0,0.0,0.0,0.0,0.0,0.0,1307.0,0.0,0.0,0.0,0.0,0.0,0.0,0.0,0.0,0.0,0.0,0.0,0,1,0,0,0,3\r\n",
      "448999,245.0,6.333333333333333,2.94,0.0,1307.0,0.0,0.0,1.6666666666666667,0.0,0.0,0.0,0.0,6.333333333333333,0.0,0.0,0.0,6.333333333333333,0.0,0.0,0.0,6.333333333333333,0.0,0.0,0.0,6.333333333333333,0.0,0.0,0.0,1307.0,0.0,0.0,1307.0,0.0,0.0,1307.0,0.0,0.0,1307.0,0.0,0.0,0.0,0.0,0.0,0.0,0.0,1307.0,0.0,0.0,1.9066666666666665,0.0,0.0,0.0,0.0,0.0,0.0,0.0,0.0,0,1,0,0,0,3\r\n",
      "125502,2017.0,2.6666666666666665,44.25,3.8066666666666666,496.3333333333333,0.0,0.0,17.333333333333332,3.0666666666666664,34.513333333333335,1.08,7.816666666666666,3.0,0.0,0.0,0.0,3.0,5.333333333333333,0.6933333333333334,4.62,3.0,0.0,0.0,0.0,3.0,12.333333333333334,0.7399999999999999,0.06,9.666666666666666,0.3333333333333333,0.02,9.666666666666666,12.0,0.7200000000000001,9.666666666666666,0.0,0.0,9.666666666666666,4.0,0.0,0.0,0.0,0.0,0.0,0.0,1307.0,1.0,5.0,83.32666666666667,0.0,11.606666666666667,0.0,43.0,0.3333333333333333,42.666666666666664,0.0,0.0,0,1,1,0,0,3\r\n",
      "991407,15916.0,27.333333333333332,0.0,0.0,1307.0,0.0,0.0,2.3333333333333335,0.0,0.0,0.0,0.0,27.333333333333332,0.0,0.0,0.0,27.333333333333332,0.0,0.0,0.0,27.333333333333332,0.0,0.0,0.0,27.333333333333332,0.0,0.0,0.0,1307.0,0.0,0.0,1307.0,0.0,0.0,1307.0,0.0,0.0,1307.0,0.0,0.0,0.0,0.0,0.0,0.0,0.0,1307.0,0.0,0.0,0.0,0.0,0.0,0.0,0.0,0.0,0.0,0.0,0.0,0,1,0,0,0,3\r\n",
      "382774,1206.0,0.6666666666666666,4.046666666666666,6.6433333333333335,18.0,1.0,4.506666666666667,94.66666666666667,6.2799999999999985,50.68333333333334,0.8966666666666666,5.053333333333333,0.6666666666666666,0.6666666666666666,0.34,1.1766666666666665,0.6666666666666666,24.333333333333332,3.2266666666666666,22.64,0.6666666666666666,11.333333333333334,1.5233333333333334,6.29,0.6666666666666666,32.333333333333336,0.36333333333333334,0.36333333333333334,3.3333333333333335,0.0,0.0,3.3333333333333335,0.0,0.0,3.3333333333333335,0.3333333333333333,0.03,3.3333333333333335,20.333333333333332,0.3333333333333333,5.0,0.0,0.0,0.0,0.0,1307.0,5.333333333333333,16.511666666666667,129.08333333333334,2.1333333333333333,66.43,11.433333333333332,112.33333333333333,4.0,20.333333333333332,0.3333333333333333,0.0,0,1,1,0,1,3\r\n",
      "978177,289.0,2.6666666666666665,0.5,2.0,33.666666666666664,0.6666666666666666,2.5,40.0,1.75,9.15,0.73,2.893333333333333,2.6666666666666665,0.0,0.0,0.0,2.6666666666666665,6.0,0.5466666666666666,3.65,2.6666666666666665,3.0,0.13999999999999999,0.49,2.6666666666666665,3.3333333333333335,0.25,0.03666666666666667,38.333333333333336,0.0,0.0,38.333333333333336,2.3333333333333335,0.13999999999999999,38.333333333333336,0.0,0.0,38.333333333333336,8.666666666666666,0.0,1.6666666666666667,0.0,0.0,0.0,0.0,1307.0,1.6666666666666667,8.5,34.1,0.0,8.633333333333333,5.023333333333334,19.333333333333332,0.0,14.666666666666666,2.6666666666666665,0.0,0,1,1,0,1,3\r\n",
      "980905,64.0,28.0,14.46,0.18000000000000002,478.3333333333333,0.0,0.0,6.0,0.049999999999999996,0.3333333333333333,0.049999999999999996,0.3333333333333333,28.0,0.0,0.0,0.0,28.0,0.3333333333333333,0.049999999999999996,0.3333333333333333,28.0,1.0,0.0,0.0,28.0,0.3333333333333333,0.13,0.13,865.3333333333334,0.0,0.0,865.3333333333334,0.0,0.0,865.3333333333334,0.3333333333333333,0.13,865.3333333333334,0.6666666666666666,0.0,0.6666666666666666,0.0,0.0,0.0,0.0,477.6666666666667,2.0,10.0,2.6133333333333333,0.0,1.8333333333333333,0.0,0.3333333333333333,0.0,0.0,0.3333333333333333,0.23666666666666666,0,1,1,0,0,3\r\n",
      "992410,76.0,2.0,29.8,2.4133333333333336,484.3333333333333,0.0,0.0,18.333333333333332,2.16,15.066666666666668,0.7366666666666667,4.906666666666666,2.0,0.0,0.0,0.0,2.0,5.666666666666667,1.83,12.193333333333333,2.0,0.3333333333333333,0.0,0.0,2.0,3.6666666666666665,0.25333333333333335,0.056666666666666664,30.0,0.6666666666666666,0.04,30.0,2.3333333333333335,0.13999999999999999,30.0,0.0,0.0,30.0,8.666666666666666,0.0,1.3333333333333333,0.0,0.0,0.0,0.0,1307.0,4.0,26.0,48.46333333333333,0.0,39.94,0.0,20.0,2.6666666666666665,9.666666666666666,0.0,0.0,0,1,1,0,0,3\r\n",
      "1100828,10610.333333333334,425.6666666666667,7.103333333333334,2.57,437.0,0.6666666666666666,5.0,18.666666666666668,1.9400000000000002,11.526666666666666,0.7966666666666667,5.14,425.6666666666667,0.0,0.0,0.0,425.6666666666667,2.0,0.3,2.0,425.6666666666667,4.0,0.4366666666666666,1.51,425.6666666666667,10.666666666666666,0.63,0.049999999999999996,426.0,0.0,0.0,426.0,8.0,0.48,426.0,1.6666666666666667,0.15,426.0,9.0,0.0,4.333333333333333,0.0,0.0,0.0,0.0,1307.0,2.0,10.0,5.056666666666667,0.0,1.3333333333333333,1.6766666666666667,16.333333333333332,0.0,12.666666666666666,1.6666666666666667,0.0,1,1,1,0,1,3\r\n"
     ]
    }
   ],
   "source": [
    "! head ../data/output/aggregated_customer_usage.csv"
   ]
  },
  {
   "cell_type": "markdown",
   "metadata": {},
   "source": [
    "**Užduotis**: iš čia naudoto kodo padaryti Apache Spark skriptą kuris nuskaito `customer_usage` failą, atlieka agregacijas pagal vartotojo id ir išsaugo rezultatą nurodytu keliu. Skipto parametrai turėtų būti bent du: \n",
    "1. įvesties failo kelias \n",
    "1. rezultatų išvesties kelias "
   ]
  }
 ],
 "metadata": {
  "kernelspec": {
   "display_name": "Python 3",
   "language": "python",
   "name": "python3"
  },
  "language_info": {
   "codemirror_mode": {
    "name": "ipython",
    "version": 3
   },
   "file_extension": ".py",
   "mimetype": "text/x-python",
   "name": "python",
   "nbconvert_exporter": "python",
   "pygments_lexer": "ipython3",
   "version": "3.7.3"
  }
 },
 "nbformat": 4,
 "nbformat_minor": 1
}
