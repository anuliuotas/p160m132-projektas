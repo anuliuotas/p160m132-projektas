{
 "cells": [
  {
   "cell_type": "markdown",
   "metadata": {},
   "source": [
    "# Klasterizavimas naudojant KMeans modelį"
   ]
  },
  {
   "cell_type": "markdown",
   "metadata": {},
   "source": [
    "Šiame pavyzdyje naudosime suagreguotus ir su churn stulepiu apjungtus duomenis, kuriuose gavosi įvykdę `simple_aggregation_join.ipynb` pavyzdį"
   ]
  },
  {
   "cell_type": "code",
   "execution_count": 6,
   "metadata": {},
   "outputs": [
    {
     "name": "stdout",
     "output_type": "stream",
     "text": [
      "The autoreload extension is already loaded. To reload it, use:\n",
      "  %reload_ext autoreload\n"
     ]
    }
   ],
   "source": [
    "%load_ext autoreload\n",
    "%autoreload 2\n",
    "%matplotlib inline"
   ]
  },
  {
   "cell_type": "code",
   "execution_count": 7,
   "metadata": {},
   "outputs": [],
   "source": [
    "import os\n",
    "import operator\n",
    "\n",
    "import jsonlines\n",
    "import pandas as pd\n",
    "import pyspark\n",
    "from pyspark.ml.feature import VectorAssembler, StandardScaler\n",
    "from pyspark.ml.pipeline import Pipeline\n",
    "from pyspark.ml.clustering import KMeans, GaussianMixture"
   ]
  },
  {
   "cell_type": "code",
   "execution_count": 8,
   "metadata": {},
   "outputs": [],
   "source": [
    "spark = (\n",
    "    pyspark.sql.SparkSession\n",
    "    .builder\n",
    "    .appName(\"Python Spark K-means minimal example\")\n",
    "    .enableHiveSupport()\n",
    "    .getOrCreate()\n",
    ")"
   ]
  },
  {
   "cell_type": "markdown",
   "metadata": {},
   "source": [
    "Sukuriame įvesties `parquet` DataFrame kintamąjį ir priskiriame jam reikšmę (kai rašysime pyspark job'ą, šių kintamųjų reikšmes perduosime per komandinės eilutės parametrus)"
   ]
  },
  {
   "cell_type": "code",
   "execution_count": 21,
   "metadata": {},
   "outputs": [],
   "source": [
    "path_aggregated_df = \"../data/output/sample_aggregated_usage_with_churn.csv\""
   ]
  },
  {
   "cell_type": "code",
   "execution_count": 31,
   "metadata": {},
   "outputs": [
    {
     "data": {
      "text/plain": [
       "DataFrame[user_account_id: int, user_lifetime: double, user_no_outgoing_activity_in_days: double, user_account_balance_last: double, user_spendings: double, reloads_inactive_days: double, reloads_count: double, reloads_sum: double, calls_outgoing_count: double, calls_outgoing_spendings: double, calls_outgoing_duration: double, calls_outgoing_spendings_max: double, calls_outgoing_duration_max: double, calls_outgoing_inactive_days: double, calls_outgoing_to_onnet_count: double, calls_outgoing_to_onnet_spendings: double, calls_outgoing_to_onnet_duration: double, calls_outgoing_to_onnet_inactive_days: double, calls_outgoing_to_offnet_count: double, calls_outgoing_to_offnet_spendings: double, calls_outgoing_to_offnet_duration: double, calls_outgoing_to_offnet_inactive_days: double, calls_outgoing_to_abroad_count: double, calls_outgoing_to_abroad_spendings: double, calls_outgoing_to_abroad_duration: double, calls_outgoing_to_abroad_inactive_days: double, sms_outgoing_count: double, sms_outgoing_spendings: double, sms_outgoing_spendings_max: double, sms_outgoing_inactive_days: double, sms_outgoing_to_onnet_count: double, sms_outgoing_to_onnet_spendings: double, sms_outgoing_to_onnet_inactive_days: double, sms_outgoing_to_offnet_count: double, sms_outgoing_to_offnet_spendings: double, sms_outgoing_to_offnet_inactive_days: double, sms_outgoing_to_abroad_count: double, sms_outgoing_to_abroad_spendings: double, sms_outgoing_to_abroad_inactive_days: double, sms_incoming_count: double, sms_incoming_spendings: double, sms_incoming_from_abroad_count: double, sms_incoming_from_abroad_spendings: double, gprs_session_count: double, gprs_usage: double, gprs_spendings: double, gprs_inactive_days: double, last_100_reloads_count: double, last_100_reloads_sum: double, last_100_calls_outgoing_duration: double, last_100_calls_outgoing_to_onnet_duration: double, last_100_calls_outgoing_to_offnet_duration: double, last_100_calls_outgoing_to_abroad_duration: double, last_100_sms_outgoing_count: double, last_100_sms_outgoing_to_onnet_count: double, last_100_sms_outgoing_to_offnet_count: double, last_100_sms_outgoing_to_abroad_count: double, last_100_gprs_usage: double, user_intake: int, user_has_outgoing_calls: int, user_has_outgoing_sms: int, user_use_gprs: int, user_does_reload: int, n_months: int]"
      ]
     },
     "execution_count": 31,
     "metadata": {},
     "output_type": "execute_result"
    }
   ],
   "source": [
    "clustering_df = spark.read.csv(path_aggregated_df, header=True, inferSchema=True, sep = ',')\n",
    "\n",
    "clustering_df"
   ]
  },
  {
   "cell_type": "markdown",
   "metadata": {},
   "source": [
    "Sukuriame VectorAssembler objektą, kuriuo apjungsime stuplelių reikšmes. Klasterizavimo požymių reikšmes šiuo atveju saugome atskirame faile (`customer_churn` paketo `config_columns.py` faile), iš kurio jas ir importavome"
   ]
  },
  {
   "cell_type": "code",
   "execution_count": 32,
   "metadata": {},
   "outputs": [
    {
     "data": {
      "text/plain": [
       "['user_lifetime',\n",
       " 'user_no_outgoing_activity_in_days',\n",
       " 'user_account_balance_last',\n",
       " 'user_spendings',\n",
       " 'reloads_inactive_days',\n",
       " 'reloads_count',\n",
       " 'reloads_sum',\n",
       " 'calls_outgoing_count',\n",
       " 'calls_outgoing_spendings',\n",
       " 'calls_outgoing_duration',\n",
       " 'calls_outgoing_spendings_max',\n",
       " 'calls_outgoing_duration_max',\n",
       " 'calls_outgoing_inactive_days',\n",
       " 'calls_outgoing_to_onnet_count',\n",
       " 'calls_outgoing_to_onnet_spendings',\n",
       " 'calls_outgoing_to_onnet_duration',\n",
       " 'calls_outgoing_to_onnet_inactive_days',\n",
       " 'calls_outgoing_to_offnet_count',\n",
       " 'calls_outgoing_to_offnet_spendings',\n",
       " 'calls_outgoing_to_offnet_duration',\n",
       " 'calls_outgoing_to_offnet_inactive_days',\n",
       " 'calls_outgoing_to_abroad_count',\n",
       " 'calls_outgoing_to_abroad_spendings',\n",
       " 'calls_outgoing_to_abroad_duration',\n",
       " 'calls_outgoing_to_abroad_inactive_days',\n",
       " 'sms_outgoing_count',\n",
       " 'sms_outgoing_spendings',\n",
       " 'sms_outgoing_spendings_max',\n",
       " 'sms_outgoing_inactive_days',\n",
       " 'sms_outgoing_to_onnet_count',\n",
       " 'sms_outgoing_to_onnet_spendings',\n",
       " 'sms_outgoing_to_onnet_inactive_days',\n",
       " 'sms_outgoing_to_offnet_count',\n",
       " 'sms_outgoing_to_offnet_spendings',\n",
       " 'sms_outgoing_to_offnet_inactive_days',\n",
       " 'sms_outgoing_to_abroad_count',\n",
       " 'sms_outgoing_to_abroad_spendings',\n",
       " 'sms_outgoing_to_abroad_inactive_days',\n",
       " 'sms_incoming_count',\n",
       " 'sms_incoming_spendings',\n",
       " 'sms_incoming_from_abroad_count',\n",
       " 'sms_incoming_from_abroad_spendings',\n",
       " 'gprs_session_count',\n",
       " 'gprs_usage',\n",
       " 'gprs_spendings',\n",
       " 'gprs_inactive_days',\n",
       " 'last_100_reloads_count',\n",
       " 'last_100_reloads_sum',\n",
       " 'last_100_calls_outgoing_duration',\n",
       " 'last_100_calls_outgoing_to_onnet_duration',\n",
       " 'last_100_calls_outgoing_to_offnet_duration',\n",
       " 'last_100_calls_outgoing_to_abroad_duration',\n",
       " 'last_100_sms_outgoing_count',\n",
       " 'last_100_sms_outgoing_to_onnet_count',\n",
       " 'last_100_sms_outgoing_to_offnet_count',\n",
       " 'last_100_sms_outgoing_to_abroad_count',\n",
       " 'last_100_gprs_usage',\n",
       " 'n_months']"
      ]
     },
     "execution_count": 32,
     "metadata": {},
     "output_type": "execute_result"
    }
   ],
   "source": [
    "columns_clustering_features"
   ]
  },
  {
   "cell_type": "markdown",
   "metadata": {},
   "source": [
    "galime kintąjį aprašyti ir čia (notebook'e arba pyspark job'o parametrų JSON faile):"
   ]
  },
  {
   "cell_type": "code",
   "execution_count": 33,
   "metadata": {},
   "outputs": [],
   "source": [
    "columns_clustering_features = [\n",
    "    'user_lifetime',\n",
    "    'user_no_outgoing_activity_in_days',\n",
    "    'user_account_balance_last',\n",
    "    'user_spendings',\n",
    "    'reloads_inactive_days',\n",
    "    'reloads_count',\n",
    "    'reloads_sum',\n",
    "    'calls_outgoing_count',\n",
    "    'calls_outgoing_spendings',\n",
    "    'calls_outgoing_duration',\n",
    "    'calls_outgoing_spendings_max',\n",
    "    'calls_outgoing_duration_max',\n",
    "    'calls_outgoing_inactive_days',\n",
    "    'calls_outgoing_to_onnet_count',\n",
    "    'calls_outgoing_to_onnet_spendings',\n",
    "    'calls_outgoing_to_onnet_duration',\n",
    "    'calls_outgoing_to_onnet_inactive_days',\n",
    "    'calls_outgoing_to_offnet_count',\n",
    "    'calls_outgoing_to_offnet_spendings',\n",
    "    'calls_outgoing_to_offnet_duration',\n",
    "    'calls_outgoing_to_offnet_inactive_days',\n",
    "    'calls_outgoing_to_abroad_count',\n",
    "    'calls_outgoing_to_abroad_spendings',\n",
    "    'calls_outgoing_to_abroad_duration',\n",
    "    'calls_outgoing_to_abroad_inactive_days',\n",
    "    'sms_outgoing_count',\n",
    "    'sms_outgoing_spendings',\n",
    "    'sms_outgoing_spendings_max',\n",
    "    'sms_outgoing_inactive_days',\n",
    "    'sms_outgoing_to_onnet_count',\n",
    "    'sms_outgoing_to_onnet_spendings',\n",
    "    'sms_outgoing_to_onnet_inactive_days',\n",
    "    'sms_outgoing_to_offnet_count',\n",
    "    'sms_outgoing_to_offnet_spendings',\n",
    "    'sms_outgoing_to_offnet_inactive_days',\n",
    "    'sms_outgoing_to_abroad_count',\n",
    "    'sms_outgoing_to_abroad_spendings',\n",
    "    'sms_outgoing_to_abroad_inactive_days',\n",
    "    'sms_incoming_count',\n",
    "    'sms_incoming_spendings',\n",
    "    'sms_incoming_from_abroad_count',\n",
    "    'sms_incoming_from_abroad_spendings',\n",
    "    'gprs_session_count',\n",
    "    'gprs_usage',\n",
    "    'gprs_spendings',\n",
    "    'gprs_inactive_days',\n",
    "    'last_100_reloads_count',\n",
    "    'last_100_reloads_sum',\n",
    "    'last_100_calls_outgoing_duration',\n",
    "    'last_100_calls_outgoing_to_onnet_duration',\n",
    "    'last_100_calls_outgoing_to_offnet_duration',\n",
    "    'last_100_calls_outgoing_to_abroad_duration',\n",
    "    'last_100_sms_outgoing_count',\n",
    "    'last_100_sms_outgoing_to_onnet_count',\n",
    "    'last_100_sms_outgoing_to_offnet_count',\n",
    "    'last_100_sms_outgoing_to_abroad_count',\n",
    "    'last_100_gprs_usage',\n",
    "    'n_months'\n",
    "]"
   ]
  },
  {
   "cell_type": "code",
   "execution_count": 34,
   "metadata": {},
   "outputs": [],
   "source": [
    "vector_assembler = VectorAssembler(\n",
    "    inputCols=columns_clustering_features, \n",
    "    outputCol=\"initial_features\")"
   ]
  },
  {
   "cell_type": "code",
   "execution_count": 35,
   "metadata": {},
   "outputs": [],
   "source": [
    "standard_scaler = StandardScaler(\n",
    "    inputCol=\"initial_features\", \n",
    "    outputCol=\"features\", \n",
    "    withStd=True, \n",
    "    withMean=True)"
   ]
  },
  {
   "cell_type": "code",
   "execution_count": 36,
   "metadata": {},
   "outputs": [],
   "source": [
    "vectorized_df = vector_assembler.transform(clustering_df)\n",
    "model_scaler = standard_scaler.fit(vectorized_df)\n",
    "featurized_clustering_df = model_scaler.transform(vectorized_df)"
   ]
  },
  {
   "cell_type": "code",
   "execution_count": 37,
   "metadata": {},
   "outputs": [],
   "source": [
    "featurization_pipeline = Pipeline(stages=[vector_assembler, standard_scaler])"
   ]
  },
  {
   "cell_type": "code",
   "execution_count": 38,
   "metadata": {},
   "outputs": [],
   "source": [
    "featurization_pipeline_model = featurization_pipeline.fit(clustering_df)"
   ]
  },
  {
   "cell_type": "code",
   "execution_count": 39,
   "metadata": {},
   "outputs": [],
   "source": [
    "model_scaler = featurization_pipeline_model.stages[-1]"
   ]
  },
  {
   "cell_type": "code",
   "execution_count": 40,
   "metadata": {},
   "outputs": [],
   "source": [
    "featurized_clustering_df = featurization_pipeline_model.transform(clustering_df)"
   ]
  },
  {
   "cell_type": "markdown",
   "metadata": {},
   "source": [
    "## Vieno KMeans modelio apmokymas"
   ]
  },
  {
   "cell_type": "markdown",
   "metadata": {},
   "source": [
    "Sukuriame klasterių skaičiaus $k$ kintamąjį (rašydami pyspark job'ą, kuris apmoko tik vieną modelį, $k$ reikšmę perduosime per komandinės eilutės parametrus)"
   ]
  },
  {
   "cell_type": "code",
   "execution_count": 41,
   "metadata": {},
   "outputs": [],
   "source": [
    "k = 5"
   ]
  },
  {
   "cell_type": "code",
   "execution_count": 42,
   "metadata": {},
   "outputs": [],
   "source": [
    "kmeans = KMeans(featuresCol=\"features\", k=k)"
   ]
  },
  {
   "cell_type": "code",
   "execution_count": 43,
   "metadata": {},
   "outputs": [],
   "source": [
    "model_kmeans = kmeans.fit(featurized_clustering_df)"
   ]
  },
  {
   "cell_type": "markdown",
   "metadata": {},
   "source": [
    "### SSE metrikos apskaičiavimas ir saugojimas"
   ]
  },
  {
   "cell_type": "markdown",
   "metadata": {},
   "source": [
    "Sukuriame kintamąjį kelio su kelio reikšme į failą, kuriame saugosime $SSE$ metrikas (pyspark job'uose šią reikšmę perduosime per komandinės eilutės parametrus):"
   ]
  },
  {
   "cell_type": "code",
   "execution_count": 44,
   "metadata": {},
   "outputs": [],
   "source": [
    "path_metrics_kmeans_sse = \"../data/metrics_kmeans_see.jsonl\""
   ]
  },
  {
   "cell_type": "markdown",
   "metadata": {},
   "source": [
    "#### kai $K=1$\n",
    "\n",
    "Apache Spark KMeans modelių apmokymui galime naudoti tik $K > $ reikšmes, tačiau norėdami apskaičiuoti $f(K)$ metrikos reikšmę, turime žinoti $SSE$ metrikos reikšmę su $K = 1$. Klasteris yra tik vienas, todėl jo centras koordinatės yra kiekvieno požymio vidurkis. Kadangi klasterizavimui naudojame normalizuotis duomenis, kiekvieno kintamamojo vidurkis yra $0$, todėl klasterio centro koordinates žinome. Belieka rankiniu būdu paskaičiuoti $SSE$ metriką. Kadangi centro koordinatės nulinės, stebėjimų reikšmės jau yra atstumų nuo klasterio centro reikšmės kiekvienai koordinatei (požymiui). Norėdami apskaičiuoti $SSE$ metriką, sudėsime kiekvieno iš stebėjimų vektroriaus $\\mathbf{x}$ Euklido normų (atstumų nuo centro) kvadratus $\\|\\mathbf{x}\\|_2 = \\sqrt{x_1^2 + x_2^2 + ... + x_n^2}$, kur $n$ yra klasterizavimui naudojamų požymių skaičius."
   ]
  },
  {
   "cell_type": "markdown",
   "metadata": {},
   "source": [
    "Jeigu `x` yra vienas stebėjimas su normalizuotomis koordinatėmis"
   ]
  },
  {
   "cell_type": "code",
   "execution_count": 50,
   "metadata": {},
   "outputs": [
    {
     "data": {
      "text/plain": [
       "DenseVector([-0.3639, -0.2462, 0.9187, 0.7733, -0.6784, 0.353, 1.2461, 0.4085, 0.8686, 1.2229, 0.0133, 0.4312, -0.4108, -0.2249, -0.195, -0.1952, -0.4108, 0.2785, 1.2261, 0.9776, -0.4108, -0.2979, -0.1989, -0.1962, -0.4108, 0.2991, 0.2758, 1.0247, -0.7056, 0.5964, 0.43, -0.7056, 0.4319, 0.4482, -0.7056, -0.2253, -0.2305, -0.7056, -0.2559, -0.1327, -0.3269, -0.1335, -0.0839, -0.0663, -0.0839, 0.3094, 0.5615, 1.6495, 1.7619, -0.1807, 1.4101, -0.2215, 0.3433, 0.8388, 0.4591, -0.228, -0.0719, 0.3941])"
      ]
     },
     "execution_count": 50,
     "metadata": {},
     "output_type": "execute_result"
    }
   ],
   "source": [
    "x = featurized_clustering_df.select(\"features\").first()[0]\n",
    "x"
   ]
  },
  {
   "cell_type": "markdown",
   "metadata": {},
   "source": [
    "jo atstumo nuo centro kvadratas apskaičiuojamas"
   ]
  },
  {
   "cell_type": "code",
   "execution_count": 20,
   "metadata": {},
   "outputs": [
    {
     "data": {
      "text/plain": [
       "13.261252893202956"
      ]
     },
     "execution_count": 20,
     "metadata": {},
     "output_type": "execute_result"
    }
   ],
   "source": [
    "x.norm(2) ** 2"
   ]
  },
  {
   "cell_type": "markdown",
   "metadata": {},
   "source": [
    "Tuomet $SSE$ reikmšmė normalizuotiems požymiams apskaičiuojame naudodami `pyspark.rdd` API:"
   ]
  },
  {
   "cell_type": "code",
   "execution_count": 21,
   "metadata": {},
   "outputs": [],
   "source": [
    "sse_k_1 = (\n",
    "    featurized_clustering_df.select(\"features\").rdd\n",
    "    .map(operator.itemgetter(0))\n",
    "    .map(lambda x: x.norm(2) ** 2)\n",
    "    .sum()\n",
    ")"
   ]
  },
  {
   "cell_type": "code",
   "execution_count": 22,
   "metadata": {},
   "outputs": [
    {
     "data": {
      "text/plain": [
       "294639.99999999988"
      ]
     },
     "execution_count": 22,
     "metadata": {},
     "output_type": "execute_result"
    }
   ],
   "source": [
    "sse_k_1"
   ]
  },
  {
   "cell_type": "markdown",
   "metadata": {},
   "source": [
    "išsaugome metrikos reikšmę į failą"
   ]
  },
  {
   "cell_type": "code",
   "execution_count": 23,
   "metadata": {},
   "outputs": [],
   "source": [
    "with jsonlines.open(path_metrics_kmeans_sse, \"w\") as f:\n",
    "    f.write({\"k\": 1, \"sse\": sse_k_1})"
   ]
  },
  {
   "cell_type": "code",
   "execution_count": 24,
   "metadata": {},
   "outputs": [
    {
     "name": "stdout",
     "output_type": "stream",
     "text": [
      "{\"k\": 1, \"sse\": 294639.9999999999}\r\n"
     ]
    }
   ],
   "source": [
    "! cat ../data/metrics_kmeans_see.jsonl"
   ]
  },
  {
   "cell_type": "markdown",
   "metadata": {},
   "source": [
    "Jeigu $k = 1$, galime laikyti, kad duomenys jau suklasterizuoti priklauso vienam klasteriui ir apmokyti modeliu bei atlikti klasterių priskyrimo stebėjimams nereikia"
   ]
  },
  {
   "cell_type": "markdown",
   "metadata": {},
   "source": [
    "**Pastaba** jeigu tik galime, visada naudojame `pyspark.dataframe`, o ne `pyspark.rdd` API"
   ]
  },
  {
   "cell_type": "markdown",
   "metadata": {},
   "source": [
    "## kai $K > 1$"
   ]
  },
  {
   "cell_type": "markdown",
   "metadata": {},
   "source": [
    "metriką skaičiuojame su apmokytu modeliu"
   ]
  },
  {
   "cell_type": "code",
   "execution_count": 25,
   "metadata": {},
   "outputs": [
    {
     "data": {
      "text/plain": [
       "193611.6796785052"
      ]
     },
     "execution_count": 25,
     "metadata": {},
     "output_type": "execute_result"
    }
   ],
   "source": [
    "sse = model_kmeans.computeCost(featurized_clustering_df)\n",
    "sse"
   ]
  },
  {
   "cell_type": "markdown",
   "metadata": {},
   "source": [
    "Išsaugojame metrikos $SSE$ reikšmę `jsonlines` formatu prijungdami ją prie failo. Atidarome failą `append` režimu (\"a\" parinktis), kad saugodami į failą prijungtume naujas eilutes neištrynę jo buvusio turinio:"
   ]
  },
  {
   "cell_type": "code",
   "execution_count": 26,
   "metadata": {},
   "outputs": [],
   "source": [
    "metrics_row = {\"k\": k, \"sse\": sse}\n",
    "\n",
    "with jsonlines.open(path_metrics_kmeans_sse, \"a\") as f:\n",
    "    f.write(metrics_row)"
   ]
  },
  {
   "cell_type": "markdown",
   "metadata": {},
   "source": [
    "Iš šio Jupyter Notebok galime pažiūrėti failo turinį:"
   ]
  },
  {
   "cell_type": "code",
   "execution_count": 27,
   "metadata": {},
   "outputs": [
    {
     "name": "stdout",
     "output_type": "stream",
     "text": [
      "{\"k\": 1, \"sse\": 294639.9999999999}\r\n",
      "{\"k\": 5, \"sse\": 193611.6796785052}\r\n"
     ]
    }
   ],
   "source": [
    "! cat ../data/metrics_kmeans_see.jsonl"
   ]
  },
  {
   "cell_type": "markdown",
   "metadata": {},
   "source": [
    "Tarkime, kad $K=5$ ir yra mūsų geriausias klasterių skaičius. Labai tikėtina, kad taip iš tiesų nėra, ir savo geriausią $K$ turėsite iš klasterizavimo metrikų $SSE$ ir $f(K)$ pagal $K$ grafikų.\n",
    "\n",
    "Kai turime geriausią $K$ reišmę, mums reikia:\n",
    "- išsaugoti klasterių atstatytus klasterių centrus interpretavimui\n",
    "- išsaugoti duomenis su priskirtomis klasterių reikšmėmis, kadangi turėsime sudaryti po atskirą `churn` reikšmės prognozavimo modelį kiekvienam klasteriui"
   ]
  },
  {
   "cell_type": "markdown",
   "metadata": {},
   "source": [
    "### Klasterio centrų atstatymas ir saugojimas"
   ]
  },
  {
   "cell_type": "markdown",
   "metadata": {},
   "source": [
    "Atstatome klasterių centrus ir paskaičiuojame kiek procentaliai stebėjimų priklauso kiekvienam klasteriui"
   ]
  },
  {
   "cell_type": "code",
   "execution_count": 28,
   "metadata": {},
   "outputs": [
    {
     "data": {
      "text/plain": [
       "[array([-0.42882882, -0.21206692,  0.11985678, -0.05975954, -0.17973427,\n",
       "        -0.09582999, -0.05220308, -0.00440011, -0.06316899, -0.05318186,\n",
       "         0.03404044,  0.08995054, -0.39293021, -0.0363793 , -0.05072465,\n",
       "        -0.0535321 , -0.39293021, -0.00155153, -0.02882553, -0.03985544,\n",
       "        -0.39293021, -0.0253303 , -0.05448482, -0.06072522, -0.39293021,\n",
       "        -0.02102862, -0.02086909,  0.10215744, -0.64351189,  0.02532133,\n",
       "         0.0409934 , -0.64351189, -0.00988745, -0.00893891, -0.64351189,\n",
       "        -0.0198785 , -0.02502434, -0.64351189,  0.15117126, -0.00464374,\n",
       "         0.08873809,  0.01437177, -0.02381759, -0.02713019, -0.01379998,\n",
       "        -0.08471177, -0.05019147, -0.04247959, -0.04599262, -0.05537415,\n",
       "        -0.03691763, -0.05680315, -0.01597915,  0.03828162, -0.00361144,\n",
       "        -0.01752814, -0.02813   ,  0.31538293]),\n",
       " array([ 0.2556159 ,  0.02085874, -0.15395238, -0.46940366,  0.94410916,\n",
       "        -0.50824321, -0.47449542, -0.43821724, -0.39006125, -0.43278304,\n",
       "        -0.38641826, -0.50770482, -0.29985357, -0.1917779 , -0.16402558,\n",
       "        -0.16202515, -0.29985357, -0.3810796 , -0.39670299, -0.36897723,\n",
       "        -0.29985357, -0.21648392, -0.17290209, -0.18975379, -0.29985357,\n",
       "        -0.40692115, -0.38065433, -0.36814624,  1.28405355, -0.24409569,\n",
       "        -0.23119464,  1.28405355, -0.34286206, -0.34196059,  1.28405355,\n",
       "        -0.22546365, -0.16925305,  1.28405355, -0.56336213, -0.11592729,\n",
       "        -0.24615958, -0.08088216, -0.08586722, -0.06988495, -0.09329786,\n",
       "         0.26693678, -0.48123146, -0.45649267, -0.43894804, -0.15700514,\n",
       "        -0.38828818, -0.17285834, -0.40529564, -0.26411257, -0.35124546,\n",
       "        -0.23954183, -0.07624332,  0.00282945]),\n",
       " array([ 1.91046152,  1.08888556, -0.5630434 , -0.53068385, -0.0708209 ,\n",
       "        -0.12541081, -0.53742155, -0.60413716, -0.47374847, -0.5334944 ,\n",
       "        -0.52498766, -0.73391892,  2.47567309, -0.21718933, -0.18183303,\n",
       "        -0.17934476,  2.47567309, -0.48368197, -0.48826583, -0.45279458,\n",
       "         2.47567309, -0.25689833, -0.1876295 , -0.2036135 ,  2.47567309,\n",
       "        -0.40988757, -0.38085   , -0.36495642,  1.54019766, -0.24700118,\n",
       "        -0.2358917 ,  1.54019766, -0.34529751, -0.34394989,  1.54019766,\n",
       "        -0.23225498, -0.17249941,  1.54019766, -0.79950543, -0.12396385,\n",
       "        -0.3542317 , -0.11277583, -0.0808912 , -0.06677833, -0.07627658,\n",
       "         0.35746088, -0.45636785, -0.52419452, -0.5482014 , -0.18617097,\n",
       "        -0.48188768, -0.19466389, -0.41405415, -0.26607955, -0.36068632,\n",
       "        -0.24606577, -0.07601153, -1.65151677]),\n",
       " array([-0.49131477, -0.23580529,  0.23720898,  2.134927  , -0.67056682,\n",
       "         1.93210361,  2.13572043,  1.88175323,  1.90284109,  2.08061844,\n",
       "         1.26792746,  1.55066549, -0.40932838,  0.97881901,  0.94812993,\n",
       "         0.95838366, -0.40932838,  1.55896923,  1.78858585,  1.75201098,\n",
       "        -0.40932838,  1.01656043,  0.98387927,  1.11017339, -0.40932838,\n",
       "         1.6409004 ,  1.5274544 ,  0.6231087 , -0.64536799,  0.72387215,\n",
       "         0.57172242, -0.64536799,  1.33124137,  1.3206508 , -0.64536799,\n",
       "         0.94961055,  0.74622766, -0.64536799,  1.35444294,  0.47019826,\n",
       "         0.43532249,  0.24379921,  0.39961612,  0.37012891,  0.3276102 ,\n",
       "        -0.51421266,  2.0578417 ,  1.98240167,  2.06520345,  0.94214121,\n",
       "         1.8167085 ,  1.01292893,  1.60815193,  0.70475869,  1.32863893,\n",
       "         0.9747318 ,  0.34365121,  0.32694211]),\n",
       " array([ -0.31678151,  -0.25054496,  26.70253466,  20.94445766,\n",
       "         -0.65596282,   2.95701619,  13.95483621,   2.31271817,\n",
       "         20.63434391,   6.59000863,  27.66401247,   7.74445221,\n",
       "         -0.42205041,   3.484687  ,   7.10773041,   7.34838126,\n",
       "         -0.42205041,   1.59582003,   1.54479778,   1.40306296,\n",
       "         -0.42205041,   3.33815564,  11.08890495,   6.15301518,\n",
       "         -0.42205041,   0.68810792,   3.24690267,   3.54162073,\n",
       "         -0.70982324,   0.29557218,   0.0756068 ,  -0.70982324,\n",
       "         -0.07300492,  -0.0659266 ,  -0.70982324,   5.72210724,\n",
       "         11.68929236,  -0.70982324,   5.94079565,  -0.04143654,\n",
       "          4.10144321,   0.49492793,  15.97869792,  15.23458494,\n",
       "         18.50740526,  -3.77425481,   4.05367919,  19.90685358,\n",
       "          6.87309595,  13.61949898,   1.57235365,  10.57170982,\n",
       "          0.83014681,   0.60725138,   0.05942574,   7.88579311,\n",
       "         28.62173751,   0.3982209 ])]"
      ]
     },
     "execution_count": 28,
     "metadata": {},
     "output_type": "execute_result"
    }
   ],
   "source": [
    "normalized_cluster_centers = model_kmeans.clusterCenters()\n",
    "\n",
    "normalized_cluster_centers"
   ]
  },
  {
   "cell_type": "code",
   "execution_count": 29,
   "metadata": {},
   "outputs": [],
   "source": [
    "scaler_mean = model_scaler.mean\n",
    "scaler_std = model_scaler.std"
   ]
  },
  {
   "cell_type": "code",
   "execution_count": 30,
   "metadata": {},
   "outputs": [
    {
     "data": {
      "text/plain": [
       "DenseVector([3856.6874, 40.8785, 9.6406, 6.7465, 358.841, 0.8947, 7.1885, 34.4963, 4.6283, 31.0982, 0.88, 4.7224, 175.2331, 0.4517, 0.1916, 0.5683, 175.2331, 14.9531, 2.6703, 19.4404, 175.2331, 2.1128, 0.3899, 1.6548, 175.2331, 34.3214, 1.8845, 0.091, 403.8553, 2.3697, 0.1063, 403.8553, 21.0217, 1.2315, 403.8553, 1.617, 0.1901, 403.8553, 8.9411, 0.1187, 1.3225, 0.0148, 10.7202, 3.7864, 0.2337, 1209.5396, 3.5641, 22.2013, 98.0725, 1.4236, 63.7401, 4.1846, 102.4544, 7.0349, 62.7356, 3.9729, 7.6214, 2.7321])"
      ]
     },
     "execution_count": 30,
     "metadata": {},
     "output_type": "execute_result"
    }
   ],
   "source": [
    "scaler_mean"
   ]
  },
  {
   "cell_type": "code",
   "execution_count": 31,
   "metadata": {},
   "outputs": [
    {
     "data": {
      "text/plain": [
       "DenseVector([5807.433, 160.4974, 15.5259, 12.3291, 511.4737, 1.2192, 12.2094, 55.636, 9.5226, 56.9104, 1.5903, 6.1234, 412.4304, 2.0705, 1.0505, 3.1572, 412.4304, 30.3168, 5.3543, 42.11, 412.4304, 8.1544, 2.0716, 8.0812, 412.4304, 82.1266, 4.836, 0.2378, 567.7779, 9.4627, 0.4459, 567.7779, 59.6546, 3.5112, 567.7779, 6.9409, 1.0966, 567.7779, 10.5023, 0.9331, 3.6193, 0.1316, 123.7969, 54.0219, 2.4874, 319.3671, 5.987, 41.0582, 177.6011, 7.6357, 131.5162, 21.4524, 245.7946, 26.2908, 172.7262, 16.1295, 98.0067, 0.6726])"
      ]
     },
     "execution_count": 31,
     "metadata": {},
     "output_type": "execute_result"
    }
   ],
   "source": [
    "scaler_std"
   ]
  },
  {
   "cell_type": "code",
   "execution_count": 32,
   "metadata": {},
   "outputs": [
    {
     "data": {
      "text/plain": [
       "[3033, 940, 668, 438, 2]"
      ]
     },
     "execution_count": 32,
     "metadata": {},
     "output_type": "execute_result"
    }
   ],
   "source": [
    "cluster_sizes = model_kmeans.summary.clusterSizes\n",
    "cluster_sizes"
   ]
  },
  {
   "cell_type": "code",
   "execution_count": 33,
   "metadata": {},
   "outputs": [
    {
     "data": {
      "text/plain": [
       "5081"
      ]
     },
     "execution_count": 33,
     "metadata": {},
     "output_type": "execute_result"
    }
   ],
   "source": [
    "n_obs = clustering_df.count()\n",
    "n_obs"
   ]
  },
  {
   "cell_type": "code",
   "execution_count": 34,
   "metadata": {},
   "outputs": [
    {
     "data": {
      "text/plain": [
       "[(0,\n",
       "  3033,\n",
       "  59.692973824050384,\n",
       "  1366.292779426311,\n",
       "  6.8422903615782005,\n",
       "  11.501447961314431,\n",
       "  6.0097027145840203,\n",
       "  266.91169359270248,\n",
       "  0.77783272887130483,\n",
       "  6.5511451807890975,\n",
       "  34.251456203978456,\n",
       "  4.0267507418397628,\n",
       "  28.071616661171554,\n",
       "  0.93416144631278164,\n",
       "  5.2731772722277173,\n",
       "  13.176722716781825,\n",
       "  0.3763600395647877,\n",
       "  0.13833882844268566,\n",
       "  0.39930651719969068,\n",
       "  13.176722716781825,\n",
       "  14.906088581162765,\n",
       "  2.5160067040334102,\n",
       "  17.762071656225956,\n",
       "  13.176722716781825,\n",
       "  1.9062534344433475,\n",
       "  0.27706451258379983,\n",
       "  1.1640213210242882,\n",
       "  13.176722716781825,\n",
       "  32.594351027585446,\n",
       "  1.7835646774370808,\n",
       "  0.11529453786130346,\n",
       "  38.483459720848714,\n",
       "  2.6093526761182568,\n",
       "  0.12456643587207386,\n",
       "  38.483459720848714,\n",
       "  20.431915595120344,\n",
       "  1.2000956149027364,\n",
       "  38.483459720848714,\n",
       "  1.4790636333663048,\n",
       "  0.16262666227057945,\n",
       "  38.483459720848714,\n",
       "  10.528739421914496,\n",
       "  0.11433124519177934,\n",
       "  1.643642158478954,\n",
       "  0.016738103088251487,\n",
       "  7.7716232553027957,\n",
       "  2.3208017364545617,\n",
       "  0.19938894383998318,\n",
       "  1182.4854379602152,\n",
       "  3.2636003956478734,\n",
       "  20.457159907682161,\n",
       "  89.904209803275094,\n",
       "  1.0008237168919623,\n",
       "  58.884787888778988,\n",
       "  2.96599461479284,\n",
       "  98.526816133641063,\n",
       "  8.041323222332128,\n",
       "  62.11182547532696,\n",
       "  3.6901857346961191,\n",
       "  4.864427959116373,\n",
       "  2.944279591163864),\n",
       " (1,\n",
       "  940,\n",
       "  18.500295217476875,\n",
       "  5341.1595744680853,\n",
       "  44.226241134751774,\n",
       "  7.2503120567375881,\n",
       "  0.95914893617021324,\n",
       "  841.72801418439713,\n",
       "  0.27499999999999991,\n",
       "  1.3952198581560236,\n",
       "  10.115602836879436,\n",
       "  0.91387411347517666,\n",
       "  6.4683563829787012,\n",
       "  0.26551773049645322,\n",
       "  1.6134751773049625,\n",
       "  51.564361702127599,\n",
       "  0.054609929078014596,\n",
       "  0.019315602836879053,\n",
       "  0.056776595744679081,\n",
       "  51.564361702127599,\n",
       "  3.3999999999999844,\n",
       "  0.54627836879432756,\n",
       "  3.9027606382978473,\n",
       "  51.564361702127599,\n",
       "  0.34751773049645673,\n",
       "  0.031751773049644438,\n",
       "  0.12131914893617157,\n",
       "  51.564361702127599,\n",
       "  0.90230496453905573,\n",
       "  0.043625886524825574,\n",
       "  0.0034379432624114664,\n",
       "  1132.912588652481,\n",
       "  0.059929078014191006,\n",
       "  0.0032021276595745329,\n",
       "  1132.912588652481,\n",
       "  0.56843971631199963,\n",
       "  0.030787234042551459,\n",
       "  1132.912588652481,\n",
       "  0.052127659574470186,\n",
       "  0.0044680851063835236,\n",
       "  1132.912588652481,\n",
       "  3.0244680851063874,\n",
       "  0.010492907801418261,\n",
       "  0.43156028368794486,\n",
       "  0.0041985815602836648,\n",
       "  0.090070921985828889,\n",
       "  0.011106382978723239,\n",
       "  0.0016489361702121674,\n",
       "  1294.7904255319147,\n",
       "  0.68297872340425103,\n",
       "  3.4585389361702106,\n",
       "  20.114909574468044,\n",
       "  0.22479787234042203,\n",
       "  12.673875886524847,\n",
       "  0.47632978723405062,\n",
       "  2.8349290780141132,\n",
       "  0.091134751773062739,\n",
       "  2.0663120567377149,\n",
       "  0.10921985815603241,\n",
       "  0.14899999999999292,\n",
       "  2.7340425531914896),\n",
       " (2,\n",
       "  668,\n",
       "  13.147018303483566,\n",
       "  14951.564620758469,\n",
       "  215.64171656686631,\n",
       "  0.89880239520959826,\n",
       "  0.2036177644710655,\n",
       "  322.61801397205591,\n",
       "  0.74176646706586868,\n",
       "  0.62693113772454456,\n",
       "  0.88448103792418209,\n",
       "  0.11695109780439061,\n",
       "  0.73683133732529171,\n",
       "  0.045154690618761317,\n",
       "  0.22826846307385029,\n",
       "  1196.2759481037913,\n",
       "  0.001996007984032433,\n",
       "  0.00060878243512935137,\n",
       "  0.0020958083832327556,\n",
       "  1196.2759481037913,\n",
       "  0.28942115768460042,\n",
       "  0.056022954091818455,\n",
       "  0.37321357285424739,\n",
       "  1196.2759481037913,\n",
       "  0.017964071856292119,\n",
       "  0.0012425149700595051,\n",
       "  0.0093163672654708041,\n",
       "  1196.2759481037913,\n",
       "  0.65868263473058875,\n",
       "  0.042679640718563672,\n",
       "  0.0041966067864271234,\n",
       "  1278.3455588822358,\n",
       "  0.032435129740522761,\n",
       "  0.0011077844311377788,\n",
       "  1278.3455588822358,\n",
       "  0.42315369261475766,\n",
       "  0.023802395209578942,\n",
       "  1278.3455588822358,\n",
       "  0.0049900199600823036,\n",
       "  0.00090818363273498237,\n",
       "  1278.3455588822358,\n",
       "  0.54441117764472047,\n",
       "  0.0029940119760478168,\n",
       "  0.040419161676648718,\n",
       "  -2.0816681711721685e-17,\n",
       "  0.70608782435128603,\n",
       "  0.17893213572854982,\n",
       "  0.043987025948103775,\n",
       "  1323.7008483033933,\n",
       "  0.83183632734530732,\n",
       "  0.67882485029939943,\n",
       "  0.71139720558869612,\n",
       "  0.0020958083832307572,\n",
       "  0.3640269461078347,\n",
       "  0.008547904191621214,\n",
       "  0.68213572854287463,\n",
       "  0.03942115768463772,\n",
       "  0.43562874251502137,\n",
       "  0.0039920159680613132,\n",
       "  0.17171656686627745,\n",
       "  1.6212574850299395),\n",
       " (3,\n",
       "  438,\n",
       "  8.620350324739224,\n",
       "  1003.4098173515981,\n",
       "  3.032343987823424,\n",
       "  13.323447488584474,\n",
       "  33.068268645357676,\n",
       "  15.863774733637854,\n",
       "  3.2503805175038036,\n",
       "  33.264322678843229,\n",
       "  139.18949771689495,\n",
       "  22.748352359208525,\n",
       "  149.50707382039576,\n",
       "  2.896377473363775,\n",
       "  14.217766362252663,\n",
       "  6.4136225266362885,\n",
       "  2.4783105022831031,\n",
       "  1.1876407914764073,\n",
       "  3.5940867579908686,\n",
       "  6.4136225266362885,\n",
       "  62.216133942161328,\n",
       "  12.246982496194823,\n",
       "  93.217526636225273,\n",
       "  6.4136225266362885,\n",
       "  10.402207001522067,\n",
       "  2.4281354642313535,\n",
       "  10.626255707762558,\n",
       "  6.4136225266362885,\n",
       "  169.08295281582951,\n",
       "  9.2713318112633143,\n",
       "  0.23919710806697106,\n",
       "  37.429604261796044,\n",
       "  9.2195585996955884,\n",
       "  0.36121004566210047,\n",
       "  37.429604261796044,\n",
       "  100.43645357686452,\n",
       "  5.8685616438356156,\n",
       "  37.429604261796044,\n",
       "  8.2081430745814323,\n",
       "  1.0083675799086753,\n",
       "  37.429604261796044,\n",
       "  23.165905631659058,\n",
       "  0.55740487062404898,\n",
       "  2.8980213089802129,\n",
       "  0.046940639269406392,\n",
       "  60.191400304414032,\n",
       "  23.781510654490127,\n",
       "  1.0485996955859975,\n",
       "  1045.3169710806696,\n",
       "  15.884322678843226,\n",
       "  103.59508477929982,\n",
       "  464.85486681887363,\n",
       "  8.6175722983257241,\n",
       "  302.66661719939111,\n",
       "  25.91433789954338,\n",
       "  497.72945205479454,\n",
       "  25.563546423135463,\n",
       "  292.22640791476408,\n",
       "  19.694824961948257,\n",
       "  41.301476407914741,\n",
       "  2.9520547945205484),\n",
       " (4,\n",
       "  2,\n",
       "  0.0393623302499508,\n",
       "  2016.9999999999998,\n",
       "  0.6666666666666643,\n",
       "  424.22166666666664,\n",
       "  264.97333333333336,\n",
       "  23.333333333333371,\n",
       "  4.5,\n",
       "  177.56833333333333,\n",
       "  163.16666666666669,\n",
       "  201.12166666666667,\n",
       "  406.13833333333338,\n",
       "  44.873333333333328,\n",
       "  52.144999999999996,\n",
       "  1.1666666666666288,\n",
       "  7.666666666666667,\n",
       "  7.658333333333335,\n",
       "  23.768333333333334,\n",
       "  1.1666666666666288,\n",
       "  63.333333333333329,\n",
       "  10.941666666666665,\n",
       "  78.523333333333341,\n",
       "  1.1666666666666288,\n",
       "  29.333333333333332,\n",
       "  23.361666666666672,\n",
       "  51.378333333333323,\n",
       "  1.1666666666666288,\n",
       "  90.833333333333343,\n",
       "  17.586666666666666,\n",
       "  0.93333333333333335,\n",
       "  0.83333333333331439,\n",
       "  5.166666666666667,\n",
       "  0.14000000000000001,\n",
       "  0.83333333333331439,\n",
       "  16.666666666666668,\n",
       "  1.0,\n",
       "  0.83333333333331439,\n",
       "  41.333333333333329,\n",
       "  13.008333333333333,\n",
       "  0.83333333333331439,\n",
       "  71.333333333333329,\n",
       "  0.080000000000000002,\n",
       "  16.166666666666664,\n",
       "  0.080000000000000016,\n",
       "  1988.8333333333335,\n",
       "  826.7883333333333,\n",
       "  46.268333333333338,\n",
       "  4.1666666666665151,\n",
       "  27.833333333333329,\n",
       "  839.54033333333348,\n",
       "  1318.7416666666663,\n",
       "  105.41833333333334,\n",
       "  270.53000000000003,\n",
       "  230.97333333333333,\n",
       "  306.5,\n",
       "  22.999999999999996,\n",
       "  73.0,\n",
       "  131.16666666666666,\n",
       "  2812.7433333333338,\n",
       "  3.0)]"
      ]
     },
     "execution_count": 34,
     "metadata": {},
     "output_type": "execute_result"
    }
   ],
   "source": [
    "denormalized_cluster_centers = [\n",
    "    (cluster_id,) + (size, 100 * size / n_obs) + tuple(center * scaler_std + scaler_mean)\n",
    "    for cluster_id, (size, center) in \n",
    "    enumerate(zip(cluster_sizes, normalized_cluster_centers))\n",
    "]\n",
    "\n",
    "denormalized_cluster_centers"
   ]
  },
  {
   "cell_type": "markdown",
   "metadata": {},
   "source": [
    "sukuriame klasterio centrų Pandas Dataframe"
   ]
  },
  {
   "cell_type": "code",
   "execution_count": 35,
   "metadata": {},
   "outputs": [],
   "source": [
    "cluster_centers_pddf = pd.DataFrame.from_records(denormalized_cluster_centers)\n",
    "cluster_centers_pddf.columns = (\n",
    "    [\"cluster_id\", \"cluster_size\", \"cluster_size_pct\"] + \n",
    "    columns_clustering_features\n",
    ")"
   ]
  },
  {
   "cell_type": "markdown",
   "metadata": {},
   "source": [
    "Norėdami atvaizduoti visus stulpelius šiame Jupyter Notebook, pakeičiame maksimalaus stulpelių skaičiaus parinktį"
   ]
  },
  {
   "cell_type": "code",
   "execution_count": 36,
   "metadata": {},
   "outputs": [],
   "source": [
    "pd.set_option(\"max_columns\", 999)"
   ]
  },
  {
   "cell_type": "code",
   "execution_count": 37,
   "metadata": {},
   "outputs": [
    {
     "data": {
      "text/html": [
       "<div>\n",
       "<style scoped>\n",
       "    .dataframe tbody tr th:only-of-type {\n",
       "        vertical-align: middle;\n",
       "    }\n",
       "\n",
       "    .dataframe tbody tr th {\n",
       "        vertical-align: top;\n",
       "    }\n",
       "\n",
       "    .dataframe thead th {\n",
       "        text-align: right;\n",
       "    }\n",
       "</style>\n",
       "<table border=\"1\" class=\"dataframe\">\n",
       "  <thead>\n",
       "    <tr style=\"text-align: right;\">\n",
       "      <th></th>\n",
       "      <th>cluster_id</th>\n",
       "      <th>cluster_size</th>\n",
       "      <th>cluster_size_pct</th>\n",
       "      <th>user_lifetime</th>\n",
       "      <th>user_no_outgoing_activity_in_days</th>\n",
       "      <th>user_account_balance_last</th>\n",
       "      <th>user_spendings</th>\n",
       "      <th>reloads_inactive_days</th>\n",
       "      <th>reloads_count</th>\n",
       "      <th>reloads_sum</th>\n",
       "      <th>calls_outgoing_count</th>\n",
       "      <th>calls_outgoing_spendings</th>\n",
       "      <th>calls_outgoing_duration</th>\n",
       "      <th>calls_outgoing_spendings_max</th>\n",
       "      <th>calls_outgoing_duration_max</th>\n",
       "      <th>calls_outgoing_inactive_days</th>\n",
       "      <th>calls_outgoing_to_onnet_count</th>\n",
       "      <th>calls_outgoing_to_onnet_spendings</th>\n",
       "      <th>calls_outgoing_to_onnet_duration</th>\n",
       "      <th>calls_outgoing_to_onnet_inactive_days</th>\n",
       "      <th>calls_outgoing_to_offnet_count</th>\n",
       "      <th>calls_outgoing_to_offnet_spendings</th>\n",
       "      <th>calls_outgoing_to_offnet_duration</th>\n",
       "      <th>calls_outgoing_to_offnet_inactive_days</th>\n",
       "      <th>calls_outgoing_to_abroad_count</th>\n",
       "      <th>calls_outgoing_to_abroad_spendings</th>\n",
       "      <th>calls_outgoing_to_abroad_duration</th>\n",
       "      <th>calls_outgoing_to_abroad_inactive_days</th>\n",
       "      <th>sms_outgoing_count</th>\n",
       "      <th>sms_outgoing_spendings</th>\n",
       "      <th>sms_outgoing_spendings_max</th>\n",
       "      <th>sms_outgoing_inactive_days</th>\n",
       "      <th>sms_outgoing_to_onnet_count</th>\n",
       "      <th>sms_outgoing_to_onnet_spendings</th>\n",
       "      <th>sms_outgoing_to_onnet_inactive_days</th>\n",
       "      <th>sms_outgoing_to_offnet_count</th>\n",
       "      <th>sms_outgoing_to_offnet_spendings</th>\n",
       "      <th>sms_outgoing_to_offnet_inactive_days</th>\n",
       "      <th>sms_outgoing_to_abroad_count</th>\n",
       "      <th>sms_outgoing_to_abroad_spendings</th>\n",
       "      <th>sms_outgoing_to_abroad_inactive_days</th>\n",
       "      <th>sms_incoming_count</th>\n",
       "      <th>sms_incoming_spendings</th>\n",
       "      <th>sms_incoming_from_abroad_count</th>\n",
       "      <th>sms_incoming_from_abroad_spendings</th>\n",
       "      <th>gprs_session_count</th>\n",
       "      <th>gprs_usage</th>\n",
       "      <th>gprs_spendings</th>\n",
       "      <th>gprs_inactive_days</th>\n",
       "      <th>last_100_reloads_count</th>\n",
       "      <th>last_100_reloads_sum</th>\n",
       "      <th>last_100_calls_outgoing_duration</th>\n",
       "      <th>last_100_calls_outgoing_to_onnet_duration</th>\n",
       "      <th>last_100_calls_outgoing_to_offnet_duration</th>\n",
       "      <th>last_100_calls_outgoing_to_abroad_duration</th>\n",
       "      <th>last_100_sms_outgoing_count</th>\n",
       "      <th>last_100_sms_outgoing_to_onnet_count</th>\n",
       "      <th>last_100_sms_outgoing_to_offnet_count</th>\n",
       "      <th>last_100_sms_outgoing_to_abroad_count</th>\n",
       "      <th>last_100_gprs_usage</th>\n",
       "      <th>n_months</th>\n",
       "    </tr>\n",
       "  </thead>\n",
       "  <tbody>\n",
       "    <tr>\n",
       "      <th>0</th>\n",
       "      <td>0</td>\n",
       "      <td>3033</td>\n",
       "      <td>59.692974</td>\n",
       "      <td>1366.292779</td>\n",
       "      <td>6.842290</td>\n",
       "      <td>11.501448</td>\n",
       "      <td>6.009703</td>\n",
       "      <td>266.911694</td>\n",
       "      <td>0.777833</td>\n",
       "      <td>6.551145</td>\n",
       "      <td>34.251456</td>\n",
       "      <td>4.026751</td>\n",
       "      <td>28.071617</td>\n",
       "      <td>0.934161</td>\n",
       "      <td>5.273177</td>\n",
       "      <td>13.176723</td>\n",
       "      <td>0.376360</td>\n",
       "      <td>0.138339</td>\n",
       "      <td>0.399307</td>\n",
       "      <td>13.176723</td>\n",
       "      <td>14.906089</td>\n",
       "      <td>2.516007</td>\n",
       "      <td>17.762072</td>\n",
       "      <td>13.176723</td>\n",
       "      <td>1.906253</td>\n",
       "      <td>0.277065</td>\n",
       "      <td>1.164021</td>\n",
       "      <td>13.176723</td>\n",
       "      <td>32.594351</td>\n",
       "      <td>1.783565</td>\n",
       "      <td>0.115295</td>\n",
       "      <td>38.483460</td>\n",
       "      <td>2.609353</td>\n",
       "      <td>0.124566</td>\n",
       "      <td>38.483460</td>\n",
       "      <td>20.431916</td>\n",
       "      <td>1.200096</td>\n",
       "      <td>38.483460</td>\n",
       "      <td>1.479064</td>\n",
       "      <td>0.162627</td>\n",
       "      <td>38.483460</td>\n",
       "      <td>10.528739</td>\n",
       "      <td>0.114331</td>\n",
       "      <td>1.643642</td>\n",
       "      <td>1.673810e-02</td>\n",
       "      <td>7.771623</td>\n",
       "      <td>2.320802</td>\n",
       "      <td>0.199389</td>\n",
       "      <td>1182.485438</td>\n",
       "      <td>3.263600</td>\n",
       "      <td>20.457160</td>\n",
       "      <td>89.904210</td>\n",
       "      <td>1.000824</td>\n",
       "      <td>58.884788</td>\n",
       "      <td>2.965995</td>\n",
       "      <td>98.526816</td>\n",
       "      <td>8.041323</td>\n",
       "      <td>62.111825</td>\n",
       "      <td>3.690186</td>\n",
       "      <td>4.864428</td>\n",
       "      <td>2.944280</td>\n",
       "    </tr>\n",
       "    <tr>\n",
       "      <th>1</th>\n",
       "      <td>1</td>\n",
       "      <td>940</td>\n",
       "      <td>18.500295</td>\n",
       "      <td>5341.159574</td>\n",
       "      <td>44.226241</td>\n",
       "      <td>7.250312</td>\n",
       "      <td>0.959149</td>\n",
       "      <td>841.728014</td>\n",
       "      <td>0.275000</td>\n",
       "      <td>1.395220</td>\n",
       "      <td>10.115603</td>\n",
       "      <td>0.913874</td>\n",
       "      <td>6.468356</td>\n",
       "      <td>0.265518</td>\n",
       "      <td>1.613475</td>\n",
       "      <td>51.564362</td>\n",
       "      <td>0.054610</td>\n",
       "      <td>0.019316</td>\n",
       "      <td>0.056777</td>\n",
       "      <td>51.564362</td>\n",
       "      <td>3.400000</td>\n",
       "      <td>0.546278</td>\n",
       "      <td>3.902761</td>\n",
       "      <td>51.564362</td>\n",
       "      <td>0.347518</td>\n",
       "      <td>0.031752</td>\n",
       "      <td>0.121319</td>\n",
       "      <td>51.564362</td>\n",
       "      <td>0.902305</td>\n",
       "      <td>0.043626</td>\n",
       "      <td>0.003438</td>\n",
       "      <td>1132.912589</td>\n",
       "      <td>0.059929</td>\n",
       "      <td>0.003202</td>\n",
       "      <td>1132.912589</td>\n",
       "      <td>0.568440</td>\n",
       "      <td>0.030787</td>\n",
       "      <td>1132.912589</td>\n",
       "      <td>0.052128</td>\n",
       "      <td>0.004468</td>\n",
       "      <td>1132.912589</td>\n",
       "      <td>3.024468</td>\n",
       "      <td>0.010493</td>\n",
       "      <td>0.431560</td>\n",
       "      <td>4.198582e-03</td>\n",
       "      <td>0.090071</td>\n",
       "      <td>0.011106</td>\n",
       "      <td>0.001649</td>\n",
       "      <td>1294.790426</td>\n",
       "      <td>0.682979</td>\n",
       "      <td>3.458539</td>\n",
       "      <td>20.114910</td>\n",
       "      <td>0.224798</td>\n",
       "      <td>12.673876</td>\n",
       "      <td>0.476330</td>\n",
       "      <td>2.834929</td>\n",
       "      <td>0.091135</td>\n",
       "      <td>2.066312</td>\n",
       "      <td>0.109220</td>\n",
       "      <td>0.149000</td>\n",
       "      <td>2.734043</td>\n",
       "    </tr>\n",
       "    <tr>\n",
       "      <th>2</th>\n",
       "      <td>2</td>\n",
       "      <td>668</td>\n",
       "      <td>13.147018</td>\n",
       "      <td>14951.564621</td>\n",
       "      <td>215.641717</td>\n",
       "      <td>0.898802</td>\n",
       "      <td>0.203618</td>\n",
       "      <td>322.618014</td>\n",
       "      <td>0.741766</td>\n",
       "      <td>0.626931</td>\n",
       "      <td>0.884481</td>\n",
       "      <td>0.116951</td>\n",
       "      <td>0.736831</td>\n",
       "      <td>0.045155</td>\n",
       "      <td>0.228268</td>\n",
       "      <td>1196.275948</td>\n",
       "      <td>0.001996</td>\n",
       "      <td>0.000609</td>\n",
       "      <td>0.002096</td>\n",
       "      <td>1196.275948</td>\n",
       "      <td>0.289421</td>\n",
       "      <td>0.056023</td>\n",
       "      <td>0.373214</td>\n",
       "      <td>1196.275948</td>\n",
       "      <td>0.017964</td>\n",
       "      <td>0.001243</td>\n",
       "      <td>0.009316</td>\n",
       "      <td>1196.275948</td>\n",
       "      <td>0.658683</td>\n",
       "      <td>0.042680</td>\n",
       "      <td>0.004197</td>\n",
       "      <td>1278.345559</td>\n",
       "      <td>0.032435</td>\n",
       "      <td>0.001108</td>\n",
       "      <td>1278.345559</td>\n",
       "      <td>0.423154</td>\n",
       "      <td>0.023802</td>\n",
       "      <td>1278.345559</td>\n",
       "      <td>0.004990</td>\n",
       "      <td>0.000908</td>\n",
       "      <td>1278.345559</td>\n",
       "      <td>0.544411</td>\n",
       "      <td>0.002994</td>\n",
       "      <td>0.040419</td>\n",
       "      <td>-2.081668e-17</td>\n",
       "      <td>0.706088</td>\n",
       "      <td>0.178932</td>\n",
       "      <td>0.043987</td>\n",
       "      <td>1323.700848</td>\n",
       "      <td>0.831836</td>\n",
       "      <td>0.678825</td>\n",
       "      <td>0.711397</td>\n",
       "      <td>0.002096</td>\n",
       "      <td>0.364027</td>\n",
       "      <td>0.008548</td>\n",
       "      <td>0.682136</td>\n",
       "      <td>0.039421</td>\n",
       "      <td>0.435629</td>\n",
       "      <td>0.003992</td>\n",
       "      <td>0.171717</td>\n",
       "      <td>1.621257</td>\n",
       "    </tr>\n",
       "    <tr>\n",
       "      <th>3</th>\n",
       "      <td>3</td>\n",
       "      <td>438</td>\n",
       "      <td>8.620350</td>\n",
       "      <td>1003.409817</td>\n",
       "      <td>3.032344</td>\n",
       "      <td>13.323447</td>\n",
       "      <td>33.068269</td>\n",
       "      <td>15.863775</td>\n",
       "      <td>3.250381</td>\n",
       "      <td>33.264323</td>\n",
       "      <td>139.189498</td>\n",
       "      <td>22.748352</td>\n",
       "      <td>149.507074</td>\n",
       "      <td>2.896377</td>\n",
       "      <td>14.217766</td>\n",
       "      <td>6.413623</td>\n",
       "      <td>2.478311</td>\n",
       "      <td>1.187641</td>\n",
       "      <td>3.594087</td>\n",
       "      <td>6.413623</td>\n",
       "      <td>62.216134</td>\n",
       "      <td>12.246982</td>\n",
       "      <td>93.217527</td>\n",
       "      <td>6.413623</td>\n",
       "      <td>10.402207</td>\n",
       "      <td>2.428135</td>\n",
       "      <td>10.626256</td>\n",
       "      <td>6.413623</td>\n",
       "      <td>169.082953</td>\n",
       "      <td>9.271332</td>\n",
       "      <td>0.239197</td>\n",
       "      <td>37.429604</td>\n",
       "      <td>9.219559</td>\n",
       "      <td>0.361210</td>\n",
       "      <td>37.429604</td>\n",
       "      <td>100.436454</td>\n",
       "      <td>5.868562</td>\n",
       "      <td>37.429604</td>\n",
       "      <td>8.208143</td>\n",
       "      <td>1.008368</td>\n",
       "      <td>37.429604</td>\n",
       "      <td>23.165906</td>\n",
       "      <td>0.557405</td>\n",
       "      <td>2.898021</td>\n",
       "      <td>4.694064e-02</td>\n",
       "      <td>60.191400</td>\n",
       "      <td>23.781511</td>\n",
       "      <td>1.048600</td>\n",
       "      <td>1045.316971</td>\n",
       "      <td>15.884323</td>\n",
       "      <td>103.595085</td>\n",
       "      <td>464.854867</td>\n",
       "      <td>8.617572</td>\n",
       "      <td>302.666617</td>\n",
       "      <td>25.914338</td>\n",
       "      <td>497.729452</td>\n",
       "      <td>25.563546</td>\n",
       "      <td>292.226408</td>\n",
       "      <td>19.694825</td>\n",
       "      <td>41.301476</td>\n",
       "      <td>2.952055</td>\n",
       "    </tr>\n",
       "    <tr>\n",
       "      <th>4</th>\n",
       "      <td>4</td>\n",
       "      <td>2</td>\n",
       "      <td>0.039362</td>\n",
       "      <td>2017.000000</td>\n",
       "      <td>0.666667</td>\n",
       "      <td>424.221667</td>\n",
       "      <td>264.973333</td>\n",
       "      <td>23.333333</td>\n",
       "      <td>4.500000</td>\n",
       "      <td>177.568333</td>\n",
       "      <td>163.166667</td>\n",
       "      <td>201.121667</td>\n",
       "      <td>406.138333</td>\n",
       "      <td>44.873333</td>\n",
       "      <td>52.145000</td>\n",
       "      <td>1.166667</td>\n",
       "      <td>7.666667</td>\n",
       "      <td>7.658333</td>\n",
       "      <td>23.768333</td>\n",
       "      <td>1.166667</td>\n",
       "      <td>63.333333</td>\n",
       "      <td>10.941667</td>\n",
       "      <td>78.523333</td>\n",
       "      <td>1.166667</td>\n",
       "      <td>29.333333</td>\n",
       "      <td>23.361667</td>\n",
       "      <td>51.378333</td>\n",
       "      <td>1.166667</td>\n",
       "      <td>90.833333</td>\n",
       "      <td>17.586667</td>\n",
       "      <td>0.933333</td>\n",
       "      <td>0.833333</td>\n",
       "      <td>5.166667</td>\n",
       "      <td>0.140000</td>\n",
       "      <td>0.833333</td>\n",
       "      <td>16.666667</td>\n",
       "      <td>1.000000</td>\n",
       "      <td>0.833333</td>\n",
       "      <td>41.333333</td>\n",
       "      <td>13.008333</td>\n",
       "      <td>0.833333</td>\n",
       "      <td>71.333333</td>\n",
       "      <td>0.080000</td>\n",
       "      <td>16.166667</td>\n",
       "      <td>8.000000e-02</td>\n",
       "      <td>1988.833333</td>\n",
       "      <td>826.788333</td>\n",
       "      <td>46.268333</td>\n",
       "      <td>4.166667</td>\n",
       "      <td>27.833333</td>\n",
       "      <td>839.540333</td>\n",
       "      <td>1318.741667</td>\n",
       "      <td>105.418333</td>\n",
       "      <td>270.530000</td>\n",
       "      <td>230.973333</td>\n",
       "      <td>306.500000</td>\n",
       "      <td>23.000000</td>\n",
       "      <td>73.000000</td>\n",
       "      <td>131.166667</td>\n",
       "      <td>2812.743333</td>\n",
       "      <td>3.000000</td>\n",
       "    </tr>\n",
       "  </tbody>\n",
       "</table>\n",
       "</div>"
      ],
      "text/plain": [
       "   cluster_id  cluster_size  cluster_size_pct  user_lifetime  \\\n",
       "0           0          3033         59.692974    1366.292779   \n",
       "1           1           940         18.500295    5341.159574   \n",
       "2           2           668         13.147018   14951.564621   \n",
       "3           3           438          8.620350    1003.409817   \n",
       "4           4             2          0.039362    2017.000000   \n",
       "\n",
       "   user_no_outgoing_activity_in_days  user_account_balance_last  \\\n",
       "0                           6.842290                  11.501448   \n",
       "1                          44.226241                   7.250312   \n",
       "2                         215.641717                   0.898802   \n",
       "3                           3.032344                  13.323447   \n",
       "4                           0.666667                 424.221667   \n",
       "\n",
       "   user_spendings  reloads_inactive_days  reloads_count  reloads_sum  \\\n",
       "0        6.009703             266.911694       0.777833     6.551145   \n",
       "1        0.959149             841.728014       0.275000     1.395220   \n",
       "2        0.203618             322.618014       0.741766     0.626931   \n",
       "3       33.068269              15.863775       3.250381    33.264323   \n",
       "4      264.973333              23.333333       4.500000   177.568333   \n",
       "\n",
       "   calls_outgoing_count  calls_outgoing_spendings  calls_outgoing_duration  \\\n",
       "0             34.251456                  4.026751                28.071617   \n",
       "1             10.115603                  0.913874                 6.468356   \n",
       "2              0.884481                  0.116951                 0.736831   \n",
       "3            139.189498                 22.748352               149.507074   \n",
       "4            163.166667                201.121667               406.138333   \n",
       "\n",
       "   calls_outgoing_spendings_max  calls_outgoing_duration_max  \\\n",
       "0                      0.934161                     5.273177   \n",
       "1                      0.265518                     1.613475   \n",
       "2                      0.045155                     0.228268   \n",
       "3                      2.896377                    14.217766   \n",
       "4                     44.873333                    52.145000   \n",
       "\n",
       "   calls_outgoing_inactive_days  calls_outgoing_to_onnet_count  \\\n",
       "0                     13.176723                       0.376360   \n",
       "1                     51.564362                       0.054610   \n",
       "2                   1196.275948                       0.001996   \n",
       "3                      6.413623                       2.478311   \n",
       "4                      1.166667                       7.666667   \n",
       "\n",
       "   calls_outgoing_to_onnet_spendings  calls_outgoing_to_onnet_duration  \\\n",
       "0                           0.138339                          0.399307   \n",
       "1                           0.019316                          0.056777   \n",
       "2                           0.000609                          0.002096   \n",
       "3                           1.187641                          3.594087   \n",
       "4                           7.658333                         23.768333   \n",
       "\n",
       "   calls_outgoing_to_onnet_inactive_days  calls_outgoing_to_offnet_count  \\\n",
       "0                              13.176723                       14.906089   \n",
       "1                              51.564362                        3.400000   \n",
       "2                            1196.275948                        0.289421   \n",
       "3                               6.413623                       62.216134   \n",
       "4                               1.166667                       63.333333   \n",
       "\n",
       "   calls_outgoing_to_offnet_spendings  calls_outgoing_to_offnet_duration  \\\n",
       "0                            2.516007                          17.762072   \n",
       "1                            0.546278                           3.902761   \n",
       "2                            0.056023                           0.373214   \n",
       "3                           12.246982                          93.217527   \n",
       "4                           10.941667                          78.523333   \n",
       "\n",
       "   calls_outgoing_to_offnet_inactive_days  calls_outgoing_to_abroad_count  \\\n",
       "0                               13.176723                        1.906253   \n",
       "1                               51.564362                        0.347518   \n",
       "2                             1196.275948                        0.017964   \n",
       "3                                6.413623                       10.402207   \n",
       "4                                1.166667                       29.333333   \n",
       "\n",
       "   calls_outgoing_to_abroad_spendings  calls_outgoing_to_abroad_duration  \\\n",
       "0                            0.277065                           1.164021   \n",
       "1                            0.031752                           0.121319   \n",
       "2                            0.001243                           0.009316   \n",
       "3                            2.428135                          10.626256   \n",
       "4                           23.361667                          51.378333   \n",
       "\n",
       "   calls_outgoing_to_abroad_inactive_days  sms_outgoing_count  \\\n",
       "0                               13.176723           32.594351   \n",
       "1                               51.564362            0.902305   \n",
       "2                             1196.275948            0.658683   \n",
       "3                                6.413623          169.082953   \n",
       "4                                1.166667           90.833333   \n",
       "\n",
       "   sms_outgoing_spendings  sms_outgoing_spendings_max  \\\n",
       "0                1.783565                    0.115295   \n",
       "1                0.043626                    0.003438   \n",
       "2                0.042680                    0.004197   \n",
       "3                9.271332                    0.239197   \n",
       "4               17.586667                    0.933333   \n",
       "\n",
       "   sms_outgoing_inactive_days  sms_outgoing_to_onnet_count  \\\n",
       "0                   38.483460                     2.609353   \n",
       "1                 1132.912589                     0.059929   \n",
       "2                 1278.345559                     0.032435   \n",
       "3                   37.429604                     9.219559   \n",
       "4                    0.833333                     5.166667   \n",
       "\n",
       "   sms_outgoing_to_onnet_spendings  sms_outgoing_to_onnet_inactive_days  \\\n",
       "0                         0.124566                            38.483460   \n",
       "1                         0.003202                          1132.912589   \n",
       "2                         0.001108                          1278.345559   \n",
       "3                         0.361210                            37.429604   \n",
       "4                         0.140000                             0.833333   \n",
       "\n",
       "   sms_outgoing_to_offnet_count  sms_outgoing_to_offnet_spendings  \\\n",
       "0                     20.431916                          1.200096   \n",
       "1                      0.568440                          0.030787   \n",
       "2                      0.423154                          0.023802   \n",
       "3                    100.436454                          5.868562   \n",
       "4                     16.666667                          1.000000   \n",
       "\n",
       "   sms_outgoing_to_offnet_inactive_days  sms_outgoing_to_abroad_count  \\\n",
       "0                             38.483460                      1.479064   \n",
       "1                           1132.912589                      0.052128   \n",
       "2                           1278.345559                      0.004990   \n",
       "3                             37.429604                      8.208143   \n",
       "4                              0.833333                     41.333333   \n",
       "\n",
       "   sms_outgoing_to_abroad_spendings  sms_outgoing_to_abroad_inactive_days  \\\n",
       "0                          0.162627                             38.483460   \n",
       "1                          0.004468                           1132.912589   \n",
       "2                          0.000908                           1278.345559   \n",
       "3                          1.008368                             37.429604   \n",
       "4                         13.008333                              0.833333   \n",
       "\n",
       "   sms_incoming_count  sms_incoming_spendings  sms_incoming_from_abroad_count  \\\n",
       "0           10.528739                0.114331                        1.643642   \n",
       "1            3.024468                0.010493                        0.431560   \n",
       "2            0.544411                0.002994                        0.040419   \n",
       "3           23.165906                0.557405                        2.898021   \n",
       "4           71.333333                0.080000                       16.166667   \n",
       "\n",
       "   sms_incoming_from_abroad_spendings  gprs_session_count  gprs_usage  \\\n",
       "0                        1.673810e-02            7.771623    2.320802   \n",
       "1                        4.198582e-03            0.090071    0.011106   \n",
       "2                       -2.081668e-17            0.706088    0.178932   \n",
       "3                        4.694064e-02           60.191400   23.781511   \n",
       "4                        8.000000e-02         1988.833333  826.788333   \n",
       "\n",
       "   gprs_spendings  gprs_inactive_days  last_100_reloads_count  \\\n",
       "0        0.199389         1182.485438                3.263600   \n",
       "1        0.001649         1294.790426                0.682979   \n",
       "2        0.043987         1323.700848                0.831836   \n",
       "3        1.048600         1045.316971               15.884323   \n",
       "4       46.268333            4.166667               27.833333   \n",
       "\n",
       "   last_100_reloads_sum  last_100_calls_outgoing_duration  \\\n",
       "0             20.457160                         89.904210   \n",
       "1              3.458539                         20.114910   \n",
       "2              0.678825                          0.711397   \n",
       "3            103.595085                        464.854867   \n",
       "4            839.540333                       1318.741667   \n",
       "\n",
       "   last_100_calls_outgoing_to_onnet_duration  \\\n",
       "0                                   1.000824   \n",
       "1                                   0.224798   \n",
       "2                                   0.002096   \n",
       "3                                   8.617572   \n",
       "4                                 105.418333   \n",
       "\n",
       "   last_100_calls_outgoing_to_offnet_duration  \\\n",
       "0                                   58.884788   \n",
       "1                                   12.673876   \n",
       "2                                    0.364027   \n",
       "3                                  302.666617   \n",
       "4                                  270.530000   \n",
       "\n",
       "   last_100_calls_outgoing_to_abroad_duration  last_100_sms_outgoing_count  \\\n",
       "0                                    2.965995                    98.526816   \n",
       "1                                    0.476330                     2.834929   \n",
       "2                                    0.008548                     0.682136   \n",
       "3                                   25.914338                   497.729452   \n",
       "4                                  230.973333                   306.500000   \n",
       "\n",
       "   last_100_sms_outgoing_to_onnet_count  \\\n",
       "0                              8.041323   \n",
       "1                              0.091135   \n",
       "2                              0.039421   \n",
       "3                             25.563546   \n",
       "4                             23.000000   \n",
       "\n",
       "   last_100_sms_outgoing_to_offnet_count  \\\n",
       "0                              62.111825   \n",
       "1                               2.066312   \n",
       "2                               0.435629   \n",
       "3                             292.226408   \n",
       "4                              73.000000   \n",
       "\n",
       "   last_100_sms_outgoing_to_abroad_count  last_100_gprs_usage  n_months  \n",
       "0                               3.690186             4.864428  2.944280  \n",
       "1                               0.109220             0.149000  2.734043  \n",
       "2                               0.003992             0.171717  1.621257  \n",
       "3                              19.694825            41.301476  2.952055  \n",
       "4                             131.166667          2812.743333  3.000000  "
      ]
     },
     "execution_count": 37,
     "metadata": {},
     "output_type": "execute_result"
    }
   ],
   "source": [
    "cluster_centers_pddf"
   ]
  },
  {
   "cell_type": "markdown",
   "metadata": {},
   "source": [
    "Sukuriame kintamąjį kelio su kelio reikšme į failą, kuriame saugosime atstatytus klasterių centrus (pyspark job'uose šią reikšmę perduosime per komandinės eilutės parametrus):"
   ]
  },
  {
   "cell_type": "code",
   "execution_count": 38,
   "metadata": {},
   "outputs": [
    {
     "data": {
      "text/plain": [
       "'../data/cluster_centers_kmeans__k_5.csv'"
      ]
     },
     "execution_count": 38,
     "metadata": {},
     "output_type": "execute_result"
    }
   ],
   "source": [
    "path_cluster_centers = \"../data/cluster_centers_kmeans__k_{}.csv\".format(k)\n",
    "path_cluster_centers"
   ]
  },
  {
   "cell_type": "markdown",
   "metadata": {},
   "source": [
    "Išsaugojame klasterių centrus `csv` formatu"
   ]
  },
  {
   "cell_type": "code",
   "execution_count": 39,
   "metadata": {},
   "outputs": [],
   "source": [
    "cluster_centers_pddf.to_csv(path_cluster_centers, index=False)"
   ]
  },
  {
   "cell_type": "markdown",
   "metadata": {},
   "source": [
    "Šiame Jupyter Notebok galime išvesti failo turinį"
   ]
  },
  {
   "cell_type": "code",
   "execution_count": 40,
   "metadata": {},
   "outputs": [
    {
     "name": "stdout",
     "output_type": "stream",
     "text": [
      "cluster_id,cluster_size,cluster_size_pct,user_lifetime,user_no_outgoing_activity_in_days,user_account_balance_last,user_spendings,reloads_inactive_days,reloads_count,reloads_sum,calls_outgoing_count,calls_outgoing_spendings,calls_outgoing_duration,calls_outgoing_spendings_max,calls_outgoing_duration_max,calls_outgoing_inactive_days,calls_outgoing_to_onnet_count,calls_outgoing_to_onnet_spendings,calls_outgoing_to_onnet_duration,calls_outgoing_to_onnet_inactive_days,calls_outgoing_to_offnet_count,calls_outgoing_to_offnet_spendings,calls_outgoing_to_offnet_duration,calls_outgoing_to_offnet_inactive_days,calls_outgoing_to_abroad_count,calls_outgoing_to_abroad_spendings,calls_outgoing_to_abroad_duration,calls_outgoing_to_abroad_inactive_days,sms_outgoing_count,sms_outgoing_spendings,sms_outgoing_spendings_max,sms_outgoing_inactive_days,sms_outgoing_to_onnet_count,sms_outgoing_to_onnet_spendings,sms_outgoing_to_onnet_inactive_days,sms_outgoing_to_offnet_count,sms_outgoing_to_offnet_spendings,sms_outgoing_to_offnet_inactive_days,sms_outgoing_to_abroad_count,sms_outgoing_to_abroad_spendings,sms_outgoing_to_abroad_inactive_days,sms_incoming_count,sms_incoming_spendings,sms_incoming_from_abroad_count,sms_incoming_from_abroad_spendings,gprs_session_count,gprs_usage,gprs_spendings,gprs_inactive_days,last_100_reloads_count,last_100_reloads_sum,last_100_calls_outgoing_duration,last_100_calls_outgoing_to_onnet_duration,last_100_calls_outgoing_to_offnet_duration,last_100_calls_outgoing_to_abroad_duration,last_100_sms_outgoing_count,last_100_sms_outgoing_to_onnet_count,last_100_sms_outgoing_to_offnet_count,last_100_sms_outgoing_to_abroad_count,last_100_gprs_usage,n_months\r\n",
      "0,3033,59.692973824050384,1366.292779426311,6.8422903615782005,11.501447961314431,6.00970271458402,266.9116935927025,0.7778327288713048,6.5511451807890975,34.25145620397846,4.026750741839763,28.071616661171554,0.9341614463127816,5.273177272227717,13.176722716781825,0.3763600395647877,0.13833882844268566,0.3993065171996907,13.176722716781825,14.906088581162765,2.51600670403341,17.762071656225956,13.176722716781825,1.9062534344433475,0.2770645125837998,1.1640213210242882,13.176722716781825,32.594351027585446,1.7835646774370808,0.11529453786130346,38.483459720848714,2.609352676118257,0.12456643587207386,38.483459720848714,20.431915595120344,1.2000956149027364,38.483459720848714,1.4790636333663048,0.16262666227057945,38.483459720848714,10.528739421914496,0.11433124519177934,1.643642158478954,0.016738103088251487,7.771623255302796,2.3208017364545617,0.19938894383998318,1182.4854379602152,3.2636003956478734,20.45715990768216,89.9042098032751,1.0008237168919623,58.88478788877899,2.96599461479284,98.52681613364106,8.041323222332128,62.11182547532696,3.690185734696119,4.864427959116373,2.944279591163864\r\n",
      "1,940,18.500295217476875,5341.159574468085,44.226241134751774,7.250312056737588,0.9591489361702132,841.7280141843971,0.2749999999999999,1.3952198581560236,10.115602836879436,0.9138741134751767,6.468356382978701,0.2655177304964532,1.6134751773049625,51.5643617021276,0.054609929078014596,0.019315602836879053,0.05677659574467908,51.5643617021276,3.3999999999999844,0.5462783687943276,3.9027606382978473,51.5643617021276,0.34751773049645673,0.03175177304964444,0.12131914893617157,51.5643617021276,0.9023049645390557,0.043625886524825574,0.0034379432624114664,1132.912588652481,0.059929078014191006,0.003202127659574533,1132.912588652481,0.5684397163119996,0.03078723404255146,1132.912588652481,0.052127659574470186,0.004468085106383524,1132.912588652481,3.0244680851063874,0.01049290780141826,0.43156028368794486,0.004198581560283665,0.09007092198582889,0.01110638297872324,0.0016489361702121674,1294.7904255319147,0.682978723404251,3.4585389361702106,20.114909574468044,0.22479787234042203,12.673875886524847,0.4763297872340506,2.834929078014113,0.09113475177306274,2.066312056737715,0.10921985815603241,0.14899999999999292,2.7340425531914896\r\n",
      "2,668,13.147018303483566,14951.564620758469,215.6417165668663,0.8988023952095983,0.2036177644710655,322.6180139720559,0.7417664670658687,0.6269311377245446,0.8844810379241821,0.11695109780439061,0.7368313373252917,0.04515469061876132,0.2282684630738503,1196.2759481037913,0.001996007984032433,0.0006087824351293514,0.0020958083832327556,1196.2759481037913,0.2894211576846004,0.056022954091818455,0.3732135728542474,1196.2759481037913,0.01796407185629212,0.001242514970059505,0.009316367265470804,1196.2759481037913,0.6586826347305887,0.04267964071856367,0.004196606786427123,1278.3455588822358,0.03243512974052276,0.0011077844311377788,1278.3455588822358,0.42315369261475766,0.02380239520957894,1278.3455588822358,0.004990019960082304,0.0009081836327349824,1278.3455588822358,0.5444111776447205,0.0029940119760478168,0.04041916167664872,-2.0816681711721685e-17,0.706087824351286,0.17893213572854982,0.043987025948103775,1323.7008483033933,0.8318363273453073,0.6788248502993994,0.7113972055886961,0.0020958083832307572,0.3640269461078347,0.008547904191621214,0.6821357285428746,0.03942115768463772,0.43562874251502137,0.003992015968061313,0.17171656686627745,1.6212574850299395\r\n",
      "3,438,8.620350324739224,1003.4098173515981,3.032343987823424,13.323447488584474,33.068268645357676,15.863774733637854,3.2503805175038036,33.26432267884323,139.18949771689495,22.748352359208525,149.50707382039576,2.896377473363775,14.217766362252663,6.4136225266362885,2.478310502283103,1.1876407914764073,3.5940867579908686,6.4136225266362885,62.21613394216133,12.246982496194823,93.21752663622527,6.4136225266362885,10.402207001522067,2.4281354642313535,10.626255707762558,6.4136225266362885,169.08295281582951,9.271331811263314,0.23919710806697106,37.429604261796044,9.219558599695588,0.36121004566210047,37.429604261796044,100.43645357686452,5.868561643835616,37.429604261796044,8.208143074581432,1.0083675799086753,37.429604261796044,23.165905631659058,0.557404870624049,2.898021308980213,0.04694063926940639,60.19140030441403,23.781510654490127,1.0485996955859975,1045.3169710806696,15.884322678843226,103.59508477929982,464.85486681887363,8.617572298325724,302.6666171993911,25.91433789954338,497.72945205479454,25.563546423135463,292.2264079147641,19.694824961948257,41.30147640791474,2.9520547945205484\r\n",
      "4,2,0.0393623302499508,2016.9999999999998,0.6666666666666643,424.22166666666664,264.97333333333336,23.33333333333337,4.5,177.56833333333333,163.16666666666669,201.12166666666667,406.1383333333334,44.87333333333333,52.144999999999996,1.1666666666666288,7.666666666666667,7.658333333333335,23.768333333333334,1.1666666666666288,63.33333333333333,10.941666666666665,78.52333333333334,1.1666666666666288,29.333333333333332,23.36166666666667,51.37833333333332,1.1666666666666288,90.83333333333334,17.586666666666666,0.9333333333333333,0.8333333333333144,5.166666666666667,0.14,0.8333333333333144,16.666666666666668,1.0,0.8333333333333144,41.33333333333333,13.008333333333333,0.8333333333333144,71.33333333333333,0.08,16.166666666666664,0.08000000000000002,1988.8333333333335,826.7883333333333,46.26833333333334,4.166666666666515,27.83333333333333,839.5403333333335,1318.7416666666663,105.41833333333334,270.53000000000003,230.97333333333333,306.5,22.999999999999996,73.0,131.16666666666666,2812.743333333334,3.0\r\n"
     ]
    }
   ],
   "source": [
    "! cat ../data/cluster_centers_kmeans__k_5.csv"
   ]
  },
  {
   "cell_type": "markdown",
   "metadata": {},
   "source": [
    "### Duomenų su klasterizavimo rezultatais saugojimas"
   ]
  },
  {
   "cell_type": "markdown",
   "metadata": {},
   "source": [
    "Naudojame apmokytą modelį atliekame klasterių priskyrimą stebėjimams"
   ]
  },
  {
   "cell_type": "code",
   "execution_count": 41,
   "metadata": {},
   "outputs": [
    {
     "data": {
      "text/plain": [
       "DataFrame[user_account_id: int, user_lifetime: double, user_no_outgoing_activity_in_days: double, user_account_balance_last: double, user_spendings: double, reloads_inactive_days: double, reloads_count: double, reloads_sum: double, calls_outgoing_count: double, calls_outgoing_spendings: double, calls_outgoing_duration: double, calls_outgoing_spendings_max: double, calls_outgoing_duration_max: double, calls_outgoing_inactive_days: double, calls_outgoing_to_onnet_count: double, calls_outgoing_to_onnet_spendings: double, calls_outgoing_to_onnet_duration: double, calls_outgoing_to_onnet_inactive_days: double, calls_outgoing_to_offnet_count: double, calls_outgoing_to_offnet_spendings: double, calls_outgoing_to_offnet_duration: double, calls_outgoing_to_offnet_inactive_days: double, calls_outgoing_to_abroad_count: double, calls_outgoing_to_abroad_spendings: double, calls_outgoing_to_abroad_duration: double, calls_outgoing_to_abroad_inactive_days: double, sms_outgoing_count: double, sms_outgoing_spendings: double, sms_outgoing_spendings_max: double, sms_outgoing_inactive_days: double, sms_outgoing_to_onnet_count: double, sms_outgoing_to_onnet_spendings: double, sms_outgoing_to_onnet_inactive_days: double, sms_outgoing_to_offnet_count: double, sms_outgoing_to_offnet_spendings: double, sms_outgoing_to_offnet_inactive_days: double, sms_outgoing_to_abroad_count: double, sms_outgoing_to_abroad_spendings: double, sms_outgoing_to_abroad_inactive_days: double, sms_incoming_count: double, sms_incoming_spendings: double, sms_incoming_from_abroad_count: double, sms_incoming_from_abroad_spendings: double, gprs_session_count: double, gprs_usage: double, gprs_spendings: double, gprs_inactive_days: double, last_100_reloads_count: double, last_100_reloads_sum: double, last_100_calls_outgoing_duration: double, last_100_calls_outgoing_to_onnet_duration: double, last_100_calls_outgoing_to_offnet_duration: double, last_100_calls_outgoing_to_abroad_duration: double, last_100_sms_outgoing_count: double, last_100_sms_outgoing_to_onnet_count: double, last_100_sms_outgoing_to_offnet_count: double, last_100_sms_outgoing_to_abroad_count: double, last_100_gprs_usage: double, user_intake: int, user_has_outgoing_calls: int, user_has_outgoing_sms: int, user_use_gprs: int, user_does_reload: int, n_months: bigint, year: int, month: int, churn: int, initial_features: vector, features: vector, prediction: int]"
      ]
     },
     "execution_count": 41,
     "metadata": {},
     "output_type": "execute_result"
    }
   ],
   "source": [
    "clustered_kmeans_df = model_kmeans.transform(featurized_clustering_df)\n",
    "\n",
    "clustered_kmeans_df"
   ]
  },
  {
   "cell_type": "markdown",
   "metadata": {},
   "source": [
    "`prediction` stulpelis mums bus reikalingas norint apmokyti skirtingus modelius kiekvienam klasteriui. Išskaidyti šį DataFrame į `training`, `validation` ir `testing` imtis visam duomenų rinkiniui ir kiekvienam klasteriui atskirai galima panaudojant pyspark job'ą `churn_predicition/pyspark_jobs/split_for_classification.py`\n",
    "\n",
    "\n",
    "Šiam job'ui reikės nurodyti kelią į DataFrame su priskirtomis klasterių reikšmėmis, todėl DataFrame išsaugojame."
   ]
  },
  {
   "cell_type": "markdown",
   "metadata": {},
   "source": [
    "Matome, kad po `kmeans_model.transform` iškvietimo prie DataFrame prisidėjo papildomas stupelis `prediction`. Stulpelyje `prediction` kiekvienam stebėjimui dabar saugomos jo klasterio, gauto apmokytu KMeans modeliu su $k=5$, reikšmės, indeksuojamos nuo `0` iki `4`:"
   ]
  },
  {
   "cell_type": "code",
   "execution_count": 42,
   "metadata": {},
   "outputs": [
    {
     "name": "stdout",
     "output_type": "stream",
     "text": [
      "+----------+\n",
      "|prediction|\n",
      "+----------+\n",
      "|         0|\n",
      "|         0|\n",
      "|         2|\n",
      "|         4|\n",
      "|         0|\n",
      "|         0|\n",
      "|         0|\n",
      "|         0|\n",
      "|         1|\n",
      "|         0|\n",
      "+----------+\n",
      "\n"
     ]
    }
   ],
   "source": [
    "clustered_kmeans_df.select(clustered_kmeans_df[\"prediction\"]).limit(10).show()"
   ]
  },
  {
   "cell_type": "code",
   "execution_count": 43,
   "metadata": {},
   "outputs": [
    {
     "data": {
      "text/plain": [
       "Row(max(prediction)=4)"
      ]
     },
     "execution_count": 43,
     "metadata": {},
     "output_type": "execute_result"
    }
   ],
   "source": [
    "clustered_kmeans_df.select(pyspark.sql.functions.max(\"prediction\")).first()"
   ]
  },
  {
   "cell_type": "code",
   "execution_count": 44,
   "metadata": {},
   "outputs": [
    {
     "data": {
      "text/plain": [
       "4"
      ]
     },
     "execution_count": 44,
     "metadata": {},
     "output_type": "execute_result"
    }
   ],
   "source": [
    "clustered_kmeans_df.select(pyspark.sql.functions.max(\"prediction\")).first()[0]"
   ]
  },
  {
   "cell_type": "code",
   "execution_count": 45,
   "metadata": {},
   "outputs": [
    {
     "data": {
      "text/plain": [
       "0"
      ]
     },
     "execution_count": 45,
     "metadata": {},
     "output_type": "execute_result"
    }
   ],
   "source": [
    "clustered_kmeans_df.select(pyspark.sql.functions.min(\"prediction\")).first()[0]"
   ]
  },
  {
   "cell_type": "markdown",
   "metadata": {},
   "source": [
    "Sukuriame kintamąjį kelio su kelio reikšme į failą, kuriame saugomise duomenis su klasterizavimo rezultatais (pyspark job'uose šią reikšmę perduosime per komandinės eilutės parametrus):"
   ]
  },
  {
   "cell_type": "code",
   "execution_count": 46,
   "metadata": {},
   "outputs": [
    {
     "data": {
      "text/plain": [
       "'../data/clustered_kmeans__k_5_parquet'"
      ]
     },
     "execution_count": 46,
     "metadata": {},
     "output_type": "execute_result"
    }
   ],
   "source": [
    "path_clustered_df = \"../data/clustered_kmeans__k_{}_parquet\".format(k)\n",
    "path_clustered_df"
   ]
  },
  {
   "cell_type": "markdown",
   "metadata": {},
   "source": [
    "Išsaugojame duomenis `parquet` formatu"
   ]
  },
  {
   "cell_type": "code",
   "execution_count": 47,
   "metadata": {},
   "outputs": [],
   "source": [
    "clustered_kmeans_df.write.parquet(path_clustered_df)"
   ]
  },
  {
   "cell_type": "code",
   "execution_count": 48,
   "metadata": {},
   "outputs": [
    {
     "name": "stdout",
     "output_type": "stream",
     "text": [
      "\u001b[01;34m../data/clustered_kmeans__k_5_parquet\u001b[00m\r\n",
      "├── part-00000-9f47f601-c515-4724-8869-077dc314fd10-c000.snappy.parquet\r\n",
      "├── part-00001-9f47f601-c515-4724-8869-077dc314fd10-c000.snappy.parquet\r\n",
      "├── part-00002-9f47f601-c515-4724-8869-077dc314fd10-c000.snappy.parquet\r\n",
      "├── part-00003-9f47f601-c515-4724-8869-077dc314fd10-c000.snappy.parquet\r\n",
      "├── part-00004-9f47f601-c515-4724-8869-077dc314fd10-c000.snappy.parquet\r\n",
      "├── part-00005-9f47f601-c515-4724-8869-077dc314fd10-c000.snappy.parquet\r\n",
      "├── part-00006-9f47f601-c515-4724-8869-077dc314fd10-c000.snappy.parquet\r\n",
      "└── _SUCCESS\r\n",
      "\r\n",
      "0 directories, 8 files\r\n"
     ]
    }
   ],
   "source": [
    "! tree  ../data/clustered_kmeans__k_5_parquet"
   ]
  },
  {
   "cell_type": "markdown",
   "metadata": {},
   "source": [
    "---"
   ]
  },
  {
   "cell_type": "markdown",
   "metadata": {},
   "source": [
    "**Užduotis**: iš čia naudoto kodo padaryti Apache Spark skriptą kuris nuskaito agreguotus `customer_usage` ir su `customer_churn` apjungtus duomenis ir priima vieną parametrą - kelią į JSON failą, kuriame pateikiame klasterių skaičiaus $K$ reikšmes, išvesties keliai ir/ar kiti reikalingi parameterai - ir apmoko K-vidurkių modelius su nurodytomis $K$ reikšmėmis, įvertina modelių $SSE$ metrikas ir jas išsaugo į failą (jeigu nurodytas metrikų failas jau egzistuoja, skriptas išveda klaidos pranešimą ir baigia darbą). Modeliavimo metu metrikų apskaičiuojamos ir į failą prijungiamos po kiekvieno modelio modelio apmokymo, ne tada kai apmokomi visi modeliai. *JSON* parametrų faile saugome parametrus, kad: \n",
    "- nurodytoje direktorijoje išsaugoti klasterių centrus atskiruose failuose (jeigu direktorija jau egzistuoja, skriptas išveda klaidos pranešimą ir baigia darbą).\n",
    "- nurodytoje direktorijoje išsaugoti duomenų rinkinius su klasterizavimo rezultatais (jeigu direktorija jau egzistuoja, skriptas išveda klaidos pranešimą ir baigia darbą).\n",
    "- nurodytoje direktorijoje išsaugoti apmokytus modelius (apmokyto modelio metodu `.save(...)`) (jeigu direktorija jau egzistuoja, skriptas išveda klaidos pranešimą ir baigia darbą).\n",
    "\n",
    "Rekomenduojame naudoti parametrus JSON faile šiam pyspark job'ui: \n",
    "1. kelias į agreguotus ir apjungtus duomenis (išsaugotus `parquet` formatu) \n",
    "1. kelias į SSE metrikų failą.\n",
    "1. kelias į direktoriją, kurioje bus saugomi klasterių centrai.\n",
    "1. kelias į direktoriją, kurioje bus saugomi duomenų rinkiniai su klasterizavimo rezultatais (DataFrame su `prediction` stulpeliu).\n",
    "1. kelias į direktoriją, kuriaje bus saugomi apmokyti KMeans modeliai."
   ]
  },
  {
   "cell_type": "markdown",
   "metadata": {},
   "source": [
    "**Pastaba** rekomenduojame prieš rašant patį pyspark job'ą, parašyti kodą Jupyter notebook ir išskaidyti jį į 3 lasteles:\n",
    "1. ląstelė su visais komandinės eilutės parametrų kintamaisiais ir jų reikšmėmis\n",
    "1. ląstelė su visa job'o logika ir funkcija, kuri priima pirmoje ląstelėje aprašytus kintamuosius (šią funkciją dekuoruosime [`click`](http://click.pocoo.org/6/) paketu pačiame pyspark job'e. Ląstelės pabaigoje ši funkcija įvykdoma su pirmoje ląstelėje aprašytais kintamaisiais.\n",
    "1. ląstelė, kurioje patikriname ar funckija įvykdė tai ko norėjome. Ląstelėje naudojamos tik Linux shell komandos (pvz. `ls`, `tree -L `, `head -n `, `cat` ir kt.) rašant `!` simbolį prieš komandą, o išvestys tarp komandų atskiriamos įvykdant komandą `! echo \"\\n\\n\"`"
   ]
  }
 ],
 "metadata": {
  "kernelspec": {
   "display_name": "Python 3",
   "language": "python",
   "name": "python3"
  },
  "language_info": {
   "codemirror_mode": {
    "name": "ipython",
    "version": 3
   },
   "file_extension": ".py",
   "mimetype": "text/x-python",
   "name": "python",
   "nbconvert_exporter": "python",
   "pygments_lexer": "ipython3",
   "version": "3.7.3"
  }
 },
 "nbformat": 4,
 "nbformat_minor": 2
}
