{
 "cells": [
  {
   "cell_type": "code",
   "execution_count": 1,
   "metadata": {},
   "outputs": [],
   "source": [
    "%load_ext autoreload\n",
    "%autoreload 2\n",
    "%matplotlib inline"
   ]
  },
  {
   "cell_type": "code",
   "execution_count": 2,
   "metadata": {},
   "outputs": [],
   "source": [
    "import os\n",
    "import operator\n",
    "\n",
    "import jsonlines\n",
    "import pandas as pd\n",
    "import pyspark\n",
    "from pyspark.ml.feature import VectorAssembler, StandardScaler\n",
    "from pyspark.ml.pipeline import Pipeline\n",
    "from pyspark.ml.clustering import KMeans, GaussianMixture"
   ]
  },
  {
   "cell_type": "code",
   "execution_count": 3,
   "metadata": {},
   "outputs": [],
   "source": [
    "spark = (\n",
    "    pyspark.sql.SparkSession\n",
    "    .builder\n",
    "    .appName(\"Python Spark K-means\")\n",
    "    .enableHiveSupport()\n",
    "    .getOrCreate()\n",
    ")"
   ]
  },
  {
   "cell_type": "code",
   "execution_count": 4,
   "metadata": {},
   "outputs": [],
   "source": [
    "path_aggregated_df = \"../data/output/joined/\""
   ]
  },
  {
   "cell_type": "code",
   "execution_count": 5,
   "metadata": {},
   "outputs": [],
   "source": [
    "clustering_df = spark.read.parquet(path_aggregated_df)"
   ]
  },
  {
   "cell_type": "code",
   "execution_count": 8,
   "metadata": {},
   "outputs": [],
   "source": [
    "columns_clustering_features = [\n",
    "    'user_lifetime',\n",
    "    'user_no_outgoing_activity_in_days',\n",
    "    'user_account_balance_last',\n",
    "    'user_spendings',\n",
    "    'reloads_inactive_days',\n",
    "    'reloads_count',\n",
    "    'reloads_sum',\n",
    "    'calls_outgoing_count',\n",
    "    'calls_outgoing_spendings',\n",
    "    'calls_outgoing_duration',\n",
    "    'calls_outgoing_spendings_max',\n",
    "    'calls_outgoing_duration_max',\n",
    "    'calls_outgoing_inactive_days',\n",
    "    'calls_outgoing_to_onnet_count',\n",
    "    'calls_outgoing_to_onnet_spendings',\n",
    "    'calls_outgoing_to_onnet_duration',\n",
    "    'calls_outgoing_to_onnet_inactive_days',\n",
    "    'calls_outgoing_to_offnet_count',\n",
    "    'calls_outgoing_to_offnet_spendings',\n",
    "    'calls_outgoing_to_offnet_duration',\n",
    "    'calls_outgoing_to_offnet_inactive_days',\n",
    "    'calls_outgoing_to_abroad_count',\n",
    "    'calls_outgoing_to_abroad_spendings',\n",
    "    'calls_outgoing_to_abroad_duration',\n",
    "    'calls_outgoing_to_abroad_inactive_days',\n",
    "    'sms_outgoing_count',\n",
    "    'sms_outgoing_spendings',\n",
    "    'sms_outgoing_spendings_max',\n",
    "    'sms_outgoing_inactive_days',\n",
    "    'sms_outgoing_to_onnet_count',\n",
    "    'sms_outgoing_to_onnet_spendings',\n",
    "    'sms_outgoing_to_onnet_inactive_days',\n",
    "    'sms_outgoing_to_offnet_count',\n",
    "    'sms_outgoing_to_offnet_spendings',\n",
    "    'sms_outgoing_to_offnet_inactive_days',\n",
    "    'sms_outgoing_to_abroad_count',\n",
    "    'sms_outgoing_to_abroad_spendings',\n",
    "    'sms_outgoing_to_abroad_inactive_days',\n",
    "    'sms_incoming_count',\n",
    "    'sms_incoming_spendings',\n",
    "    'sms_incoming_from_abroad_count',\n",
    "    'sms_incoming_from_abroad_spendings',\n",
    "    'gprs_session_count',\n",
    "    'gprs_usage',\n",
    "    'gprs_spendings',\n",
    "    'gprs_inactive_days',\n",
    "    'last_100_reloads_count',\n",
    "    'last_100_reloads_sum',\n",
    "    'last_100_calls_outgoing_duration',\n",
    "    'last_100_calls_outgoing_to_onnet_duration',\n",
    "    'last_100_calls_outgoing_to_offnet_duration',\n",
    "    'last_100_calls_outgoing_to_abroad_duration',\n",
    "    'last_100_sms_outgoing_count',\n",
    "    'last_100_sms_outgoing_to_onnet_count',\n",
    "    'last_100_sms_outgoing_to_offnet_count',\n",
    "    'last_100_sms_outgoing_to_abroad_count',\n",
    "    'last_100_gprs_usage',\n",
    "    'n_months'\n",
    "]"
   ]
  },
  {
   "cell_type": "code",
   "execution_count": 12,
   "metadata": {},
   "outputs": [],
   "source": [
    "vector_assembler = VectorAssembler(\n",
    "    inputCols=columns_clustering_features, \n",
    "    outputCol=\"initial_features\")"
   ]
  },
  {
   "cell_type": "code",
   "execution_count": 13,
   "metadata": {},
   "outputs": [],
   "source": [
    "standard_scaler = StandardScaler(\n",
    "    inputCol=\"initial_features\", \n",
    "    outputCol=\"features\", \n",
    "    withStd=True, \n",
    "    withMean=True)"
   ]
  },
  {
   "cell_type": "code",
   "execution_count": 14,
   "metadata": {},
   "outputs": [],
   "source": [
    "vectorized_df = vector_assembler.transform(clustering_df)\n",
    "model_scaler = standard_scaler.fit(vectorized_df)\n",
    "featurized_clustering_df = model_scaler.transform(vectorized_df)"
   ]
  },
  {
   "cell_type": "code",
   "execution_count": 15,
   "metadata": {},
   "outputs": [],
   "source": [
    "featurization_pipeline = Pipeline(stages=[vector_assembler, standard_scaler])"
   ]
  },
  {
   "cell_type": "code",
   "execution_count": 16,
   "metadata": {},
   "outputs": [],
   "source": [
    "featurization_pipeline_model = featurization_pipeline.fit(clustering_df)"
   ]
  },
  {
   "cell_type": "code",
   "execution_count": 17,
   "metadata": {},
   "outputs": [],
   "source": [
    "model_scaler = featurization_pipeline_model.stages[-1]"
   ]
  },
  {
   "cell_type": "code",
   "execution_count": 18,
   "metadata": {},
   "outputs": [],
   "source": [
    "featurized_clustering_df = featurization_pipeline_model.transform(clustering_df)"
   ]
  },
  {
   "cell_type": "code",
   "execution_count": 19,
   "metadata": {},
   "outputs": [],
   "source": [
    "k = 5"
   ]
  },
  {
   "cell_type": "code",
   "execution_count": 20,
   "metadata": {},
   "outputs": [],
   "source": [
    "kmeans = KMeans(featuresCol=\"features\", k=k)"
   ]
  },
  {
   "cell_type": "code",
   "execution_count": 21,
   "metadata": {},
   "outputs": [],
   "source": [
    "model_kmeans = kmeans.fit(featurized_clustering_df)"
   ]
  },
  {
   "cell_type": "code",
   "execution_count": 22,
   "metadata": {},
   "outputs": [],
   "source": [
    "path_metrics_kmeans_sse = \"../data/metrics_kmeans_see.jsonl\""
   ]
  },
  {
   "cell_type": "code",
   "execution_count": 23,
   "metadata": {},
   "outputs": [],
   "source": [
    "sse = model_kmeans.computeCost(featurized_clustering_df)"
   ]
  },
  {
   "cell_type": "code",
   "execution_count": 24,
   "metadata": {},
   "outputs": [],
   "source": [
    "metrics_row = {\"k\": k, \"sse\": sse}\n",
    "\n",
    "with jsonlines.open(path_metrics_kmeans_sse, \"a\") as f:\n",
    "    f.write(metrics_row)"
   ]
  },
  {
   "cell_type": "code",
   "execution_count": 28,
   "metadata": {},
   "outputs": [],
   "source": [
    "normalized_cluster_centers = model_kmeans.clusterCenters()"
   ]
  },
  {
   "cell_type": "code",
   "execution_count": 29,
   "metadata": {},
   "outputs": [],
   "source": [
    "scaler_mean = model_scaler.mean\n",
    "scaler_std = model_scaler.std\n",
    "cluster_sizes = model_kmeans.summary.clusterSizes\n",
    "n_obs = clustering_df.count()"
   ]
  },
  {
   "cell_type": "code",
   "execution_count": 30,
   "metadata": {},
   "outputs": [],
   "source": [
    "denormalized_cluster_centers = [\n",
    "    (cluster_id,) + (size, 100 * size / n_obs) + tuple(center * scaler_std + scaler_mean)\n",
    "    for cluster_id, (size, center) in \n",
    "    enumerate(zip(cluster_sizes, normalized_cluster_centers))\n",
    "]"
   ]
  },
  {
   "cell_type": "code",
   "execution_count": null,
   "metadata": {},
   "outputs": [],
   "source": [
    "cluster_centers_pddf = pd.DataFrame.from_records(denormalized_cluster_centers)\n",
    "cluster_centers_pddf.columns = (\n",
    "    [\"cluster_id\", \"cluster_size\", \"cluster_size_pct\"] + \n",
    "    columns_clustering_features\n",
    ")"
   ]
  },
  {
   "cell_type": "code",
   "execution_count": null,
   "metadata": {},
   "outputs": [],
   "source": [
    "pd.set_option(\"max_columns\", 999)"
   ]
  },
  {
   "cell_type": "code",
   "execution_count": null,
   "metadata": {},
   "outputs": [],
   "source": [
    "path_cluster_centers = \"../data/cluster_centers_kmeans__k_{}.csv\".format(k)"
   ]
  },
  {
   "cell_type": "code",
   "execution_count": null,
   "metadata": {},
   "outputs": [],
   "source": [
    "cluster_centers_pddf.to_csv(path_cluster_centers, index=False)"
   ]
  },
  {
   "cell_type": "code",
   "execution_count": null,
   "metadata": {},
   "outputs": [],
   "source": [
    "clustered_kmeans_df = model_kmeans.transform(featurized_clustering_df)"
   ]
  },
  {
   "cell_type": "code",
   "execution_count": null,
   "metadata": {},
   "outputs": [],
   "source": [
    "path_clustered_df = \"../data/clustered_kmeans__k_{}_parquet\".format(k)"
   ]
  },
  {
   "cell_type": "code",
   "execution_count": null,
   "metadata": {},
   "outputs": [],
   "source": [
    "clustered_kmeans_df.write.parquet(path_clustered_df)"
   ]
  }
 ],
 "metadata": {
  "kernelspec": {
   "display_name": "Python 3",
   "language": "python",
   "name": "python3"
  },
  "language_info": {
   "codemirror_mode": {
    "name": "ipython",
    "version": 3
   },
   "file_extension": ".py",
   "mimetype": "text/x-python",
   "name": "python",
   "nbconvert_exporter": "python",
   "pygments_lexer": "ipython3",
   "version": "3.7.3"
  }
 },
 "nbformat": 4,
 "nbformat_minor": 2
}
